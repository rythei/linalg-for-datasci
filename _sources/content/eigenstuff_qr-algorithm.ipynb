{
 "cells": [
  {
   "cell_type": "markdown",
   "id": "7d6e2dbc",
   "metadata": {},
   "source": [
    "# The QR algorithm for finding eigenvalues and eigenvectors\n",
    "\n",
    "In the previous sections, we discussed finding the eigenvalues and eigenvectors of a matrix $\\boldsymbol{A}$ largely abstractly, without much interest in how we would actually do this in practice. As we saw, we can find the eigenvalues (in theory) by finding the zeros of the degree-$n$ polynomial $p(\\lambda) = \\det(\\boldsymbol{A} - \\lambda \\boldsymbol{I})$. If we had these eigenvalues, say $\\lambda_1,\\dots, \\lambda_n$, then we could find the eigenvectors fairly easily by solving the linear system of equations\n",
    "\n",
    "$$\n",
    "(\\boldsymbol{A} - \\lambda_i \\boldsymbol{I})\\boldsymbol{v} = 0,\n",
    "$$\n",
    "\n",
    "e.g. by using the QR decomposition and backsubstitution. The latter component would be a feasible way to find the eigenvectors in practice if we knew what the eigenvalues were. Unfortunately, finding the zeros of $p(\\lambda)$ this is not a particularly practical approach, beyond the 2- or 3-dimensional case. Instead, we require other algorithms to find the eigenvalues. We saw one method on the homework for doing this called the _power method_. Here we briefly introduce another popular algorithm which uses the QR decomposition called the QR algorithm, which we outline below.\n",
    "\n",
    "$$\n",
    "\\begin{align}\n",
    "&\\underline{\\textbf{QR algorithm}: \\text{find the eigenvalues of an $n\\times n$ matrix $\\boldsymbol{A}$}} \\\\\n",
    "&\\textbf{input}:\\text{$n\\times n$ matrix }\\boldsymbol{A}\\in \\mathbb{R}^{n\\times n} \\\\\n",
    "&\\hspace{0mm} \\text{while $\\boldsymbol{A}$ is not approximately upper triangular:}\\\\\n",
    "&\\hspace{10mm} \\boldsymbol{Q}, \\boldsymbol{R} = \\texttt{qr_decomposition}(\\boldsymbol{A})\\\\\n",
    "&\\hspace{10mm} \\text{update }\\boldsymbol{A} = \\boldsymbol{R}\\boldsymbol{Q}\\\\\n",
    "&\\hspace{0mm} \\text{return } \\text{diag}(\\boldsymbol{A})\\\\\n",
    "\\end{align}\n",
    "$$\n",
    "\n",
    "This algorithm works due to the following two properties. First, note that for a single interation we have\n",
    "\n",
    "$$\n",
    "\\boldsymbol{A}' = \\boldsymbol{RQ} = \\boldsymbol{Q^\\top Q R Q} = \\boldsymbol{Q}^\\top \\boldsymbol{AQ}\n",
    "$$\n",
    "\n",
    "where $\\boldsymbol{Q}$ is an orthogonal matrix. Because the matrices $\\boldsymbol{A}$ and $\\boldsymbol{A}'$ differ only by an orthogonal transformation on either side, they are what we call _similar_ matrices. It turns out that similar matrices always have the same eigenvalues. To see this, let $(\\lambda, \\boldsymbol{v})$ be an eigenvalue/eigenvector pair for $\\boldsymbol{A}'$, and let $\\boldsymbol{A} = \\boldsymbol{Q^\\top\\boldsymbol{A}'\\boldsymbol{Q}}$ be defined as above. Then\n",
    "\n",
    "$$\n",
    "\\lambda\\boldsymbol{v} = \\boldsymbol{A}'\\boldsymbol{v} = \\boldsymbol{QA Q^\\top v} \\iff \\lambda \\boldsymbol{Q^\\top v} = \\boldsymbol{A Q^\\top v}.\n",
    "$$\n",
    "\n",
    "This means that $(\\lambda, \\boldsymbol{Q^\\top v})$ is an eigenvalue/eigenvector pair for the matrix $\\boldsymbol{A}$, and so $\\boldsymbol{A}$ and $\\boldsymbol{A}'$ have the same eigenvalues, and eigenvectors which differ by a factor of $\\boldsymbol{Q}^\\top$. Thus at each iteration in the QR algorithm, the matrices $\\boldsymbol{A}$ have the same eigenvalues.\n",
    "\n",
    "The next step we do not prove, but will show numerically. It turns out that for \"nice\" matrices (in particular, matrices that have distinct eigenvalues), the QR algorithm converges to an upper triangular matrix. Therefore, as we saw in the previous section, we can read off the eigenvalues of this matrix by checking its diagonal entries. Let's see a simple example that illustrates this."
   ]
  },
  {
   "cell_type": "code",
   "execution_count": 1,
   "id": "8c5e3358",
   "metadata": {},
   "outputs": [
    {
     "name": "stdout",
     "output_type": "stream",
     "text": [
      "A at iteration i = 0 is\n",
      "[[11.75853956 -0.27993509  0.01596525]\n",
      " [-0.27993509  1.70902839 -0.01649178]\n",
      " [ 0.01596525 -0.01649178  0.020676  ]]\n",
      "A at iteration i = 1 is\n",
      "[[ 1.17661910e+01 -4.05290472e-02 -2.78273561e-05]\n",
      " [-4.05290472e-02  1.70155295e+00  1.93410417e-04]\n",
      " [-2.78273561e-05  1.93410417e-04  2.04999766e-02]]\n",
      "A at iteration i = 2 is\n",
      "[[ 1.17663508e+01 -5.86050741e-03  4.84826534e-08]\n",
      " [-5.86050741e-03  1.70139319e+00 -2.32905138e-06]\n",
      " [ 4.84826521e-08 -2.32905138e-06  2.04999543e-02]]\n",
      "A at iteration i = 3 is\n",
      "[[ 1.17663542e+01 -8.47417178e-04 -8.44703055e-11]\n",
      " [-8.47417178e-04  1.70138985e+00  2.80622779e-08]\n",
      " [-8.44690120e-11  2.80622777e-08  2.04999543e-02]]\n",
      "A at iteration i = 4 is\n",
      "[[ 1.17663542e+01 -1.22534721e-04  1.48459868e-13]\n",
      " [-1.22534721e-04  1.70138978e+00 -3.38121038e-10]\n",
      " [ 1.47166306e-13 -3.38120795e-10  2.04999543e-02]]\n",
      "A at iteration i = 5 is\n",
      "[[ 1.17663542e+01 -1.77182598e-05 -1.54996544e-15]\n",
      " [-1.77182598e-05  1.70138977e+00  4.07424165e-12]\n",
      " [-2.56400792e-16  4.07399933e-12  2.04999543e-02]]\n",
      "A at iteration i = 6 is\n",
      "[[ 1.17663542e+01 -2.56202265e-06  1.29401173e-15]\n",
      " [-2.56202265e-06  1.70138977e+00 -4.93297196e-14]\n",
      " [ 4.46714794e-19 -4.90873997e-14  2.04999543e-02]]\n",
      "A at iteration i = 7 is\n",
      "[[ 1.17663542e+01 -3.70463023e-07 -1.29356585e-15]\n",
      " [-3.70463022e-07  1.70138977e+00  8.33771108e-16]\n",
      " [-7.78289747e-22  5.91451449e-16  2.04999543e-02]]\n",
      "A at iteration i = 8 is\n",
      "[[ 1.17663542e+01 -5.35681653e-08  1.29356508e-15]\n",
      " [-5.35681644e-08  1.70138977e+00 -2.49445985e-16]\n",
      " [ 1.35597687e-24 -7.12636683e-18  2.04999543e-02]]\n",
      "A at iteration i = 9 is\n",
      "[[ 1.17663542e+01 -7.74584344e-09 -1.29356508e-15]\n",
      " [-7.74584254e-09  1.70138977e+00  2.42405477e-16]\n",
      " [-2.36245343e-27  8.58652122e-20  2.04999543e-02]]\n"
     ]
    }
   ],
   "source": [
    "import numpy as np\n",
    "\n",
    "A = np.random.normal(size= (3,3))\n",
    "A = np.dot(A.T, A)\n",
    "\n",
    "for i in range(10):\n",
    "    Q,R = np.linalg.qr(A)\n",
    "    A = np.dot(R,Q)\n",
    "    print('A at iteration i = %s is' % i)\n",
    "    print(A)"
   ]
  },
  {
   "cell_type": "markdown",
   "id": "5cd1e3c7",
   "metadata": {},
   "source": [
    "As we can see, the lower triangular portion of $\\boldsymbol{A}$ is becoming closer and closer to zero after more iterations. Hence, since the eigenvalues are unchanged at each iteration, we can read of the eigenvalues of $\\boldsymbol{A}$ from the eigenvalues of the (approximately) triangular matrix that we get after several iterations. Let's now implement our own `eigenvalue_decomposition_qr` function which uses the QR algorthm to find the eigenvalues of a matrix $\\boldsymbol{A}$."
   ]
  },
  {
   "cell_type": "code",
   "execution_count": 2,
   "id": "5b4837ef",
   "metadata": {},
   "outputs": [],
   "source": [
    "def eigenvalue_decomposition_qr(A):\n",
    "    '''\n",
    "    find the eigenvalues of a matrix using the QR decomposition\n",
    "    '''\n",
    "    A0 = A\n",
    "\n",
    "    # first implement the QR algorithm\n",
    "    while not np.allclose(A0, np.triu(A0)):\n",
    "        Q,R = np.linalg.qr(A0)\n",
    "        A0 = np.dot(R, Q)\n",
    "\n",
    "    values = np.diag(A0)\n",
    "    return values"
   ]
  },
  {
   "cell_type": "markdown",
   "id": "e2223fa8",
   "metadata": {},
   "source": [
    "Now let's test our implementation against the usual numpy `eig` function."
   ]
  },
  {
   "cell_type": "code",
   "execution_count": 3,
   "id": "4e4b95df",
   "metadata": {},
   "outputs": [
    {
     "name": "stdout",
     "output_type": "stream",
     "text": [
      "[23.01189905 14.16093533  4.93668768  0.53019196  0.35781823]\n",
      "[23.01189905 14.16093533  4.93668768  0.53019196  0.35781823]\n"
     ]
    }
   ],
   "source": [
    "A = np.random.normal(size=(5,5))\n",
    "A = np.dot(A.T, A)\n",
    "\n",
    "values_qr = eigenvalue_decomposition_qr(A)\n",
    "print(values_qr)\n",
    "\n",
    "values, vectors = np.linalg.eig(A)\n",
    "print(values)"
   ]
  },
  {
   "cell_type": "markdown",
   "id": "7d1341e2",
   "metadata": {},
   "source": [
    "Indeed, the two algorithms give the same output (though potentially not ordered in the same way)."
   ]
  }
 ],
 "metadata": {
  "jupytext": {
   "text_representation": {
    "extension": ".md",
    "format_name": "myst",
    "format_version": 0.12,
    "jupytext_version": "1.9.1"
   }
  },
  "kernelspec": {
   "display_name": "Python 3",
   "language": "python",
   "name": "python3"
  },
  "language_info": {
   "codemirror_mode": {
    "name": "ipython",
    "version": 3
   },
   "file_extension": ".py",
   "mimetype": "text/x-python",
   "name": "python",
   "nbconvert_exporter": "python",
   "pygments_lexer": "ipython3",
   "version": "3.9.5"
  },
  "source_map": [
   12,
   51,
   62,
   66,
   80,
   84,
   93
  ]
 },
 "nbformat": 4,
 "nbformat_minor": 5
}