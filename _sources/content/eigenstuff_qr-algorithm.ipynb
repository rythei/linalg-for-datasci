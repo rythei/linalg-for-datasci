{
 "cells": [
  {
   "cell_type": "markdown",
   "id": "c29ed06b",
   "metadata": {},
   "source": [
    "# The QR algorithm for finding eigenvalues and eigenvectors\n",
    "\n",
    "In the previous sections, we discussed finding the eigenvalues and eigenvectors of a matrix $\\boldsymbol{A}$ largely abstractly, without much interest in how we would actually do this in practice. As we saw, we can find the eigenvalues (in theory) by finding the zeros of the degree-$n$ polynomial $p(\\lambda) = \\det(\\boldsymbol{A} - \\lambda \\boldsymbol{I})$. If we had these eigenvalues, say $\\lambda_1,\\dots, \\lambda_n$, then we could find the eigenvectors fairly easily by solving the linear system of equations\n",
    "\n",
    "$$\n",
    "(\\boldsymbol{A} - \\lambda_i \\boldsymbol{I})\\boldsymbol{v} = 0,\n",
    "$$\n",
    "\n",
    "e.g. by using the QR decomposition and backsubstitution. The latter component would be a feasible way to find the eigenvectors in practice if we knew what the eigenvalues were. Unfortunately, finding the zeros of $p(\\lambda)$ this is not a particularly practical approach, beyond the 2- or 3-dimensional case. Instead, we require other algorithms to find the eigenvalues. We saw one method on the homework for doing this called the _power method_. Here we briefly introduce another popular algorithm which uses the QR decomposition called the QR algorithm, which we outline below.\n",
    "\n",
    "$$\n",
    "\\begin{align}\n",
    "&\\underline{\\textbf{QR algorithm}: \\text{find the eigenvalues of an $n\\times n$ matrix $\\boldsymbol{A}$}} \\\\\n",
    "&\\textbf{input}:\\text{$n\\times n$ matrix }\\boldsymbol{A}\\in \\mathbb{R}^{n\\times n} \\\\\n",
    "&\\hspace{0mm} \\text{while $\\boldsymbol{A}$ is not approximately upper triangular:}\\\\\n",
    "&\\hspace{10mm} \\boldsymbol{Q}, \\boldsymbol{R} = \\texttt{qr_decomposition}(\\boldsymbol{A})\\\\\n",
    "&\\hspace{10mm} \\text{update }\\boldsymbol{A} = \\boldsymbol{R}\\boldsymbol{Q}\\\\\n",
    "&\\hspace{0mm} \\text{return } \\text{diag}(\\boldsymbol{A})\\\\\n",
    "\\end{align}\n",
    "$$\n",
    "\n",
    "This algorithm works due to the following two properties. First, note that for a single interation we have\n",
    "\n",
    "$$\n",
    "\\boldsymbol{A}' = \\boldsymbol{RQ} = \\boldsymbol{Q^\\top Q R Q} = \\boldsymbol{Q}^\\top \\boldsymbol{AQ}\n",
    "$$\n",
    "\n",
    "where $\\boldsymbol{Q}$ is an orthogonal matrix. Because the matrices $\\boldsymbol{A}$ and $\\boldsymbol{A}'$ differ only by an orthogonal transformation on either side, they are what we call _similar_ matrices. It turns out that similar matrices always have the same eigenvalues. To see this, let $(\\lambda, \\boldsymbol{v})$ be an eigenvalue/eigenvector pair for $\\boldsymbol{A}'$, and let $\\boldsymbol{A} = \\boldsymbol{Q^\\top\\boldsymbol{A}'\\boldsymbol{Q}}$ be defined as above. Then\n",
    "\n",
    "$$\n",
    "\\lambda\\boldsymbol{v} = \\boldsymbol{A}'\\boldsymbol{v} = \\boldsymbol{QA Q^\\top v} \\iff \\lambda \\boldsymbol{Q^\\top v} = \\boldsymbol{A Q^\\top v}.\n",
    "$$\n",
    "\n",
    "This means that $(\\lambda, \\boldsymbol{Q^\\top v})$ is an eigenvalue/eigenvector pair for the matrix $\\boldsymbol{A}$, and so $\\boldsymbol{A}$ and $\\boldsymbol{A}'$ have the same eigenvalues, and eigenvectors which differ by a factor of $\\boldsymbol{Q}^\\top$. Thus at each iteration in the QR algorithm, the matrices $\\boldsymbol{A}$ have the same eigenvalues.\n",
    "\n",
    "The next step we do not prove, but will show numerically. It turns out that for \"nice\" matrices (in particular, matrices that have distinct eigenvalues), the QR algorithm converges to an upper triangular matrix. Therefore, as we saw in the previous section, we can read off the eigenvalues of this matrix by checking its diagonal entries. Let's see a simple example that illustrates this."
   ]
  },
  {
   "cell_type": "code",
   "execution_count": 1,
   "id": "521fe1d6",
   "metadata": {},
   "outputs": [
    {
     "name": "stdout",
     "output_type": "stream",
     "text": [
      "A at iteration i = 0 is\n",
      "[[ 7.71234238  0.4328093  -0.45986342]\n",
      " [ 0.4328093   2.33502058  0.39650358]\n",
      " [-0.45986342  0.39650358  0.68782539]]\n",
      "A at iteration i = 1 is\n",
      "[[ 7.7708052   0.09943855  0.03401482]\n",
      " [ 0.09943855  2.40266519 -0.10451306]\n",
      " [ 0.03401482 -0.10451306  0.56171796]]\n",
      "A at iteration i = 2 is\n",
      "[[ 7.77261870e+00  3.01870029e-02 -2.43547863e-03]\n",
      " [ 3.01870029e-02  2.40666245e+00  2.43277640e-02]\n",
      " [-2.43547863e-03  2.43277640e-02  5.55907196e-01]]\n",
      "A at iteration i = 3 is\n",
      "[[ 7.77277300e+00  9.33739895e-03  1.74100817e-04]\n",
      " [ 9.33739895e-03  2.40681193e+00 -5.61949663e-03]\n",
      " [ 1.74100817e-04 -5.61949663e-03  5.55603421e-01]]\n",
      "A at iteration i = 4 is\n",
      "[[ 7.77278769e+00  2.89112817e-03 -1.24445150e-05]\n",
      " [ 2.89112817e-03  2.40681339e+00  1.29727201e-03]\n",
      " [-1.24445151e-05  1.29727201e-03  5.55587266e-01]]\n",
      "A at iteration i = 5 is\n",
      "[[ 7.77278910e+00  8.95223610e-04  8.89514055e-07]\n",
      " [ 8.95223610e-04  2.40681284e+00 -2.99462533e-04]\n",
      " [ 8.89514056e-07 -2.99462533e-04  5.55586405e-01]]\n",
      "A at iteration i = 6 is\n",
      "[[ 7.77278924e+00  2.77202330e-04 -6.35810211e-08]\n",
      " [ 2.77202330e-04  2.40681275e+00  6.91276774e-05]\n",
      " [-6.35810222e-08  6.91276774e-05  5.55586359e-01]]\n",
      "A at iteration i = 7 is\n",
      "[[ 7.77278925e+00  8.58345791e-05  4.54466712e-09]\n",
      " [ 8.58345791e-05  2.40681274e+00 -1.59573678e-05]\n",
      " [ 4.54466825e-09 -1.59573678e-05  5.55586357e-01]]\n",
      "A at iteration i = 8 is\n",
      "[[ 7.77278925e+00  2.65783301e-05 -3.24844376e-10]\n",
      " [ 2.65783301e-05  2.40681274e+00  3.68358357e-06]\n",
      " [-3.24845509e-10  3.68358357e-06  5.55586357e-01]]\n",
      "A at iteration i = 9 is\n",
      "[[ 7.77278925e+00  8.22987236e-06  2.32182968e-11]\n",
      " [ 8.22987236e-06  2.40681274e+00 -8.50314918e-07]\n",
      " [ 2.32194296e-11 -8.50314918e-07  5.55586357e-01]]\n"
     ]
    }
   ],
   "source": [
    "import numpy as np\n",
    "\n",
    "A = np.random.normal(size= (3,3))\n",
    "A = np.dot(A.T, A)\n",
    "\n",
    "for i in range(10):\n",
    "    Q,R = np.linalg.qr(A)\n",
    "    A = np.dot(R,Q)\n",
    "    print('A at iteration i = %s is' % i)\n",
    "    print(A)"
   ]
  },
  {
   "cell_type": "markdown",
   "id": "f0c6222f",
   "metadata": {},
   "source": [
    "As we can see, the lower triangular portion of $\\boldsymbol{A}$ is becoming closer and closer to zero after more iterations. Hence, since the eigenvalues are unchanged at each iteration, we can read of the eigenvalues of $\\boldsymbol{A}$ from the eigenvalues of the (approximately) triangular matrix that we get after several iterations. Let's now implement our own `eigenvalue_decomposition_qr` function which uses the QR algorthm to find the eigenvalues of a matrix $\\boldsymbol{A}$."
   ]
  },
  {
   "cell_type": "code",
   "execution_count": 2,
   "id": "c8b7e110",
   "metadata": {},
   "outputs": [],
   "source": [
    "def eigenvalue_decomposition_qr(A):\n",
    "    '''\n",
    "    find the eigenvalues of a matrix using the QR decomposition\n",
    "    '''\n",
    "    A0 = A\n",
    "\n",
    "    # first implement the QR algorithm\n",
    "    while not np.allclose(A0, np.triu(A0)):\n",
    "        Q,R = np.linalg.qr(A0)\n",
    "        A0 = np.dot(R, Q)\n",
    "\n",
    "    values = np.diag(A0)\n",
    "    return values"
   ]
  },
  {
   "cell_type": "markdown",
   "id": "8d64c710",
   "metadata": {},
   "source": [
    "Now let's test our implementation against the usual numpy `eig` function."
   ]
  },
  {
   "cell_type": "code",
   "execution_count": 3,
   "id": "b456e253",
   "metadata": {},
   "outputs": [
    {
     "name": "stdout",
     "output_type": "stream",
     "text": [
      "[8.33500495e+00 6.01352864e+00 1.10004483e+00 3.33566574e-01\n",
      " 5.23837528e-03]\n",
      "[8.33500495e+00 6.01352864e+00 3.33566574e-01 5.23837528e-03\n",
      " 1.10004483e+00]\n"
     ]
    }
   ],
   "source": [
    "A = np.random.normal(size=(5,5))\n",
    "A = np.dot(A.T, A)\n",
    "\n",
    "values_qr = eigenvalue_decomposition_qr(A)\n",
    "print(values_qr)\n",
    "\n",
    "values, vectors = np.linalg.eig(A)\n",
    "print(values)"
   ]
  },
  {
   "cell_type": "markdown",
   "id": "a9d345ac",
   "metadata": {},
   "source": [
    "Indeed, the two algorithms give the same output (though potentially not ordered in the same way)."
   ]
  }
 ],
 "metadata": {
  "jupytext": {
   "text_representation": {
    "extension": ".md",
    "format_name": "myst",
    "format_version": 0.12,
    "jupytext_version": "1.9.1"
   }
  },
  "kernelspec": {
   "display_name": "Python 3",
   "language": "python",
   "name": "python3"
  },
  "language_info": {
   "codemirror_mode": {
    "name": "ipython",
    "version": 3
   },
   "file_extension": ".py",
   "mimetype": "text/x-python",
   "name": "python",
   "nbconvert_exporter": "python",
   "pygments_lexer": "ipython3",
   "version": "3.9.5"
  },
  "source_map": [
   12,
   51,
   62,
   66,
   80,
   84,
   93
  ]
 },
 "nbformat": 4,
 "nbformat_minor": 5
}