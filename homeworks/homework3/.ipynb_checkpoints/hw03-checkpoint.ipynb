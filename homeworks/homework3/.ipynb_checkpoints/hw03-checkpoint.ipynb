{
 "cells": [
  {
   "cell_type": "markdown",
   "id": "relevant-bowling",
   "metadata": {},
   "source": [
    "# Homework 3 Computational Problems"
   ]
  },
  {
   "cell_type": "markdown",
   "id": "virtual-wedding",
   "metadata": {},
   "source": [
    "## Problem 1: norm-based classifiers\n",
    "\n",
    "In this problem, we investigate norm-based classifiers similar to the ones considered in the online book (see https://rythei.github.io/linalg-for-datasci/content/basicLA_1_classification-with-norms.html).\n",
    "\n",
    "In particular, we consider a dataset generated using the following function."
   ]
  },
  {
   "cell_type": "code",
   "execution_count": 4,
   "id": "alpha-number",
   "metadata": {},
   "outputs": [],
   "source": [
    "import numpy as np\n",
    "import matplotlib.pyplot as plt\n",
    "\n",
    "def make_diamonds(n_samples=500, noise=0.1):\n",
    "    n_p = n_samples // 2\n",
    "    n_n = n_samples - n_p\n",
    "    \n",
    "    q1 = .8\n",
    "    q2 = 1.2\n",
    "    \n",
    "    xp = np.random.laplace(size=(n_p,2))\n",
    "    xp /= np.linalg.norm(xp, ord=1, axis=1)[:,None]/q1\n",
    "    xp += noise*np.random.normal(size=xp.shape)\n",
    "    yp = np.ones(n_p)\n",
    "    \n",
    "    xn = np.random.laplace(size=(n_n,2))\n",
    "    xn /= np.linalg.norm(xn, ord=1, axis=1)[:,None]/q2\n",
    "    xn += noise*np.random.normal(size=xn.shape)\n",
    "    yn = np.zeros(n_n)\n",
    "    \n",
    "    x = np.concatenate((xp,xn))\n",
    "    y = np.concatenate((yp,yn))\n",
    "    \n",
    "    return x, y"
   ]
  },
  {
   "cell_type": "markdown",
   "id": "compound-zealand",
   "metadata": {},
   "source": [
    "The function takes two parameters: `n_samples` and `noise`, which can be varied to generate different datasets. We show an example below."
   ]
  },
  {
   "cell_type": "code",
   "execution_count": 6,
   "id": "eight-rover",
   "metadata": {},
   "outputs": [
    {
     "data": {
      "image/png": "[encoded data removed]",
      "text/plain": [
       "<Figure size 432x288 with 1 Axes>"
      ]
     },
     "metadata": {
      "needs_background": "light"
     },
     "output_type": "display_data"
    }
   ],
   "source": [
    "x,y = make_diamonds(n_samples=500, noise=0.1)\n",
    "\n",
    "for label in [0,1]:\n",
    "    plt.scatter(x[y==label,0], x[y==label,1], label=f'label={label}')\n",
    "    \n",
    "plt.legend()\n",
    "plt.axis('equal')\n",
    "plt.show()"
   ]
  },
  {
   "cell_type": "markdown",
   "id": "helpful-height",
   "metadata": {},
   "source": [
    "We will evaluate classifiers (i.e. functions which take in an input $\\boldsymbol{x}\\in \\mathbb{R}^2$ and return a label $y\\in \\{0,1\\}$) of the following form:\n",
    "\n",
    "$$\n",
    "C_{t,p}(\\boldsymbol{x}) = \\begin{cases}1 &\\text{if }\\|\\boldsymbol{x}\\|_p \\leq t\\\\ 0 &\\text{if }\\|\\boldsymbol{x}\\|_p>t \\end{cases}\n",
    "$$\n",
    "\n",
    "where here $\\|\\boldsymbol{x}\\|_p = (|x_1|^p + |x_2|^p)^{1/p}$ is the $p$-norm in 2-dimensions.\n",
    "\n",
    "Your goal is to find values of $p$ and $t$ that yield the smallest misclassification rate, which is given by\n",
    "\n",
    "$$\n",
    "\\text{Misclassification Rate} = \\frac{1}{n}\\sum_{i=1}^n \\mathbb{1}(C_{t,p}(\\boldsymbol{x}_i)\\neq y_i).\n",
    "$$\n",
    "\n",
    "To do this, evaluate the misclasssification rate of the classifier $C_{t,p}$ for $p=1,2,\\infty$ and $t = 0.1,0.15,0.2,\\dots, 1.5$. For each value of $p$, plot the misclassification rate of the classifier $C_{t,p}$ as a function of $t$. Which $p$-norm attains the lowest misclassification rate, and at what value of $t$? Explain why your answer makes sense, given the structure of the data. (For this problem, you can use the same dataset generated above, with `n_samples=500` and `noise=0.1`)."
   ]
  },
  {
   "cell_type": "code",
   "execution_count": null,
   "id": "shaped-draft",
   "metadata": {},
   "outputs": [],
   "source": []
  },
  {
   "cell_type": "markdown",
   "id": "younger-jurisdiction",
   "metadata": {},
   "source": [
    "## Problem 2: changing bases\n",
    "\n",
    "Typically, when we write a vector $\\boldsymbol{x} = (x_1, x_2)$ in $\\mathbb{R}^2$, we are implicitly representing this vector with respect to the standard basis $\\boldsymbol{e}_1 = (1,0),\\;\\;\\; \\boldsymbol{e}_2 = (0,1).$\n",
    "This is because we have the relation $\\boldsymbol{x} = x_1 \\boldsymbol{e}_1 + x_2 \\boldsymbol{e}_2$. However, this is not the only way that we can represent this same vector. Given any two vectors $\\boldsymbol{u} = (u_1, u_2)$ and $\\boldsymbol{v} = (v_1, v_2)$ which form a basis for $\\mathbb{R}^2$, there exist scalars $\\alpha, \\beta$ such that $\\boldsymbol{x} = \\alpha \\boldsymbol{u} + \\beta \\boldsymbol{v}.$ \n",
    "The vector $(\\alpha,\\beta)$ are called the _coordinates of $\\boldsymbol{x}$ with respect to the basis_ $\\{\\boldsymbol{u},\\boldsymbol{v}\\}$. Given the vectors $\\boldsymbol{u},\\boldsymbol{v}$ and the representation of $\\boldsymbol{x}$ with repsect to the standard basis $(x_1,x_2)$, there is a formula we can use to find $(\\alpha,\\beta)$:\n",
    "\n",
    "$$\n",
    "\\alpha = \\frac{x_1v_2 - x_2v_1}{u_1v_2 - v_1u_2},\\;\\;\\; \\beta = \\frac{x_2u_1 - x_1u_2}{u_1v_2 - v_1u_2}\n",
    "$$\n",
    "\n",
    "\n",
    "### Part A\n",
    "Write a Python function `change_of_basis(x,u,v)` which takes in a vector $\\boldsymbol{x}=(x_1,x_2)$ represented in the standard basis and basis vectors $\\boldsymbol{u}=(u_1,u_2), \\boldsymbol{v}= (v_1,v_2)$ and returns the coordinates $(\\alpha,\\beta)$ of $\\boldsymbol{x}$ with respect to the basis $\\{\\boldsymbol{u},\\boldsymbol{v}\\}$."
   ]
  },
  {
   "cell_type": "code",
   "execution_count": null,
   "id": "affiliated-return",
   "metadata": {},
   "outputs": [],
   "source": []
  },
  {
   "cell_type": "markdown",
   "id": "brief-merchandise",
   "metadata": {},
   "source": [
    "### Part B\n",
    "Using your function `change_of_basis`, compute the coordinates $(\\alpha,\\beta)$ of $\\boldsymbol{x} = (-2, 4)$ with respect to the basis $\\boldsymbol{u} = (2, 0)$, $\\boldsymbol{v}=(0,.5)$. Verify that $\\boldsymbol{x} = \\alpha \\boldsymbol{u} + \\beta \\boldsymbol{v}$. How do $\\alpha$ and $\\beta$ relate to the coordinates of $\\boldsymbol{x}$ with repsect to the standard basis?"
   ]
  },
  {
   "cell_type": "code",
   "execution_count": null,
   "id": "considered-dealing",
   "metadata": {},
   "outputs": [],
   "source": []
  },
  {
   "cell_type": "markdown",
   "id": "honest-prisoner",
   "metadata": {},
   "source": [
    "### Part C\n",
    "Using your function `change_of_basis`, compute the coordinates $(\\alpha,\\beta)$ of $\\boldsymbol{x} = (-2, 4)$ with respect to the basis $\\boldsymbol{u} = (2, 1)$, $\\boldsymbol{v}=(1,1)$. Verify that $x = \\alpha \\boldsymbol{u} + \\beta \\boldsymbol{v}$. Is your interpretation of $\\alpha$ and $\\beta$ different from that of part B?"
   ]
  },
  {
   "cell_type": "code",
   "execution_count": null,
   "id": "adopted-marathon",
   "metadata": {},
   "outputs": [],
   "source": []
  },
  {
   "cell_type": "markdown",
   "id": "enormous-recipient",
   "metadata": {},
   "source": [
    "### Part D\n",
    "Try using your function `change_of_basis` to compute the coordinates $(\\alpha,\\beta)$ of $\\boldsymbol{x} = (-2, 4)$ with respect to the vectors $\\boldsymbol{u} = (1, 1)$, $\\boldsymbol{v}=(2,2)$. You should observe that your function gives an error, or doesn't return a valid value. Why is this?"
   ]
  },
  {
   "cell_type": "code",
   "execution_count": null,
   "id": "checked-alabama",
   "metadata": {},
   "outputs": [],
   "source": []
  }
 ],
 "metadata": {
  "kernelspec": {
   "display_name": "Python 3",
   "language": "python",
   "name": "python3"
  },
  "language_info": {
   "codemirror_mode": {
    "name": "ipython",
    "version": 3
   },
   "file_extension": ".py",
   "mimetype": "text/x-python",
   "name": "python",
   "nbconvert_exporter": "python",
   "pygments_lexer": "ipython3",
   "version": "3.9.5"
  }
 },
 "nbformat": 4,
 "nbformat_minor": 5
}
