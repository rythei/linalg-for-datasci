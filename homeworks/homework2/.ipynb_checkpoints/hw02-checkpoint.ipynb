{
 "cells": [
  {
   "cell_type": "markdown",
   "id": "endless-great",
   "metadata": {},
   "source": [
    "# Homework 2 Computational Problems "
   ]
  },
  {
   "cell_type": "markdown",
   "id": "understood-cancer",
   "metadata": {},
   "source": [
    "## Problem 1: The volume of the unit ball in high dimensions\n",
    "\n",
    "Recall the definition of the unit $p$-ball in $n$-dimensions is the following subset of $\\mathbb{R}^n$:\n",
    "\n",
    "$$\n",
    "\\mathcal{B}_{n,p} = \\{\\boldsymbol{x}\\in\\mathbb{R}^n : \\|\\boldsymbol{x}\\|_p \\leq 1\\}\n",
    "$$\n",
    "\n",
    "where the $p$-norm is \n",
    "\n",
    "$$\n",
    "\\|\\boldsymbol{x}\\|_p = \\left(\\sum_{i=1}^n x_i^p\\right)^{1/p}.\n",
    "$$\n",
    "\n",
    "When $p=2$, the unit ball in $n=2$ dimensions is simply the disk centered at the origin with radius $1$, and therefore has area equal to $\\pi$. \n",
    "\n",
    "In this problem, we investigate what happens to the volume of the unit 2-ball as the dimension $n$ grows, and find that it behaves in a surprising way.\n",
    "\n",
    "To do this, perform the following steps:\n",
    "\n",
    "- Define a function `estimate_unit_ball_volume(n)` which estimates the volume of the unit 2-ball in $n$ dimensions using the following approach (analogous to what we did in lab): first, sample $k=1,000,000$ points at random from the unit box $[-1,1]^n$ (you can use the function `np.random.uniform` for this). Then, compute the fraction $q$ of these points which satisfy $\\|\\boldsymbol{x}\\|_2 \\leq 1$. Finally, multiply this number by the volume of the unit box, which is $2^n$, to get an estimate for the volume of $\\mathcal{B}_{n,2}$. \n",
    "- Next, use this function to estimate the volume of $\\mathcal{B}_{n,2}$ for $n=1,2,3,\\dots,15$, and plot the volumes as a function of $n$. \n",
    "\n",
    "What is the general behavior of the volume as a function of $n$? At what value of $n$ is this volume maximized? What appears to happen to the volume as $n$ grows?"
   ]
  },
  {
   "cell_type": "markdown",
   "id": "prescription-humidity",
   "metadata": {},
   "source": [
    "## Problem 2: Where is the mass in the unit ball?\n",
    "\n",
    "In this problem, we look at another suprising phenomenon in higher dimensions: in particular, we will show that the unit ball is essentially \"hollow\". To do this, perform the following simulation.\n",
    "\n",
    "- Define a function `sample_from_unit_ball(n,k)` which generates $k$ random samples from the unit ball $\\mathcal{B}_{n,2}$ in $n$-dimensions. Hint: you can use a very similar approach to the function you wrote in problem 1.\n",
    "- For each $n = 2,4,6,8,10$, generate $k=50,000$ points from $\\mathcal{B}_{n,2}$, compute their norms, and plot a histogram of these values (you can use the `matplotlib` function `plt.hist(data, density=True)` to do this). \n",
    "\n",
    "What do you see happens to the distribution of points? What does this mean geometrically about the unit ball?"
   ]
  }
 ],
 "metadata": {
  "kernelspec": {
   "display_name": "Python 3",
   "language": "python",
   "name": "python3"
  },
  "language_info": {
   "codemirror_mode": {
    "name": "ipython",
    "version": 3
   },
   "file_extension": ".py",
   "mimetype": "text/x-python",
   "name": "python",
   "nbconvert_exporter": "python",
   "pygments_lexer": "ipython3",
   "version": "3.7.7"
  }
 },
 "nbformat": 4,
 "nbformat_minor": 5
}
