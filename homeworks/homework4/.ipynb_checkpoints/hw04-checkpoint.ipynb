{
 "cells": [
  {
   "cell_type": "markdown",
   "id": "980c94c3",
   "metadata": {},
   "source": [
    "# Homework 4 Computational Problems "
   ]
  },
  {
   "cell_type": "markdown",
   "id": "6d9c634b",
   "metadata": {},
   "source": [
    "## Problem 1: matrix multiplication as outer products\n",
    "\n",
    "In class, we saw that matrix multiplication can be accomplished via a sum of _outer products_. Specifically, suppose that $\\boldsymbol{A} \\in \\mathbb{R}^{m\\times n}, \\boldsymbol{B}\\in \\mathbb{R}^{n\\times p}$ are matrices, and denote $\\boldsymbol{a}_{:1},\\dots,\\boldsymbol{a}_{:n}$ as the columns of $\\boldsymbol{A}$ and $\\boldsymbol{b}_{1:},\\dots,\\boldsymbol{b}_{n:}$ as the rows of $\\boldsymbol{B}$. Then we can compute the product $\\boldsymbol{AB}$ using the formula:\n",
    "\n",
    "$$\n",
    "\\boldsymbol{AB} = \\sum_{i=1}^n \\boldsymbol{a}_{:i}\\boldsymbol{b}_{i:}^\\top \n",
    "$$\n",
    "\n",
    "Note that each term $\\boldsymbol{a}_{:i}\\boldsymbol{b}_{i:}^\\top$ is called the _outer product_ of the vectors $\\boldsymbol{a}_{:i}$ and $\\boldsymbol{b}_{i:}$, which is a $m\\times p$ matrix, and that the sum is the usual entry-wise sum over matrices. "
   ]
  },
  {
   "cell_type": "markdown",
   "id": "f1123a8d",
   "metadata": {},
   "source": [
    "### Part A: implementing matrix multiplication with outer products\n",
    "\n",
    "Write a function `op_mat_mul(A,B)` which takes in two numpy arrays $\\boldsymbol{A},\\boldsymbol{B}$ and computes the product $\\boldsymbol{AB}$ using the outer product formula given above (you can use the `numpy` function `np.outer(a,b)` to compute the outer product of two 1-d arrays `a` and `b`). Generate two matrices $\\boldsymbol{A},\\boldsymbol{B}$ (of any dimension you'd like) and verify that your function gives the same output as the `numpy` function `np.dot`. "
   ]
  },
  {
   "cell_type": "code",
   "execution_count": null,
   "id": "39c99f65",
   "metadata": {},
   "outputs": [],
   "source": []
  },
  {
   "cell_type": "markdown",
   "id": "ce7068e0",
   "metadata": {},
   "source": [
    "### Part B: testing the speed of outer product matrix multiplication vs `np.dot`\n",
    "For each $n=20,40,60,\\dots,1000$, generate two $n\\times n$ matrices $\\boldsymbol{A},\\boldsymbol{B}$ and calculate the time required to compute the product $\\boldsymbol{AB}$ using 1) your function `op_mat_mul` and 2) the `numpy` function `np.dot` (see the online workbook for an example of how to calculate computation time in Python). Store the results. For each value, and plot the computation time as a function of $n$ for both functions. Which method is more efficient?"
   ]
  },
  {
   "cell_type": "code",
   "execution_count": null,
   "id": "0d94ceed",
   "metadata": {},
   "outputs": [],
   "source": []
  },
  {
   "cell_type": "markdown",
   "id": "7145ac32",
   "metadata": {},
   "source": [
    "## Problem 2: Be smart about the order when doing matrix multiplications\n",
    "You can use the function `np.dot` to compute the matrix product of two or more arrays by nesting functions. For example we can compute the product $\\boldsymbol{ABC}$ using:"
   ]
  },
  {
   "cell_type": "code",
   "execution_count": 9,
   "id": "b52e169c",
   "metadata": {},
   "outputs": [],
   "source": [
    "A = np.random.random((100, 100))\n",
    "B = np.random.random((100, 100))\n",
    "C = np.random.random((100, 5))\n",
    "\n",
    "ABC_v1 = np.dot(np.dot(A,B),C) #first compute AB, then multiply by C on the right"
   ]
  },
  {
   "cell_type": "markdown",
   "id": "cdf8ee74",
   "metadata": {},
   "source": [
    "However, we could equivalently calculate this as"
   ]
  },
  {
   "cell_type": "code",
   "execution_count": 11,
   "id": "8d4ae81f",
   "metadata": {},
   "outputs": [
    {
     "name": "stdout",
     "output_type": "stream",
     "text": [
      "True\n"
     ]
    }
   ],
   "source": [
    "ABC_v2 = np.dot(A, np.dot(B,C)) #first compute BC, then multipy by A on the left\n",
    "print(np.allclose(ABC_v1, ABC_v2))"
   ]
  },
  {
   "cell_type": "markdown",
   "id": "17790ae6",
   "metadata": {},
   "source": [
    "While the two methods yield the same result, they are not equivalent in terms of speed. Find the best order for computing the product $\\boldsymbol{ABCD}$ for the following 4 matrices. (Hint: the computation should take less than a second.) Why do you think this is the fastest method?"
   ]
  },
  {
   "cell_type": "code",
   "execution_count": null,
   "id": "4c62e1a5",
   "metadata": {},
   "outputs": [],
   "source": [
    "A = np.random.random((20000, 100))\n",
    "B = np.random.random((100, 1000))\n",
    "C = np.random.random((1000, 5))\n",
    "D = np.random.random((5, 5))"
   ]
  }
 ],
 "metadata": {
  "kernelspec": {
   "display_name": "Python 3",
   "language": "python",
   "name": "python3"
  },
  "language_info": {
   "codemirror_mode": {
    "name": "ipython",
    "version": 3
   },
   "file_extension": ".py",
   "mimetype": "text/x-python",
   "name": "python",
   "nbconvert_exporter": "python",
   "pygments_lexer": "ipython3",
   "version": "3.9.5"
  }
 },
 "nbformat": 4,
 "nbformat_minor": 5
}
