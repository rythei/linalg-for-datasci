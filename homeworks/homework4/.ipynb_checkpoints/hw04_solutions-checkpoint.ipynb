{
 "cells": [
  {
   "cell_type": "markdown",
   "id": "e67e32e4",
   "metadata": {},
   "source": [
    "# Homework 4 Computational Problems "
   ]
  },
  {
   "cell_type": "markdown",
   "id": "e45d3778",
   "metadata": {},
   "source": [
    "## Problem 1: matrix multiplication as outer products\n",
    "\n",
    "In class, we saw that matrix multiplication can be accomplished via a sum of _outer products_. Specifically, suppose that $\\boldsymbol{A} \\in \\mathbb{R}^{m\\times n}, \\boldsymbol{B}\\in \\mathbb{R}^{n\\times p}$ are matrices, and denote $\\boldsymbol{a}_{:1},\\dots,\\boldsymbol{a}_{:n}$ as the columns of $\\boldsymbol{A}$ and $\\boldsymbol{b}_{1:},\\dots,\\boldsymbol{b}_{n:}$ as the rows of $\\boldsymbol{B}$. Then we can compute the product $\\boldsymbol{AB}$ using the formula:\n",
    "\n",
    "$$\n",
    "\\boldsymbol{AB} = \\sum_{i=1}^n \\boldsymbol{a}_{:i}\\boldsymbol{b}_{i:}^\\top \n",
    "$$\n",
    "\n",
    "Note that each term $\\boldsymbol{a}_{:i}\\boldsymbol{b}_{i:}^\\top$ is a $m\\times p$ matrix, and that the sum is the usual entry-wise sum over matrices. "
   ]
  },
  {
   "cell_type": "markdown",
   "id": "2d1ba5fc",
   "metadata": {},
   "source": [
    "### Part A: implementing matrix multiplication with outer products\n",
    "\n",
    "Write a function `op_mat_mul(A,B)` which takes in two numpy arrays $\\boldsymbol{A},\\boldsymbol{B}$ and computes the product $\\boldsymbol{AB}$ using the outer product given above. Generate two matrices $\\boldsymbol{A},\\boldsymbol{B}$ (of any dimension you'd like) and verify that your function gives the same output as the `numpy` function `np.dot`. "
   ]
  },
  {
   "cell_type": "code",
   "execution_count": 2,
   "id": "49186d73",
   "metadata": {},
   "outputs": [
    {
     "name": "stdout",
     "output_type": "stream",
     "text": [
      "True\n"
     ]
    }
   ],
   "source": [
    "import numpy as np\n",
    "\n",
    "def op_mat_mul(A,B):\n",
    "    AB = np.zeros((A.shape[0],B.shape[1]))\n",
    "    for i in range(A.shape[1]):\n",
    "        AB = AB + np.outer(A[:,i], B[i,:])\n",
    "    return AB\n",
    "\n",
    "m,n,p = 5,4,3\n",
    "A = np.random.normal(size=(m,n))\n",
    "B = np.random.normal(size=(n,p))\n",
    "\n",
    "print(np.allclose(op_mat_mul(A,B),np.dot(A,B)))"
   ]
  },
  {
   "cell_type": "markdown",
   "id": "428d742f",
   "metadata": {},
   "source": [
    "### Part B: testing the speed of outer product matrix multiplication vs `np.dot`\n",
    "For each $n=20,40,60,\\dots,1000$, generate two $n\\times n$ matrices $\\boldsymbol{A},\\boldsymbol{B}$ and calculate the time required to compute the product $\\boldsymbol{AB}$ using 1) your function `op_mat_mul` and 2) the `numpy` function `np.dot` (see the online workbook for an example of how to calculate computation time in Python). Store the results. For each value, and plot the computation time as a function of $n$ for both functions. Which method is more efficient?"
   ]
  },
  {
   "cell_type": "code",
   "execution_count": null,
   "id": "ece70325",
   "metadata": {},
   "outputs": [],
   "source": [
    "import matplotlib.pyplot as plt\n",
    "import seaborn as sns\n",
    "import time\n",
    "sns.set_style('whitegrid')\n",
    "sns.set_palette('Set2')\n",
    "\n",
    "time_slow = []\n",
    "time_fast = []\n",
    "for n in np.arange(20,1020,20):\n",
    "    A = np.random.randn((n,n))\n",
    "    B = np.random.randn((n,n))"
   ]
  }
 ],
 "metadata": {
  "kernelspec": {
   "display_name": "Python 3",
   "language": "python",
   "name": "python3"
  },
  "language_info": {
   "codemirror_mode": {
    "name": "ipython",
    "version": 3
   },
   "file_extension": ".py",
   "mimetype": "text/x-python",
   "name": "python",
   "nbconvert_exporter": "python",
   "pygments_lexer": "ipython3",
   "version": "3.9.5"
  }
 },
 "nbformat": 4,
 "nbformat_minor": 5
}
