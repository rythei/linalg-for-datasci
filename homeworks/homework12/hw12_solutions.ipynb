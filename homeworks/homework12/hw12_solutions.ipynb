{
 "cells": [
  {
   "cell_type": "markdown",
   "id": "4cc47207",
   "metadata": {},
   "source": [
    "# Homework 12 Computational Problems"
   ]
  },
  {
   "cell_type": "markdown",
   "id": "b6aab3d1",
   "metadata": {},
   "source": [
    "## Linear Regression on Boston Housing data\n",
    "\n",
    "Let's apply what we've learned about linear regression to an actual dataset, the Boston housing dataset (see https://www.cs.toronto.edu/~delve/data/boston/bostonDetail.html for a description), which is loaded below. "
   ]
  },
  {
   "cell_type": "code",
   "execution_count": 15,
   "id": "4131bc58",
   "metadata": {
    "scrolled": true
   },
   "outputs": [
    {
     "name": "stderr",
     "output_type": "stream",
     "text": [
      "/Users/rythei/opt/miniconda3/lib/python3.9/site-packages/sklearn/utils/deprecation.py:87: FutureWarning: Function load_boston is deprecated; `load_boston` is deprecated in 1.0 and will be removed in 1.2.\n",
      "\n",
      "    The Boston housing prices dataset has an ethical problem. You can refer to\n",
      "    the documentation of this function for further details.\n",
      "\n",
      "    The scikit-learn maintainers therefore strongly discourage the use of this\n",
      "    dataset unless the purpose of the code is to study and educate about\n",
      "    ethical issues in data science and machine learning.\n",
      "\n",
      "    In this special case, you can fetch the dataset from the original\n",
      "    source::\n",
      "\n",
      "        import pandas as pd\n",
      "        import numpy as np\n",
      "\n",
      "\n",
      "        data_url = \"http://lib.stat.cmu.edu/datasets/boston\"\n",
      "        raw_df = pd.read_csv(data_url, sep=\"\\s+\", skiprows=22, header=None)\n",
      "        data = np.hstack([raw_df.values[::2, :], raw_df.values[1::2, :2]])\n",
      "        target = raw_df.values[1::2, 2]\n",
      "\n",
      "    Alternative datasets include the California housing dataset (i.e.\n",
      "    :func:`~sklearn.datasets.fetch_california_housing`) and the Ames housing\n",
      "    dataset. You can load the datasets as follows::\n",
      "\n",
      "        from sklearn.datasets import fetch_california_housing\n",
      "        housing = fetch_california_housing()\n",
      "\n",
      "    for the California housing dataset and::\n",
      "\n",
      "        from sklearn.datasets import fetch_openml\n",
      "        housing = fetch_openml(name=\"house_prices\", as_frame=True)\n",
      "\n",
      "    for the Ames housing dataset.\n",
      "    \n",
      "  warnings.warn(msg, category=FutureWarning)\n"
     ]
    }
   ],
   "source": [
    "# Run this cell without changing anything.\n",
    "from sklearn.datasets import load_boston\n",
    "import numpy as np\n",
    "\n",
    "boston_dataset = load_boston()\n",
    "\n",
    "X = boston_dataset.data\n",
    "y = boston_dataset.target\n",
    "X = np.delete(X, [11], axis=1)\n",
    "n,p = X.shape"
   ]
  },
  {
   "cell_type": "markdown",
   "id": "4af97880",
   "metadata": {},
   "source": [
    "As we see, this dataset has $p=12$ predictor variables, and $n=506$ samples."
   ]
  },
  {
   "cell_type": "markdown",
   "id": "0c564e97",
   "metadata": {},
   "source": [
    "### Part 1 Adding a column of ones\n",
    "\n",
    "In the cell below, append a column of 1's to the matrix $\\mathbf{X}$."
   ]
  },
  {
   "cell_type": "code",
   "execution_count": 16,
   "id": "1b51595b",
   "metadata": {},
   "outputs": [
    {
     "data": {
      "text/plain": [
       "(506, 13)"
      ]
     },
     "execution_count": 16,
     "metadata": {},
     "output_type": "execute_result"
    }
   ],
   "source": [
    "X = np.append(X, np.ones(X.shape[0]).reshape(-1,1), 1)\n",
    "X.shape"
   ]
  },
  {
   "cell_type": "markdown",
   "id": "ced5aeea",
   "metadata": {},
   "source": [
    "### Part 2 Computing the least squares coefficients\n",
    "\n",
    "Recall the to solution to the least-squares problem is given by:\n",
    "\n",
    "$$\n",
    "\\hat{\\boldsymbol{b}} = (\\boldsymbol{X^\\top X})^{-1}\\boldsymbol{X^\\top y} = \\text{argmin}_{\\boldsymbol{b}} \\|\\boldsymbol{Xb} - \\boldsymbol{y}\\|_2^2 \n",
    "$$\n",
    "\n",
    "\n",
    "Compute the least squares coefficients for the data housing data."
   ]
  },
  {
   "cell_type": "code",
   "execution_count": 17,
   "id": "e9125a79",
   "metadata": {},
   "outputs": [],
   "source": [
    "b_hat = np.dot(np.linalg.inv(X.T@X)@X.T, y)"
   ]
  },
  {
   "cell_type": "markdown",
   "id": "611f5b8b",
   "metadata": {},
   "source": [
    "### Part 3 Plotting residuals\n",
    "\n",
    "Next, we look at one important way to visualize the the quality of the fit from least squares using the _residuals_. The residuals are defined as the difference between the predicted $y$ values and the true $y$ values:\n",
    "\n",
    "$$\n",
    "\\mathbf{e} = \\mathbf{y} - \\hat{\\mathbf{y}} = \\mathbf{y} - \\mathbf{X}\\hat{\\mathbf{b}}\n",
    "$$\n",
    "\n",
    "In the cell below, fill in the function ```compute_residuals``` to compute this vector of residuals for a given data matrix $\\mathbf{X}$, response vector $\\mathbf{y}$ and coefficient vector $\\hat{\\mathbf{b}}$."
   ]
  },
  {
   "cell_type": "code",
   "execution_count": 18,
   "id": "14c2bf64",
   "metadata": {},
   "outputs": [],
   "source": [
    "def compute_residuals(X, y, b):\n",
    "    '''\n",
    "    Arguments:\n",
    "        X: n x (p+1) array of predictor variables\n",
    "        y: length n array of respones\n",
    "        b: length (p+1) array of regression coefficients\n",
    "    Returns:\n",
    "        array e containing residuals y - y_hat\n",
    "    '''\n",
    "    return y - np.dot(X, b)"
   ]
  },
  {
   "cell_type": "markdown",
   "id": "2a09ec78",
   "metadata": {},
   "source": [
    "Next, let's use this function to plot the residuals:"
   ]
  },
  {
   "cell_type": "code",
   "execution_count": 19,
   "id": "2528abc3",
   "metadata": {},
   "outputs": [
    {
     "data": {
      "image/png": "[encoded data removed]",
      "text/plain": [
       "<Figure size 432x288 with 1 Axes>"
      ]
     },
     "metadata": {
      "needs_background": "light"
     },
     "output_type": "display_data"
    }
   ],
   "source": [
    "import matplotlib.pyplot as plt\n",
    "\n",
    "def plot_residuals(X, y, b):\n",
    "    residuals = compute_residuals(X, y, b)\n",
    "    fitted_values = np.dot(X,b)\n",
    "    plt.scatter(fitted_values, residuals)\n",
    "    plt.xticks(())\n",
    "    plt.xlabel('Fitted values', fontsize=16)\n",
    "    plt.ylabel('Residuals', fontsize=16)\n",
    "    plt.show()\n",
    "    \n",
    "plot_residuals(X, y, b_hat)"
   ]
  },
  {
   "cell_type": "markdown",
   "id": "5f9037a7",
   "metadata": {},
   "source": [
    "To interpret the residual plot, let's first recall our regression model:\n",
    "\n",
    "$$\n",
    "y = b_0 + b_1 X_1 + b_2 X_2 + \\cdots +  b_p X_p +\\varepsilon\n",
    "$$\n",
    "\n",
    "where we assume $\\varepsilon \\sim N(0,\\sigma^2)$ is a noise variable. If we plug in the fitted coefficients $\\hat{b}_i$ and subtract the fitted values from each side, we get that\n",
    "\n",
    "$$\n",
    "y - (\\hat{b}_0 + \\hat{b}_1 X_1 + \\hat{b}_2 X_2 + \\cdots +  \\hat{b}_p X_p) = \\varepsilon\n",
    "$$\n",
    "\n",
    "Thus, if our model is correct, we expect the residuals to be roughly normaly with mean zero. As we see from the plot above, the residuals do seem to be centered around zero. However, it's not clear from this plot alone that they actually follow a normal distribution. Let's look at the histogram of the residuals to get a slightly better picture of their distribution.\n"
   ]
  },
  {
   "cell_type": "code",
   "execution_count": 20,
   "id": "a4aebd40",
   "metadata": {},
   "outputs": [
    {
     "data": {
      "image/png": "[encoded data removed]",
      "text/plain": [
       "<Figure size 432x288 with 1 Axes>"
      ]
     },
     "metadata": {
      "needs_background": "light"
     },
     "output_type": "display_data"
    }
   ],
   "source": [
    "residuals = compute_residuals(X, y, b_hat)\n",
    "plt.hist(residuals, bins=50)\n",
    "plt.show()"
   ]
  },
  {
   "cell_type": "markdown",
   "id": "9be836c8",
   "metadata": {},
   "source": [
    "From this plot, we see that the residuals do roughly fit a bell curve shape of a normal distribution, but it's not quite clear how well. In the next section, we investigate a more refined way to assess how well the residuals follow a normal distribution."
   ]
  },
  {
   "cell_type": "markdown",
   "id": "09258e47",
   "metadata": {},
   "source": [
    "### Part 4 QQ plots\n",
    "\n",
    "A QQ (quantile-quantile) plot is a popular way to assess how well two distributions match. If you're familiar with some probability, you can read more about QQ plots on the [Wikipedia page](https://en.wikipedia.org/wiki/Q–Q_plot). For now, it will suffice to know that it's a convenient way to visualize how well two distributions match.\n",
    "\n",
    "In our case, we want to see how well the residuals follow a $N(0,\\sigma^2)$ distribution. To do this, we first need to know the variance $\\sigma^2$. We can estimate this from our residuals using the following formula:\n",
    "\n",
    "$$\n",
    "\\hat{\\sigma}^2 = \\frac{1}{n-2}(\\mathbf{y}-\\hat{\\mathbf{y}})^\\top(\\mathbf{y} - \\hat{\\mathbf{y}}) = \\frac{1}{n-2}(\\mathbf{y}-\\mathbf{X}\\hat{\\mathbf{b}})^\\top(\\mathbf{y} - \\mathbf{X}\\hat{\\mathbf{b}})\n",
    "$$\n",
    "\n",
    "Fill in the function ```estimate_residual_variance``` below to compute $\\hat{\\sigma}^2$ below (hint: you can use your ```compute_residuals``` function you defined above)."
   ]
  },
  {
   "cell_type": "code",
   "execution_count": 21,
   "id": "9e76486c",
   "metadata": {},
   "outputs": [],
   "source": [
    "def estimate_residual_variance(X, y, b):\n",
    "    '''\n",
    "    Arguments:\n",
    "        X: n x (p+1) array of predictor variables\n",
    "        y: length n vector of respones\n",
    "        b: length (p+1) vector of regression coefficients\n",
    "        \n",
    "    Returns:\n",
    "        float sigma2, which is an estimate of the variance of epsilon in the regression model\n",
    "    '''\n",
    "    e = compute_residuals(X, y, b)\n",
    "    n = X.shape[0]\n",
    "    return (1/(n-2))*np.dot(e, e)"
   ]
  },
  {
   "cell_type": "markdown",
   "id": "5bcf7c3c",
   "metadata": {},
   "source": [
    "The QQ plot compares two distributions by measuring how much their _quantiles_ align. We do this by plotting the quantiles of the residual distribution versus the quantiles of a normal distribution. Ideally, these would match exactly, and we would have that the quantiles lie on exactly on the line $y=x$. The following function uses your ```estimate_residual_variance``` and ```compute_residuals``` functions to generate a QQ plot."
   ]
  },
  {
   "cell_type": "code",
   "execution_count": 22,
   "id": "39f479ba",
   "metadata": {},
   "outputs": [
    {
     "data": {
      "image/png": "[encoded data removed]",
      "text/plain": [
       "<Figure size 432x288 with 1 Axes>"
      ]
     },
     "metadata": {
      "needs_background": "light"
     },
     "output_type": "display_data"
    }
   ],
   "source": [
    "from scipy.stats import norm\n",
    "\n",
    "def residual_quantile(q, residuals):\n",
    "    return np.quantile(residuals, q)\n",
    "\n",
    "def QQ_plot(X, y, b):\n",
    "    residuals = compute_residuals(X, y, b)\n",
    "    sigma2 = estimate_residual_variance(X, y, b)\n",
    "    q_range = np.arange(0.01,1,.01)\n",
    "    qq_data = []\n",
    "    for q in q_range:\n",
    "        res_q = residual_quantile(q, residuals)\n",
    "        norm_q = norm.ppf(q, scale=np.sqrt(sigma2))\n",
    "        qq_data.append([norm_q, res_q])\n",
    "    \n",
    "    qq_data = np.array(qq_data)\n",
    "    x_lb = np.min(qq_data)\n",
    "    x_ub = np.max(qq_data)\n",
    "    xran = np.arange(x_lb,x_ub)\n",
    "    plt.plot(qq_data[:,0], qq_data[:,1])\n",
    "    plt.plot(xran, xran, color='black', linestyle='--', linewidth=.5, label='y=x')\n",
    "    plt.legend()\n",
    "    plt.ylabel('Residual quantiles', fontsize=16)\n",
    "    plt.xlabel('Normal quantiles', fontsize=16)\n",
    "    plt.title('QQ plot', fontsize=16)\n",
    "    plt.show()\n",
    "\n",
    "QQ_plot(X, y, b_hat)\n",
    "        "
   ]
  },
  {
   "cell_type": "markdown",
   "id": "f41a2562",
   "metadata": {},
   "source": [
    "As we can see, the QQ plot shows that the quantiles of the two distributions don't quite align (i.e., the quantiles do not lie near the line $y=x$). As we will see in the next problem, we can sometimes obtain a better fit by transforming the data."
   ]
  },
  {
   "cell_type": "markdown",
   "id": "3f6e3352",
   "metadata": {},
   "source": [
    "### Part 5 Regression with transformed data\n",
    "\n",
    "One method that is sometimes used to obtain a better fit in linear regression is to transform either the predictor variables or the response variable. Use the functions you've written in parts 1-4 to fit another regression model, except using $\\log(y)$ as the response rather than $y$. Plot the QQ function of the new regression model. How does it compare the one we obtain in Part 4?"
   ]
  },
  {
   "cell_type": "code",
   "execution_count": 23,
   "id": "529d36c7",
   "metadata": {},
   "outputs": [
    {
     "data": {
      "image/png": "[encoded data removed]",
      "text/plain": [
       "<Figure size 432x288 with 1 Axes>"
      ]
     },
     "metadata": {
      "needs_background": "light"
     },
     "output_type": "display_data"
    },
    {
     "data": {
      "text/plain": [
       "array([3.17805383, 3.07269331, 3.54673969, 3.5085559 , 3.58905912,\n",
       "       3.35689712, 3.13113691, 3.29953373, 2.80336038, 2.93916192,\n",
       "       2.7080502 , 2.93916192, 3.07731226, 3.0155349 , 2.90142159,\n",
       "       2.99071973, 3.13983262, 2.86220088, 3.0056826 , 2.90142159,\n",
       "       2.61006979, 2.97552957, 2.72129543, 2.67414865, 2.74727091,\n",
       "       2.63188884, 2.8094027 , 2.69462718, 2.91235066, 3.04452244,\n",
       "       2.54160199, 2.67414865, 2.58021683, 2.57261223, 2.60268969,\n",
       "       2.93916192, 2.99573227, 3.04452244, 3.20680324, 3.42751469,\n",
       "       3.55248683, 3.28091122, 3.2308044 , 3.20680324, 3.05400118,\n",
       "       2.9601051 , 2.99573227, 2.8094027 , 2.66722821, 2.96527307,\n",
       "       2.98061864, 3.02042489, 3.21887582, 3.15273602, 2.93916192,\n",
       "       3.56671182, 3.20680324, 3.45315712, 3.14845336, 2.97552957,\n",
       "       2.92852352, 2.77258872, 3.10009229, 3.21887582, 3.49650756,\n",
       "       3.15700042, 2.96527307, 3.09104245, 2.85647021, 3.03974916,\n",
       "       3.18635263, 3.07731226, 3.12676054, 3.15273602, 3.18221184,\n",
       "       3.06339092, 2.99573227, 3.03495299, 3.05400118, 3.01062089,\n",
       "       3.33220451, 3.17387846, 3.21084365, 3.13113691, 3.17387846,\n",
       "       3.28091122, 3.11351531, 3.10009229, 3.16124671, 3.35689712,\n",
       "       3.11794991, 3.09104245, 3.13113691, 3.21887582, 3.02529108,\n",
       "       3.34638915, 3.06339092, 3.6558396 , 3.77963382, 3.50254988,\n",
       "       3.314186  , 3.27714473, 2.92316158, 2.9601051 , 3.00071982,\n",
       "       2.97041447, 2.97041447, 3.0155349 , 2.98568194, 2.96527307,\n",
       "       3.07731226, 3.12676054, 2.93385687, 2.92852352, 2.91777073,\n",
       "       2.90690106, 3.05400118, 2.95491028, 3.0155349 , 2.9601051 ,\n",
       "       3.09104245, 3.01062089, 3.02042489, 2.8507065 , 2.93385687,\n",
       "       3.06339092, 2.75366071, 2.78501124, 2.89037176, 2.66025954,\n",
       "       2.95491028, 2.97552957, 3.13549422, 2.91235066, 2.74727091,\n",
       "       2.89591194, 2.85647021, 2.83907846, 2.58776404, 2.87919846,\n",
       "       2.63905733, 2.66722821, 2.59525471, 2.74727091, 2.46809953,\n",
       "       2.62466859, 2.74727091, 2.68102153, 2.87919846, 2.73436751,\n",
       "       3.06805294, 2.97552957, 2.72785283, 2.96527307, 2.83321334,\n",
       "       2.74727091, 2.57261223, 3.7208625 , 3.19047635, 3.14845336,\n",
       "       3.29583687, 3.91202301, 3.91202301, 3.91202301, 3.12236492,\n",
       "       3.21887582, 3.91202301, 3.16968558, 3.16968558, 3.10458668,\n",
       "       2.85647021, 2.94968834, 3.13983262, 3.16124671, 3.11794991,\n",
       "       3.38099467, 3.14415228, 3.20274644, 3.39785848, 3.61630876,\n",
       "       3.68386691, 3.58905912, 3.63495111, 3.48124009, 3.27336401,\n",
       "       3.38777436, 3.91202301, 3.4657359 , 3.39450839, 3.55248683,\n",
       "       3.61091791, 3.41772668, 3.59456877, 3.43720782, 3.37073817,\n",
       "       3.91202301, 3.5055574 , 3.41114771, 3.54385368, 3.55248683,\n",
       "       3.49347266, 3.18221184, 3.74478709, 3.8815638 , 3.91202301,\n",
       "       3.11794991, 3.19458313, 3.11351531, 3.19458313, 2.99573227,\n",
       "       3.07731226, 2.9601051 , 3.10906096, 3.33576958, 3.16547505,\n",
       "       3.21887582, 3.14845336, 3.35689712, 3.06805294, 3.13549422,\n",
       "       3.28466357, 3.07731226, 3.314186  , 3.40452517, 3.80220814,\n",
       "       3.91202301, 3.62700405, 3.45315712, 3.84374416, 3.44998755,\n",
       "       3.19047635, 3.45631668, 3.73050113, 3.87743156, 3.36729583,\n",
       "       3.17805383, 3.22286785, 3.44998755, 3.16547505, 3.14845336,\n",
       "       3.09104245, 3.00071982, 3.10009229, 3.16547505, 2.8678989 ,\n",
       "       2.91777073, 3.19047635, 3.02042489, 3.19867312, 3.26575941,\n",
       "       3.19458313, 3.21084365, 3.38777436, 3.7565381 , 3.08648664,\n",
       "       3.03974916, 3.78418963, 3.91202301, 3.58351894, 3.40452517,\n",
       "       3.5204608 , 3.763523  , 3.88773031, 3.4339872 , 3.59731226,\n",
       "       3.12676054, 3.42426265, 3.91202301, 3.77276094, 3.0301337 ,\n",
       "       3.04927304, 3.22684399, 3.19458313, 3.56104608, 3.47815842,\n",
       "       3.4657359 , 3.50254988, 3.49953328, 3.37073817, 3.55820113,\n",
       "       3.81551211, 3.56671182, 3.8286414 , 3.91202301, 3.47196645,\n",
       "       3.09104245, 3.00071982, 3.14415228, 3.10458668, 3.21084365,\n",
       "       3.34990409, 3.61899333, 3.32862669, 3.17387846, 3.07731226,\n",
       "       3.35340672, 3.29953373, 3.01062089, 3.11351531, 3.36729583,\n",
       "       3.21084365, 3.09104245, 3.27336401, 3.49953328, 3.58629287,\n",
       "       3.34638915, 3.5085559 , 3.33932198, 3.12676054, 3.01062089,\n",
       "       2.77881927, 3.09557761, 2.96527307, 3.07269331, 3.16968558,\n",
       "       2.78501124, 2.87919846, 2.98568194, 3.13983262, 3.04452244,\n",
       "       3.16968558, 3.13983262, 3.0155349 , 2.91777073, 3.21887582,\n",
       "       3.20274644, 3.13549422, 3.10009229, 2.9601051 , 3.11794991,\n",
       "       2.98568194, 2.83907846, 2.96527307, 3.10009229, 3.0301337 ,\n",
       "       3.04927304, 2.97041447, 2.91777073, 3.02529108, 2.94443898,\n",
       "       2.92852352, 3.48737508, 2.80336038, 3.17387846, 3.44041809,\n",
       "       2.86220088, 2.84490938, 3.13983262, 3.19867312, 3.28091122,\n",
       "       3.13113691, 3.18221184, 2.92316158, 3.40452517, 2.90142159,\n",
       "       3.02529108, 2.87919846, 3.07731226, 3.12236492, 3.11794991,\n",
       "       3.21887582, 2.99071973, 3.03495299, 2.82137889, 3.08648664,\n",
       "       3.314186  , 3.08648664, 3.13983262, 3.91202301, 3.91202301,\n",
       "       3.91202301, 3.91202301, 3.91202301, 2.62466859, 2.62466859,\n",
       "       2.7080502 , 2.63188884, 2.58776404, 2.57261223, 2.32238772,\n",
       "       2.34180581, 2.38876279, 2.42480273, 2.50959926, 2.17475172,\n",
       "       1.97408103, 2.35137526, 2.00148   , 2.32238772, 2.44234704,\n",
       "       2.71469474, 3.14415228, 2.27212589, 2.62466859, 2.54160199,\n",
       "       2.57261223, 2.52572864, 2.14006616, 1.60943791, 1.84054963,\n",
       "       1.7227666 , 1.97408103, 2.49320545, 2.11625551, 2.14006616,\n",
       "       1.60943791, 2.4765384 , 3.32862669, 2.84490938, 3.314186  ,\n",
       "       2.7080502 , 2.84490938, 2.88480071, 2.79116511, 1.94591015,\n",
       "       1.97408103, 2.01490302, 2.34180581, 2.17475172, 2.12823171,\n",
       "       2.81540872, 2.65324196, 3.03495299, 2.59525471, 2.45958884,\n",
       "       2.11625551, 2.32238772, 2.38876279, 2.39789527, 2.2512918 ,\n",
       "       2.67414865, 2.6461748 , 2.77881927, 2.66025954, 2.45958884,\n",
       "       2.59525471, 2.2617631 , 2.16332303, 2.12823171, 2.54944517,\n",
       "       2.35137526, 2.83907846, 2.91235066, 2.73436751, 2.37954613,\n",
       "       2.46809953, 2.70136121, 2.53369681, 2.6461748 , 2.56494936,\n",
       "       2.59525471, 2.72129543, 2.77881927, 2.87919846, 2.70136121,\n",
       "       2.6461748 , 2.54160199, 2.60268969, 2.70136121, 2.99573227,\n",
       "       2.79728133, 2.87356464, 2.97041447, 3.0056826 , 3.06339092,\n",
       "       2.99071973, 2.94443898, 2.94968834, 2.94968834, 3.00071982,\n",
       "       2.99071973, 2.97552957, 3.14415228, 3.39450839, 2.62466859,\n",
       "       2.58776404, 2.81540872, 2.48490665, 2.68102153, 3.06339092,\n",
       "       3.13549422, 3.16547505, 3.21887582, 3.08190997, 3.02529108,\n",
       "       3.05400118, 2.94968834, 3.02529108, 2.72129543, 1.94591015,\n",
       "       2.09186406, 2.61006979, 3.00071982, 3.08190997, 3.19867312,\n",
       "       3.13983262, 2.98061864, 2.90690106, 3.05400118, 2.86220088,\n",
       "       2.82137889, 3.10906096, 3.02529108, 3.17387846, 3.09104245,\n",
       "       2.4765384 ])"
      ]
     },
     "execution_count": 23,
     "metadata": {},
     "output_type": "execute_result"
    }
   ],
   "source": [
    "ylog = np.log(y)\n",
    "b_hat_log = np.dot(np.linalg.inv(X.T@X)@X.T, ylog)\n",
    "QQ_plot(X, ylog, b_hat_log)\n",
    "ylog"
   ]
  },
  {
   "cell_type": "markdown",
   "id": "06c462f2",
   "metadata": {},
   "source": [
    "### Part 6 Confidence intervals for the regression coefficients\n",
    "\n",
    "Given a regression model \n",
    "\n",
    "$$\n",
    "y = \\boldsymbol{b}^\\top \\boldsymbol{x} + \\varepsilon\n",
    "$$\n",
    "\n",
    "with $\\text{Var}(\\varepsilon) = \\sigma^2$ and the least squares estimate $\\hat{\\boldsymbol{\\beta}}$ for the coefficients, we have a closed formula for the covariance matrix of the coefficients $\\hat{\\boldsymbol{\\beta}}$:\n",
    "\n",
    "$$\n",
    "\\text{Cov}(\\hat{\\boldsymbol{b}}) = \\sigma^2 (\\boldsymbol{X^\\top X})^{-1} \\approx \\hat{\\sigma}^2 (\\boldsymbol{X^\\top X})^{-1} = \\hat{\\boldsymbol{C}}\n",
    "$$\n",
    "\n",
    "where $\\hat{\\sigma}^2$ is the estimator defined in Part 4. This formula is extremely convenient because it allows us to form approximate 95% confidence intervals for the coefficients $\\hat{\\boldsymbol{b}}$ as follows:  \n",
    "\n",
    "$$\n",
    "\\text{CI}_{0.95}(\\hat{b}_j) = [\\hat{b}_j - 2\\sqrt{\\boldsymbol{C}_{jj}}, \\hat{b}_j + 2\\sqrt{\\boldsymbol{C}_{jj}}]\n",
    "$$\n",
    "\n",
    "Construct these confidence intervals for the each of the coefficients found in Part 5, and report which features' confidence intervals _do not_ contain the value 0 (meaning that with probability >= 0.95, these coefficients are greater different from zero)."
   ]
  },
  {
   "cell_type": "code",
   "execution_count": null,
   "id": "4aec68ea",
   "metadata": {},
   "outputs": [],
   "source": []
  }
 ],
 "metadata": {
  "kernelspec": {
   "display_name": "Python 3",
   "language": "python",
   "name": "python3"
  },
  "language_info": {
   "codemirror_mode": {
    "name": "ipython",
    "version": 3
   },
   "file_extension": ".py",
   "mimetype": "text/x-python",
   "name": "python",
   "nbconvert_exporter": "python",
   "pygments_lexer": "ipython3",
   "version": "3.9.5"
  }
 },
 "nbformat": 4,
 "nbformat_minor": 5
}
