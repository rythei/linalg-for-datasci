{
 "cells": [
  {
   "cell_type": "markdown",
   "id": "36c369cc",
   "metadata": {},
   "source": [
    "# Homework 8 Computational Problems"
   ]
  },
  {
   "cell_type": "markdown",
   "id": "geographic-bride",
   "metadata": {},
   "source": [
    "## Problem 1: revisiting the power method\n",
    "\n",
    "In Homework 5, we introduced the _power method_, though we didn't explain exactly what this method was doing. It turns out the power method is a popular iterative matrix algorithm used for finding eigenvalues and eigenvectors. In this problem, we revisit this algorithm."
   ]
  },
  {
   "cell_type": "markdown",
   "id": "behind-metropolitan",
   "metadata": {},
   "source": [
    "### Part A\n",
    "\n",
    "The iterations of the power method take the following form for a given $n\\times n$ matrix $A$:\n",
    "\n",
    "- draw a random starting starting vector $u_0\\in \\mathbb{R}^n$\n",
    "- for $k=1,\\dots,N$:\n",
    "    - set $u_k = \\frac{Au_{k-1}}{\\|Au_{k-1}\\|_2}$\n",
    "    - set $\\lambda_k = u_k^\\top A u_k$\n",
    "- return $u_N, \\lambda_N$\n",
    "\n",
    "Implement a function `power_method(A,N)` which takes in a square matrix $A$ and returns the output of the power method after $N$ iterations. "
   ]
  },
  {
   "cell_type": "code",
   "execution_count": 1,
   "id": "harmful-heaven",
   "metadata": {},
   "outputs": [],
   "source": [
    "import numpy as np\n",
    "\n",
    "# SOLUTION\n",
    "def power_method(A,N=1000):\n",
    "    n = A.shape[0]\n",
    "    u0 = np.random.randn(n)\n",
    "    lambda0 = np.dot(u0, np.dot(A,u0))\n",
    "    for k in range(N):\n",
    "        u0 = np.dot(A,u0)\n",
    "        u0 /= np.linalg.norm(u0)\n",
    "        lambda0 = np.dot(u0, np.dot(A,u0))\n",
    "    return u0, lambda0"
   ]
  },
  {
   "cell_type": "markdown",
   "id": "engaging-kidney",
   "metadata": {},
   "source": [
    "### Part B\n",
    "Use your function using $N=1000$ iterations on the matrix $A$ defined below. Use `np.linalg.eig(A)` to find the eigendecomposition of $A$, and print the largest eigenvalue and associated eigenvector (note: `eig` returns a pair `eigen_vals, eigen_vecs`; the $k$th eigenvalue of $A$ is `eigen_vals[k]` and the $k$th eigenvector of $A$ is `eigen_vecs[:,k]`.) Compare your results to the output of your `power_method` function."
   ]
  },
  {
   "cell_type": "code",
   "execution_count": 2,
   "id": "mysterious-plenty",
   "metadata": {},
   "outputs": [
    {
     "name": "stdout",
     "output_type": "stream",
     "text": [
      "[342.27470123 158.68690839  67.41497753   3.79740766  20.43467362]\n",
      "True\n",
      "True\n"
     ]
    }
   ],
   "source": [
    "import numpy as np\n",
    "\n",
    "np.random.seed(3)\n",
    "n = 5\n",
    "A = 5*np.random.normal(size=(n,n))\n",
    "A = A.T@A\n",
    "\n",
    "# SOLUTION\n",
    "u, lam = power_method(A, N=1000)\n",
    "\n",
    "vals, vecs = np.linalg.eig(A)\n",
    "print(vals)\n",
    "max_ix = np.argmax(vals)\n",
    "val_max = vals[max_ix]\n",
    "vec_max = vecs[:,max_ix]\n",
    "\n",
    "print(np.allclose(lam, val_max))\n",
    "print(np.allclose(u, vec_max))"
   ]
  },
  {
   "cell_type": "markdown",
   "id": "express-surname",
   "metadata": {},
   "source": [
    "### Part C\n",
    "As we saw in the previous part, the power method returns the largest eigenvalue/eigenvector pair of the matrix $A$. However, we can also use the power method to find other eigenvalues/vectors. Consider the following algorithm, for an $n\\times n$ matrix $A$:\n",
    "\n",
    "- let $A_1 = A$\n",
    "- set $u_1, \\lambda_1 = $ `power_method(A_1, N)`\n",
    "- for $i=2,\\dots,n$:\n",
    "    - set $A_i = A_{i-1} - \\lambda_{i-1}u_{i-1}u_{i-1}^\\top$\n",
    "    - set $u_i, \\lambda_i = $ `power_method(A_i, N)` \n",
    "- return $\\Lambda = \\text{diag}(\\lambda_1,\\dots, \\lambda_n)$, $U = \\begin{pmatrix} u_1 & \\cdots & u_n \\end{pmatrix}$\n",
    "\n",
    "Implement the above algorithm (again using $N=1000$ iterations of the power method at each stage), and test it on the matrix $A$ from part B. Verify that $A \\approx U \\Lambda U^\\top$, and compare $\\Lambda$ and $U$ with the output `eigen_vals`, `eigen_vecs` obtained from the `np.linalg.eig` function."
   ]
  },
  {
   "cell_type": "code",
   "execution_count": 3,
   "id": "optimum-pixel",
   "metadata": {},
   "outputs": [
    {
     "data": {
      "text/plain": [
       "True"
      ]
     },
     "execution_count": 3,
     "metadata": {},
     "output_type": "execute_result"
    }
   ],
   "source": [
    "# SOLUTION\n",
    "\n",
    "Ai = A\n",
    "ui, lami = power_method(Ai, N=int(1e4))\n",
    "\n",
    "us, lams = [], []\n",
    "us.append(ui)\n",
    "lams.append(lami)\n",
    "\n",
    "for i in range(n-1):\n",
    "    Ai = Ai - lami*np.outer(ui,ui)\n",
    "    ui, lami = power_method(Ai, N=int(1e4))\n",
    "    us.append(ui)\n",
    "    lams.append(lami)\n",
    "    \n",
    "U = np.array(us).T\n",
    "Lambda = np.array(lams)\n",
    "\n",
    "Ahat = U@np.diag(Lambda)@U.T\n",
    "np.allclose(A, Ahat)"
   ]
  },
  {
   "cell_type": "code",
   "execution_count": null,
   "id": "431085b5",
   "metadata": {},
   "outputs": [],
   "source": []
  }
 ],
 "metadata": {
  "kernelspec": {
   "display_name": "Python 3",
   "language": "python",
   "name": "python3"
  },
  "language_info": {
   "codemirror_mode": {
    "name": "ipython",
    "version": 3
   },
   "file_extension": ".py",
   "mimetype": "text/x-python",
   "name": "python",
   "nbconvert_exporter": "python",
   "pygments_lexer": "ipython3",
   "version": "3.9.5"
  }
 },
 "nbformat": 4,
 "nbformat_minor": 5
}
