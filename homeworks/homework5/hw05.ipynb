{
 "cells": [
  {
   "cell_type": "markdown",
   "id": "pending-dispatch",
   "metadata": {},
   "source": [
    "# Homework 5 Computational Problems"
   ]
  },
  {
   "cell_type": "markdown",
   "id": "direct-things",
   "metadata": {},
   "source": [
    "## Problem 1: the power method\n",
    "\n",
    "In this problem, we investigate a popular and simple matrix iteration algorithm called the power method. In this problem, we will use the matrix\n",
    "\n",
    "$$\n",
    "A_{\\sigma_1,\\sigma_2} = \\begin{pmatrix}1/\\sqrt{2} & -1/\\sqrt{2}\\\\ 1/\\sqrt{2} & 1/\\sqrt{2}\\end{pmatrix}\\begin{pmatrix}\\sigma_1 & 0 \\\\ 0 & \\sigma_2 \\end{pmatrix}\\begin{pmatrix}1/\\sqrt{2} & 1/\\sqrt{2}\\\\ -1/\\sqrt{2} & 1/\\sqrt{2}\\end{pmatrix}\n",
    "$$ \n",
    "\n",
    "for values of $\\sigma_1$ and $\\sigma_2$ which will be specified later.\n"
   ]
  },
  {
   "cell_type": "code",
   "execution_count": null,
   "id": "c29dcec3",
   "metadata": {},
   "outputs": [],
   "source": []
  },
  {
   "cell_type": "markdown",
   "id": "exterior-giving",
   "metadata": {},
   "source": [
    "### Part A: unnormalized iterations\n",
    "Consider the following iterations for some fixed $b_0 \\in \\mathbb{R}^2$, for $k=0,\\dots,N$:\n",
    "\n",
    "$$\n",
    "b_{k+1} = A_{\\sigma_1,\\sigma_2}b_k \\hspace{10mm} (*)\n",
    "$$\n",
    "\n",
    "and define the quantity\n",
    "\n",
    "$$\n",
    "\\mu_k = b_{k}^\\top b_{k+1} =  b_k^\\top A_{\\sigma_1,\\sigma_2} b_k\n",
    "$$\n",
    "\n",
    "Perform the iterations given by $(*)$ for $N=20$ steps using the matrix $A_{\\sigma_1,\\sigma_2}$ defined above and a randomly drawn starting vector $b_0 \\in \\mathbb{R}^2$, and at each iteration $k$ compute and store $\\mu_k$. Then, plot $\\mu_k$ as a function of $k$. Do this for each of the following choices of $\\sigma_1,\\sigma_2$:\n",
    "\n",
    "$$\n",
    "(\\sigma_1,\\sigma_2) = (.5, .25),\\;\\;\\; (\\sigma_1,\\sigma_2) = (1.5, .25),\\;\\;\\; (\\sigma_1,\\sigma_2) = (1, .25)\n",
    "$$\n",
    "\n",
    "For each pair of $\\sigma_1,\\sigma_2$, do the $\\mu_k$ converge to a finite value?"
   ]
  },
  {
   "cell_type": "code",
   "execution_count": null,
   "id": "indoor-bankruptcy",
   "metadata": {},
   "outputs": [],
   "source": []
  },
  {
   "cell_type": "markdown",
   "id": "efficient-collins",
   "metadata": {},
   "source": [
    "### Part B: normalized iterations\n",
    "\n",
    "Now consider the following iterations, again for some fixed $b_0 \\in \\mathbb{R}^2$, for $k=0,\\dots,N$:\n",
    "\n",
    "$$\n",
    "b_{k+1} = \\frac{A_{\\sigma_1, \\sigma_2}b_k}{\\|Ab_k\\|_2} \\hspace{10mm} (**)\n",
    "$$\n",
    "\n",
    "and again define the quantity\n",
    "\n",
    "$$\n",
    "\\mu_k = b_k^\\top A_{\\sigma_1,\\sigma_2} b_k\n",
    "$$\n",
    "\n",
    "Perform the iterations given by $(**)$ for $N=20$ steps using the matrix $A_{\\sigma_1,\\sigma_2}$ defined above and a randomly drawn starting vector $b_0 \\in \\mathbb{R}^2$, and at each iteration $k$ compute and store $\\mu_k$. Then, plot $\\mu_k$ as a function of $k$. Do this for each of the following choices of $\\sigma_1,\\sigma_2$:\n",
    "\n",
    "$$\n",
    "(\\sigma_1,\\sigma_2) = (.5, .25),\\;\\;\\; (\\sigma_1,\\sigma_2) = (1.5, .25),\\;\\;\\; (\\sigma_1,\\sigma_2) = (1, .25)\n",
    "$$\n",
    "\n",
    "For each pair of $\\sigma_1,\\sigma_2$, do the $\\mu_k$ converge to a finite value? If so, what is the value that they converge to?"
   ]
  },
  {
   "cell_type": "code",
   "execution_count": null,
   "id": "functional-singing",
   "metadata": {},
   "outputs": [],
   "source": []
  },
  {
   "cell_type": "markdown",
   "id": "handy-lodge",
   "metadata": {},
   "source": [
    "### Part C\n",
    "For the remainder of this problem, fix $(\\sigma_1,\\sigma_2) = (1, .25)$. Repeat the steps of Part C for three different randomly chosen starting vectors $b_0 \\in \\mathbb{R}^2$. Does the value $\\mu_k$ converges to depend on the starting vector?"
   ]
  },
  {
   "cell_type": "code",
   "execution_count": null,
   "id": "macro-gnome",
   "metadata": {},
   "outputs": [],
   "source": []
  },
  {
   "cell_type": "markdown",
   "id": "reverse-london",
   "metadata": {},
   "source": [
    "### Part D\n",
    "Again fixing $(\\sigma_1,\\sigma_2) = (1, .25)$, compute and store the vector $b_N$ that is obtained at the end of the $N$ iterations in Part B. Then, find the matrix $A_{\\sigma_1,\\sigma_2}^{N} = A_{\\sigma_1,\\sigma_2}A_{\\sigma_1,\\sigma_2}\\cdots A_{\\sigma_1,\\sigma_2}$ (i.e. multiplying the matrix $A_{\\sigma_1,\\sigma_2}$ with itself $N$ times -- you can you the function `np.linalg.matrix_power(A,N)` for this). Compare the matrix $A_{\\sigma_1,\\sigma_2}^{N}$ with the matrix $b_Nb_N^\\top$. How do they compare?"
   ]
  },
  {
   "cell_type": "code",
   "execution_count": null,
   "id": "universal-monitoring",
   "metadata": {},
   "outputs": [],
   "source": []
  },
  {
   "cell_type": "markdown",
   "id": "passive-symbol",
   "metadata": {},
   "source": [
    "## Problem 2: finding angles between vectors\n",
    "\n",
    "In chapter six, we saw that we can find the angle $\\theta$ between two vectors $x$ and $y$ using the following identity:\n",
    "\n",
    "$$\n",
    "x^\\top y = \\|x\\|_2\\|y\\|_2 \\cos(\\theta) \\iff \\theta = \\cos^{-1}\\left(\\frac{x^\\top y}{\\|x\\|_2\\|y\\|_2}\\right)\n",
    "$$\n",
    "\n",
    "Note that in Python, we can find the arccosine using the function `np.arccos()`."
   ]
  },
  {
   "cell_type": "markdown",
   "id": "expanded-cedar",
   "metadata": {},
   "source": [
    "### Part A\n",
    "Let $x = (1/\\sqrt{2}, 1/\\sqrt{2})$, $y = (2, 2)$, and $e_1 = (1,0)$. Plot each of these vectors, and find the angle between each of the following pairs of vectors: $x$ and $y$, $x$ and $e_1$ and $y$ and $e_1$."
   ]
  },
  {
   "cell_type": "code",
   "execution_count": null,
   "id": "secure-wrestling",
   "metadata": {},
   "outputs": [],
   "source": []
  },
  {
   "cell_type": "markdown",
   "id": "stainless-insurance",
   "metadata": {},
   "source": [
    "### Part B\n",
    "Let $x = (1/\\sqrt{2}, -1/\\sqrt{2})$, $y = (0,-1)$, and $e_1 = (1,0)$. Plot each of these vectors, and find the angle between each of the following pairs of vectors: $x$ and $y$, $x$ and $e_1$ and $y$ and $e_1$."
   ]
  },
  {
   "cell_type": "code",
   "execution_count": null,
   "id": "descending-classroom",
   "metadata": {},
   "outputs": [],
   "source": []
  },
  {
   "cell_type": "markdown",
   "id": "immediate-criterion",
   "metadata": {},
   "source": [
    "### Part C\n",
    "For $n = 20$, define the vector $x \\in \\mathbb{R}^n$ whose $i$th entry is $x_i = \\sin(i)$, the vector $y\\in \\mathbb{R}^n$ whose $i$th entry is $y_i = \\cos(i)$, and the vector $z_\\alpha = \\alpha x + (1-\\alpha)y$, for some fixed value $\\alpha \\in [0,1]$. Let $\\theta_\\alpha$ be the angle between $x$ and $z_\\alpha$. For a range of $\\alpha$ between 0 and 1, find $\\theta_\\alpha$, and plot $\\theta_\\alpha$ against $\\alpha$."
   ]
  },
  {
   "cell_type": "code",
   "execution_count": null,
   "id": "australian-kingston",
   "metadata": {},
   "outputs": [],
   "source": []
  },
  {
   "cell_type": "code",
   "execution_count": null,
   "id": "junior-entrepreneur",
   "metadata": {},
   "outputs": [],
   "source": []
  }
 ],
 "metadata": {
  "kernelspec": {
   "display_name": "Python 3",
   "language": "python",
   "name": "python3"
  },
  "language_info": {
   "codemirror_mode": {
    "name": "ipython",
    "version": 3
   },
   "file_extension": ".py",
   "mimetype": "text/x-python",
   "name": "python",
   "nbconvert_exporter": "python",
   "pygments_lexer": "ipython3",
   "version": "3.9.5"
  }
 },
 "nbformat": 4,
 "nbformat_minor": 5
}
