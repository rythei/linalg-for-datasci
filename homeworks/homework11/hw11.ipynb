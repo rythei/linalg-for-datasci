{
 "cells": [
  {
   "cell_type": "markdown",
   "id": "4296c898",
   "metadata": {},
   "source": [
    "# Homework 11 Computational Problems: the PageRank algorithm\n",
    "\n",
    "In this homework assignment, we investigate the original ranking algorithm developed by Larry Page and Sergey Brin, the founders of Google, to rank web pages based on importance.\n",
    "\n",
    "The basic setup of the algorithm is as follows: suppose a user searches for the term \"linear algebra\", and we find $N$ webpages containing a string match for this term. How do we determine which of these $N$ pages are most relevant? The key assumption that the PageRank algorithm utilizes is that more important webpages are more likely to have other pages linking to it. \n",
    "\n",
    "We represent the stucture of interlinking webpages as a _graph_, i.e. an object consisting of $N$ vertices (webpages) and edges. There is an edge connecting vertex $i$ to vertex $j$ page $i$ links to page $j$. The structure of such a graph can be represented by an $N\\times N$ _adjacency matrix_ $\\boldsymbol{L}$ such that \n",
    "\n",
    "$$\n",
    "L_{ij} = \\begin{cases}1 & \\text{if $j$ links to $i$}\\\\ 0 & \\text{otherwise} \\end{cases}\n",
    "$$\n",
    "\n",
    "(by default we always assume $L_{ii} = 0$). Consider the following simple example with four webpages."
   ]
  },
  {
   "cell_type": "code",
   "execution_count": 4,
   "id": "32d93b55",
   "metadata": {},
   "outputs": [
    {
     "name": "stdout",
     "output_type": "stream",
     "text": [
      "Requirement already satisfied: networkx in /Users/rythei/opt/miniconda3/lib/python3.9/site-packages (2.8)\r\n"
     ]
    }
   ],
   "source": [
    "# you need networkx installed to visualize the graphs\n",
    "!pip install networkx\n",
    "\n",
    "import numpy as np\n",
    "import networkx as nx"
   ]
  },
  {
   "cell_type": "code",
   "execution_count": 9,
   "id": "462e8a49",
   "metadata": {},
   "outputs": [
    {
     "name": "stdout",
     "output_type": "stream",
     "text": [
      "The graph with adjacency matrix\n",
      "\n",
      "[[0 0 1 0]\n",
      " [1 0 0 0]\n",
      " [1 1 0 1]\n",
      " [0 0 0 0]]\n",
      "\n",
      "can be visualized as\n"
     ]
    },
    {
     "data": {
      "image/png": "[encoded data removed]",
      "text/plain": [
       "<Figure size 432x288 with 1 Axes>"
      ]
     },
     "metadata": {},
     "output_type": "display_data"
    }
   ],
   "source": [
    "L = np.array([[0, 0, 1, 0], [1, 0, 0, 0], [1, 1, 0, 1], [0, 0, 0, 0]])\n",
    "print('The graph with adjacency matrix')\n",
    "print('')\n",
    "print(L)\n",
    "print('')\n",
    "print('can be visualized as')\n",
    "\n",
    "G = nx.from_numpy_matrix(L.T, create_using=nx.DiGraph)\n",
    "nx.draw(G, with_labels=True)"
   ]
  },
  {
   "cell_type": "markdown",
   "id": "0a356b1e",
   "metadata": {},
   "source": [
    "Given a set of $N$ pages, the PageRank is a vector $\\boldsymbol{p}\\in \\mathbb{R}^N$, such that $\\boldsymbol{1}^\\top \\boldsymbol{p} = \\sum_{i=1}^N p_i = N$, where here $\\boldsymbol{1}$ is the all ones vector. The goal is to find $\\boldsymbol{p}$ such that the most important pages have the largest entry in the PageRank vector. We can now describe the actual PageRank algorithm for finding $\\boldsymbol{p}$.\n",
    "\n",
    "The total number of output links from page $j$ is given by $d_j = \\sum_{i=1}^N L_{ij}$. The PageRank algorithm defines the PageRanks as satisfying the following relation:\n",
    "\n",
    "$$\n",
    "p_i = (1-\\alpha) + \\alpha \\sum_{j=1}^N \\frac{L_{ij}}{d_j}p_j \\;\\;\\;\\;\\;\\; (1)\n",
    "$$\n",
    "\n",
    "Let's interpret what is happening in this equation. Inuitively, the component $\\sum_{j=1}^N L_{ij}p_j/d_j$ relation says that the importance $p_i$ of page $i$ is given by the weighted sum of the importance of pages which link to it, where the weights are $1/d_j$. This ensures that each page can distribute a total weight of 1 to other pages. The scalar $\\alpha$ (apparently set to 0.85 in the original implementation) is a weighting factor which governs how much influence the rank other pages have on the importance of page $i$. "
   ]
  },
  {
   "cell_type": "markdown",
   "id": "241110c2",
   "metadata": {},
   "source": [
    "## Part 1: a simple iterative approach\n",
    "\n",
    "The goal is to find a probability vector $\\boldsymbol{p} = (p_1,\\dots, p_N)$ which satisfies the relation (1). One simple approach is as follows: \n",
    "\n",
    "1. initialize the PageRank vector $\\boldsymbol{p}^{(0)} = (p_1^{(0)},\\dots,p_N^{(0)}) = (1, \\dots, 1)$ to be the all ones vector\n",
    "2. for each $t=1,\\dots, T$, perform the following\n",
    "    - for each $i=1,\\dots, N$ update $p_{i}^{(t+1)} = (1-\\alpha) + \\alpha\\sum_{j=1}^N \\frac{L_{ij}}{d_j}p_j^{(t)}$\n",
    "3. after $T$ updates, return the PageRank vector $\\boldsymbol{p}$. \n",
    "\n",
    "Implement the following interative approach (for, say, $T=20$ steps, using $\\alpha = 0.85$) to find the PageRank vector $\\boldsymbol{p}$ for the simple adjacency matrix $\\boldsymbol{L}$ defined at the beginning of the notebook. Which page do you find is the most important? "
   ]
  },
  {
   "cell_type": "code",
   "execution_count": null,
   "id": "b18c77dd",
   "metadata": {},
   "outputs": [],
   "source": []
  },
  {
   "cell_type": "markdown",
   "id": "b63225aa",
   "metadata": {},
   "source": [
    "## Part 2: exploiting matrix properties\n",
    "\n",
    "Note that we can write the relation (1) in matrix form as\n",
    "\n",
    "$$\n",
    "\\boldsymbol{p} = (1-\\alpha)\\boldsymbol{1} + \\alpha \\boldsymbol{L}\\boldsymbol{D}^{-1}\\boldsymbol{p}\n",
    "$$\n",
    "\n",
    "where we define $\\boldsymbol{D} = \\text{diag}(d_1,\\dots, d_N)$. Moreover, since we use the normalization $\\boldsymbol{1^\\top p} = N$, we can equivalently write this relation as \n",
    "\n",
    "$$\n",
    "\\begin{align*}\n",
    "\\boldsymbol{p} &= (1-\\alpha)\\boldsymbol{11^\\top p}/N + \\alpha \\boldsymbol{L}\\boldsymbol{D}^{-1}\\boldsymbol{p}\\\\\n",
    "&= [(1-\\alpha)\\boldsymbol{11}^\\top/N + \\alpha \\boldsymbol{L}\\boldsymbol{D}^{-1}] \\boldsymbol{p}\\\\\n",
    "&= \\boldsymbol{Ap}\n",
    "\\end{align*}\n",
    "$$\n",
    "\n",
    "where we defined the $N\\times N$ matrix $\\boldsymbol{A} = (1-\\alpha)\\boldsymbol{11}^\\top/N + \\alpha \\boldsymbol{L}\\boldsymbol{D}^{-1}$. \n",
    "\n",
    "Now we arrive at something that should look familiar: $\\boldsymbol{Ap} = \\boldsymbol{p}$. This says that the PageRank vector $\\boldsymbol{p}$ should be an _eigenvector_ of the matrix $\\boldsymbol{A}$ associated with the eigenvalue 1.\n",
    "\n",
    "It turns out we can actually prove that the matrix $\\boldsymbol{A}$ defined above always has an eigenvalue of 1. However, let's verify that this is true. Again using the simple adjacency matrix $\\boldsymbol{L}$ defined at the beginning of the notebook, construct the matrix $\\boldsymbol{A}$ and find its eigenvalues. Verify that one of the eigenvalues is equal to 1, and find the eigenvector $\\boldsymbol{p}$ associated with this eigenvalue, and rescale the vector so that it sums to $N$ (i.e. multiply by $N/\\boldsymbol{1^\\top p}$). Are the rankings of the pages in this eigenvector the same as what you found in Part 1?"
   ]
  },
  {
   "cell_type": "code",
   "execution_count": null,
   "id": "b86b9d8d",
   "metadata": {},
   "outputs": [],
   "source": []
  },
  {
   "cell_type": "markdown",
   "id": "5d5202f3",
   "metadata": {},
   "source": [
    "## Part 3: the power method for large graphs\n",
    "\n",
    "The two methods we investigated above seem to work well for the small example we tested them on, with only $N=4$ webpages. However, realistic web searches will of course involve *many* more pages than this (for example, if you Google \"linear algebra\" you will find 150,000,000+ results). In this case, neither of the methods described above will work; we don't want to update each of the individual PageRank entries manually, nor is it feasible to compute a full eigenvalue decomposition for $\\boldsymbol{A}$ defined in Part 2. Instead, Google uses the power method to find the top eigenvector (which will always be associated with the eigenvalue 1) of the matrix $\\boldsymbol{A}$. Here we will do the same.\n",
    "\n",
    "To do this, we initialize $\\boldsymbol{p}^{(0)} = (1,\\dots, 1)$, and perform the following iterations for $t=1,\\dots, T$:\n",
    "\n",
    "$$\n",
    "\\tilde{\\boldsymbol{p}}^{(t+1)} = \\boldsymbol{A}\\boldsymbol{p}^{(t)},\\;\\;\\; \\boldsymbol{p}^{(t+1)} = N\\frac{\\tilde{\\boldsymbol{p}}}{\\boldsymbol{1}^\\top \\tilde{\\boldsymbol{p}}^{(t+1)}}\n",
    "$$\n",
    "\n",
    "Implement the power iterations for the following randomly generated adjacency matrix."
   ]
  },
  {
   "cell_type": "code",
   "execution_count": 15,
   "id": "8cdbe9bf",
   "metadata": {},
   "outputs": [
    {
     "data": {
      "text/plain": [
       "array([[0, 0, 0, ..., 0, 0, 1],\n",
       "       [0, 0, 0, ..., 1, 0, 0],\n",
       "       [0, 1, 0, ..., 1, 0, 1],\n",
       "       ...,\n",
       "       [1, 0, 1, ..., 0, 0, 0],\n",
       "       [0, 0, 0, ..., 0, 0, 0],\n",
       "       [0, 0, 0, ..., 0, 1, 0]])"
      ]
     },
     "execution_count": 15,
     "metadata": {},
     "output_type": "execute_result"
    }
   ],
   "source": [
    "N = 1000\n",
    "\n",
    "# randomly generate an N x N adjacency matrix\n",
    "L = np.random.binomial(1, 0.3, size=(N,N))\n",
    "\n",
    "# make sure all the diagonal entries are equal to zero\n",
    "np.fill_diagonal(L, 0)\n",
    "\n",
    "L"
   ]
  },
  {
   "cell_type": "code",
   "execution_count": null,
   "id": "2a55a7a0",
   "metadata": {},
   "outputs": [],
   "source": []
  }
 ],
 "metadata": {
  "kernelspec": {
   "display_name": "Python 3",
   "language": "python",
   "name": "python3"
  },
  "language_info": {
   "codemirror_mode": {
    "name": "ipython",
    "version": 3
   },
   "file_extension": ".py",
   "mimetype": "text/x-python",
   "name": "python",
   "nbconvert_exporter": "python",
   "pygments_lexer": "ipython3",
   "version": "3.9.5"
  }
 },
 "nbformat": 4,
 "nbformat_minor": 5
}
