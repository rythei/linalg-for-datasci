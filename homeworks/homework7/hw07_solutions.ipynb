{
 "cells": [
  {
   "cell_type": "markdown",
   "id": "30bfe326",
   "metadata": {},
   "source": [
    "# Homework 7 Computational Problems"
   ]
  },
  {
   "cell_type": "markdown",
   "id": "2f8c5c00",
   "metadata": {},
   "source": [
    "## Problem 1: Solving linear systems with the QR decomposition\n",
    "\n",
    "As we discussed in lab, the QR decomposition is particularly useful for solving linear systems of equations of the form $Ax = b$ using the following two-step procedure:\n",
    "\n",
    "1. Compute the QR decomposition of $A = QR$\n",
    "2. Solve the upper triangular system of equations $Rx = Q^\\top b$ using the backsubstitution algorithm; the solution $x_\\star$ you obtain will be a solution to the system $Ax=b$\n",
    "\n",
    "Here we will see some examples of this method."
   ]
  },
  {
   "cell_type": "markdown",
   "id": "5af97e17",
   "metadata": {},
   "source": [
    "### Part A: Inverting square matrices\n",
    "\n",
    "Given an $n\\times n$, invertible matrix $A$, we often want to find the inverse $A^{-1}$. This task can be thought of as solving the following system of $n^2$ equations:\n",
    "\n",
    "$$\n",
    "AX = I\n",
    "$$\n",
    "\n",
    "where the solution $X_\\star = A^{-1}$ will be the inverse of $A$. Note that this is equaivalent to solving $n$ different linear systems in $n$ constraints of the form:\n",
    "\n",
    "$$\n",
    "Ax = e_i, \\text{    for } i=1,\\dots,n,\n",
    "$$\n",
    "\n",
    "where $e_i$ is the $i$th standard basis vector. The solution $x_\\star$ to the $i^{th}$ of these systems gives us the $i^{th}$ column of the inverse $A^{-1}$.\n",
    "\n",
    "Write a function `matrix_inverse(A)` which takes in a square, invertible matrix `A` and computes its inverse using the method described above (i.e. use backsubstitution to solve $n$ different linear systems, which will give you the $n$ columns of $A^{-1}$). For this problem, you can either use the functions given in the lab to compute the QR decomposition and perform backsubstitution, or you can use built-in functions in Python (e.g. `np.linalg.qr(A)` and `scipy.linalg.solve_triangular(R,b)` for backsubstitution). Test your implementation on the following matrices, and verify that $AA^{-1} = I$ for each of them. "
   ]
  },
  {
   "cell_type": "code",
   "execution_count": 1,
   "id": "ae8cef68",
   "metadata": {},
   "outputs": [],
   "source": [
    "import numpy as np\n",
    "from scipy.linalg import solve_triangular\n",
    "\n",
    "A_1 = np.array([\n",
    "    [1, -1, 0],\n",
    "    [0, 1, -1],\n",
    "    [1, 1, 1]\n",
    "])\n",
    "A_2 = np.random.normal(size = (20,20))"
   ]
  },
  {
   "cell_type": "code",
   "execution_count": 3,
   "id": "5840e9ca",
   "metadata": {},
   "outputs": [
    {
     "name": "stdout",
     "output_type": "stream",
     "text": [
      "[[ 1.00000000e+00 -5.55111512e-17 -2.22044605e-16]\n",
      " [-1.11022302e-16  1.00000000e+00  5.55111512e-17]\n",
      " [-3.33066907e-16 -1.11022302e-16  1.00000000e+00]]\n"
     ]
    }
   ],
   "source": [
    "def matrix_inverse(A):\n",
    "    Q, R = np.linalg.qr(A)\n",
    "    A_inv = np.empty(A.shape)\n",
    "    #I = np.eye(A.shape[0])\n",
    "    for i in range(A.shape[0]):\n",
    "        ei = np.zeros(A.shape[0])#I[:,i]\n",
    "        ei[i] = 1.\n",
    "        A_inv[:,i] = solve_triangular(R, np.dot(Q.T, ei))\n",
    "    return A_inv\n",
    "\n",
    "A_1_inv = matrix_inverse(A_1)\n",
    "A_2_inv = matrix_inverse(A_2)\n",
    "\n",
    "print(A_1@A_1_inv)\n",
    "#print(np.allclose(A_1@A_1_inv, np.eye(3)))\n",
    "#print(np.allclose(A_2@A_2_inv, np.eye(20)))"
   ]
  },
  {
   "cell_type": "markdown",
   "id": "0b91a214",
   "metadata": {},
   "source": [
    "### Part B: overdetermined systems\n",
    "\n",
    "So far, we've mainly discussed solving systems $Ax = b$ in the case when $A$ is square and invertible. However, we will often be interested in the case when $A$ is not square, say $m\\times n$. In the case when $m > n$, so that $A$ is \"tall\", we may not have a solution for any particular value of $b$ -- this is because the function $f(x) = Ax$ is not surjective. Instead, we may be content to settle for an approximate solution. One way to find such a solution is to consider instead a solution to the system\n",
    "\n",
    "$$\n",
    "A^\\top A x = A^\\top b\n",
    "$$\n",
    "\n",
    "where now $A^\\top A$ is a square, $n\\times n$ matrix (we will justify this approach later in the class when we discuss least squares). If we plug in the QR decomposition for $A$ to this equation we get\n",
    "\n",
    "$$\n",
    "(QR)^\\top QR x = (QR)^\\top b \\iff Rx = Q^\\top b \n",
    "$$\n",
    "\n",
    "which we recognize as the same expression we obtained in the square case, and the solution $x_\\star$ can be found via backsubstitution. Hence the same method we used in the square case can also find us an approximate solution in the overdetermined case.\n",
    "\n",
    "Consider values of $A$ and $b$ defined in the following cell."
   ]
  },
  {
   "cell_type": "code",
   "execution_count": 5,
   "id": "a3af5735",
   "metadata": {},
   "outputs": [],
   "source": [
    "A = np.array([np.ones(20), np.random.normal(size=20)]).T\n",
    "b = np.dot(A, np.random.rand(2)) + 0.3*np.random.randn(20)"
   ]
  },
  {
   "cell_type": "markdown",
   "id": "0ca94984",
   "metadata": {},
   "source": [
    "Using these values, perform the method described above to find an approximate solution $x = (x_1, x_2)$ to the system $Ax=b$. Given this solution, create a scatter plot of the vector $b$ (on the y-axis) versus the second column of $A$ (on the x-axis), and overlay a plot of the scalar function $g(a) = x_1 + ax_2$. What does the function $g$ appear to be?"
   ]
  },
  {
   "cell_type": "code",
   "execution_count": 6,
   "id": "d2279ea9",
   "metadata": {},
   "outputs": [
    {
     "data": {
      "image/png": "[encoded data removed]",
      "text/plain": [
       "<Figure size 432x288 with 1 Axes>"
      ]
     },
     "metadata": {
      "needs_background": "light"
     },
     "output_type": "display_data"
    }
   ],
   "source": [
    "Q, R = np.linalg.qr(A)\n",
    "x_star = solve_triangular(R, np.dot(Q.T, b))\n",
    "\n",
    "import matplotlib.pyplot as plt\n",
    "\n",
    "def g(a):\n",
    "    return x_star[0] + a*x_star[1]\n",
    "\n",
    "aa = np.linspace(-5,5,2)\n",
    "plt.scatter(A[:,1], b)\n",
    "plt.plot(aa, g(aa))\n",
    "plt.show()"
   ]
  },
  {
   "cell_type": "code",
   "execution_count": null,
   "id": "13fe95f2",
   "metadata": {},
   "outputs": [],
   "source": []
  }
 ],
 "metadata": {
  "kernelspec": {
   "display_name": "Python 3",
   "language": "python",
   "name": "python3"
  },
  "language_info": {
   "codemirror_mode": {
    "name": "ipython",
    "version": 3
   },
   "file_extension": ".py",
   "mimetype": "text/x-python",
   "name": "python",
   "nbconvert_exporter": "python",
   "pygments_lexer": "ipython3",
   "version": "3.9.5"
  }
 },
 "nbformat": 4,
 "nbformat_minor": 5
}
