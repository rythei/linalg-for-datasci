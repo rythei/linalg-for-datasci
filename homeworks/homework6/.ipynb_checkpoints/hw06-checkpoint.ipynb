{
 "cells": [
  {
   "cell_type": "markdown",
   "id": "unnecessary-crown",
   "metadata": {},
   "source": [
    "# Homework 6 Computational Problems"
   ]
  },
  {
   "cell_type": "markdown",
   "id": "other-ceramic",
   "metadata": {},
   "source": [
    "## Problem 1: checking if a linear function is injective\n",
    "\n",
    "One way to check whether a linear transformation $f(\\boldsymbol{x}) = \\boldsymbol{Ax}$ is injective by checking if the matrix $\\boldsymbol{A}^\\top \\boldsymbol{A}$ is invertible. \n",
    "\n",
    "For each of the following matrices $\\boldsymbol{A}$, use the `np.linalg.inv()` function to check whether $f(\\boldsymbol{x}) = \\boldsymbol{Ax}$ is injective. If it is, then verify that the function $g(\\boldsymbol{y}) = (\\boldsymbol{A}^\\top \\boldsymbol{A})^{-1}\\boldsymbol{A}^\\top \\boldsymbol{y}$ is a left inverse for $f(\\boldsymbol{x})$. (Hint: $g(\\boldsymbol{y}) = \\boldsymbol{By}$ is a left inverse for $f(\\boldsymbol{x}) = \\boldsymbol{Ax}$ if and only if $\\boldsymbol{BA} = \\boldsymbol{I}$)."
   ]
  },
  {
   "cell_type": "markdown",
   "id": "freelance-traffic",
   "metadata": {},
   "source": [
    "### Part A.\n",
    "\n",
    "$$\n",
    "\\boldsymbol{A} =  \\begin{bmatrix}\n",
    "1 & 0 & 0 \\\\\n",
    "0 & 1 & 0 \\\\\n",
    "0 & 0 & 1 \\\\\n",
    "0 & 0 & 0 \n",
    "\\end{bmatrix}\n",
    "$$"
   ]
  },
  {
   "cell_type": "code",
   "execution_count": 16,
   "id": "equipped-hours",
   "metadata": {},
   "outputs": [],
   "source": []
  },
  {
   "cell_type": "markdown",
   "id": "civic-generator",
   "metadata": {},
   "source": [
    "### Part B.\n",
    "$$\n",
    "\\boldsymbol{A} =  \\begin{bmatrix}\n",
    "1 & 0 & 1 \\\\\n",
    "1 & 1 & 0 \\\\\n",
    "0 & 0 & 0 \\\\\n",
    "2 & 1 & 1 \n",
    "\\end{bmatrix}\n",
    "$$"
   ]
  },
  {
   "cell_type": "code",
   "execution_count": null,
   "id": "documentary-evolution",
   "metadata": {},
   "outputs": [],
   "source": []
  },
  {
   "cell_type": "markdown",
   "id": "graphic-breakdown",
   "metadata": {},
   "source": [
    "### Part C.\n",
    "$$\n",
    "\\boldsymbol{A} =  \\begin{bmatrix}\n",
    "1 & 0 & -1 & 3 & 0\\\\\n",
    "0 & 1 & 2 & 0 & 1\\\\\n",
    "-1 & 0 &-2 & -2 & 0\n",
    "\\end{bmatrix}\n",
    "$$"
   ]
  },
  {
   "cell_type": "code",
   "execution_count": null,
   "id": "resistant-lesson",
   "metadata": {},
   "outputs": [],
   "source": []
  },
  {
   "cell_type": "markdown",
   "id": "emotional-redhead",
   "metadata": {},
   "source": [
    "## Problem 2: checking if a linear function is surjective\n",
    "\n",
    "Similarly, one way to check whether a linear transformation $f(\\boldsymbol{x}) = \\boldsymbol{Ax}$ is surjective by checking if the matrix $\\boldsymbol{AA}^\\top$ is invertible. \n",
    "\n",
    "For each of the following matrices $\\boldsymbol{A}$, use the `np.linalg.inv()` function to check whether $f(\\boldsymbol{x}) = \\boldsymbol{Ax}$ is surjective. If it is, then verify that the function $g(\\boldsymbol{y}) = \\boldsymbol{A}^\\top(\\boldsymbol{A A}^\\top)^{-1} \\boldsymbol{y}$ is a right inverse for $f(\\boldsymbol{x})$. (Hint: $g(\\boldsymbol{y}) = \\boldsymbol{By}$ is a right inverse for $f(\\boldsymbol{x}) = \\boldsymbol{Ax}$ if and only if $\\boldsymbol{AB} = \\boldsymbol{I}$)."
   ]
  },
  {
   "cell_type": "markdown",
   "id": "shaped-moment",
   "metadata": {},
   "source": [
    "### Part A.\n",
    "$$\n",
    "\\boldsymbol{A} =  \\begin{bmatrix}\n",
    "2 & 0 & 6 & 0 & 1\\\\\n",
    "0 & 1 & -1 & 2 & 3\\\\\n",
    "-1 & 2 & 0 & 1 & 0\n",
    "\\end{bmatrix}\n",
    "$$"
   ]
  },
  {
   "cell_type": "code",
   "execution_count": null,
   "id": "clear-practitioner",
   "metadata": {},
   "outputs": [],
   "source": []
  },
  {
   "cell_type": "markdown",
   "id": "finished-grocery",
   "metadata": {},
   "source": [
    "### Part B.\n",
    "$$\n",
    "\\boldsymbol{A} =  \\begin{bmatrix}\n",
    "1 & -1 & 7 \\\\\n",
    "2 & 1 & 3 \\\\\n",
    "-4 & 0 & 1 \\\\\n",
    "2 & 6 & -2 \n",
    "\\end{bmatrix}\n",
    "$$"
   ]
  },
  {
   "cell_type": "code",
   "execution_count": null,
   "id": "plastic-kentucky",
   "metadata": {},
   "outputs": [],
   "source": []
  },
  {
   "cell_type": "markdown",
   "id": "opening-photography",
   "metadata": {},
   "source": [
    "### Part C.\n",
    "$$\n",
    "\\boldsymbol{A} =  \\begin{bmatrix}\n",
    "1 & 0 & -1 & 1 \\\\\n",
    "0 & 1 & 1 & 0 \\\\\n",
    "-1 & 1 &2 & -1 \n",
    "\\end{bmatrix}\n",
    "$$"
   ]
  },
  {
   "cell_type": "code",
   "execution_count": null,
   "id": "confirmed-yemen",
   "metadata": {},
   "outputs": [],
   "source": []
  },
  {
   "cell_type": "markdown",
   "id": "applied-english",
   "metadata": {},
   "source": [
    "## Problem 3: changing between bases\n",
    "\n",
    "Consider the bases $B_1 = \\{\\boldsymbol{v}_1,\\boldsymbol{v}_2,\\boldsymbol{v}_3\\}$ and $B_2 = \\{\\boldsymbol{u}_1, \\boldsymbol{u}_2, \\boldsymbol{u}_3\\}$ where\n",
    "$$\n",
    "\\boldsymbol{v}_1 = \\begin{pmatrix}1\\\\ 0 \\\\ 0 \\end{pmatrix}, \\boldsymbol{v}_2 = \\begin{pmatrix}1\\\\ 1 \\\\ 0 \\end{pmatrix}, \\boldsymbol{v}_3 = \\begin{pmatrix}1\\\\ 1 \\\\ 1 \\end{pmatrix}\n",
    "$$\n",
    "and\n",
    "$$\n",
    "\\boldsymbol{u}_1 = \\begin{pmatrix}-1\\\\ 0 \\\\ 1 \\end{pmatrix}, \\boldsymbol{u}_2 = \\begin{pmatrix}1\\\\ 2 \\\\ 0 \\end{pmatrix}, \\boldsymbol{u}_3 = \\begin{pmatrix}2\\\\ -3 \\\\ 4 \\end{pmatrix}\n",
    "$$\n",
    "and let $\\boldsymbol{x}= \\begin{pmatrix}1\\\\ 2\\\\ 3 \\end{pmatrix}$ be a vector with respect to the standard basis. Also, denote $E = \\{\\boldsymbol{e}_1,\\boldsymbol{e}_2,\\boldsymbol{e}_3\\}$ the standard basis for $\\mathbb{R}^3$.\n",
    "\n",
    "### Part A.\n",
    "Compute the change of basis matrix $\\boldsymbol{T}_{E \\to B_1}$, and use it to find the coordinates $\\boldsymbol{\\alpha} = (\\alpha_1, \\alpha_2,\\alpha_3)$ of $\\boldsymbol{x}$ with respect to $B_1$. Verify that $\\boldsymbol{x} = \\alpha_1 \\boldsymbol{v}_1 + \\alpha_2 \\boldsymbol{v}_2 + \\alpha_3 \\boldsymbol{v}_3$."
   ]
  },
  {
   "cell_type": "code",
   "execution_count": null,
   "id": "promising-integral",
   "metadata": {},
   "outputs": [],
   "source": []
  },
  {
   "cell_type": "markdown",
   "id": "fabulous-functionality",
   "metadata": {},
   "source": [
    "### Part B.\n",
    "Compute the change of basis matrix $\\boldsymbol{T}_{E \\to B_2}$, and use it to find the coordinates $\\boldsymbol{\\beta} = (\\beta_1, \\beta_2,\\beta_3)$ of $\\boldsymbol{x}$ with respect to $B_2$. Verify that $\\boldsymbol{x} = \\beta_1 \\boldsymbol{u}_1 + \\beta_2 \\boldsymbol{u}_2 + \\beta_3 \\boldsymbol{u}_3$."
   ]
  },
  {
   "cell_type": "code",
   "execution_count": null,
   "id": "creative-grenada",
   "metadata": {},
   "outputs": [],
   "source": []
  }
 ],
 "metadata": {
  "kernelspec": {
   "display_name": "Python 3",
   "language": "python",
   "name": "python3"
  },
  "language_info": {
   "codemirror_mode": {
    "name": "ipython",
    "version": 3
   },
   "file_extension": ".py",
   "mimetype": "text/x-python",
   "name": "python",
   "nbconvert_exporter": "python",
   "pygments_lexer": "ipython3",
   "version": "3.9.5"
  }
 },
 "nbformat": 4,
 "nbformat_minor": 5
}
