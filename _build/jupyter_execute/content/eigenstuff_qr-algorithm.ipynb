{
 "cells": [
  {
   "cell_type": "markdown",
   "id": "a9a32f87",
   "metadata": {},
   "source": [
    "# The QR algorithm for finding eigenvalues and eigenvectors\n",
    "\n",
    "In the previous sections, we discussed finding the eigenvalues and eigenvectors of a matrix $\\boldsymbol{A}$ largely abstractly, without much interest in how we would actually do this in practice. As we saw, we can find the eigenvalues (in theory) by finding the zeros of the degree-$n$ polynomial $p(\\lambda) = \\det(\\boldsymbol{A} - \\lambda \\boldsymbol{I})$. If we had these eigenvalues, say $\\lambda_1,\\dots, \\lambda_n$, then we could find the eigenvectors fairly easily by solving the linear system of equations\n",
    "\n",
    "$$\n",
    "(\\boldsymbol{A} - \\lambda_i \\boldsymbol{I})\\boldsymbol{v} = 0,\n",
    "$$\n",
    "\n",
    "e.g. by using the QR decomposition and backsubstitution. The latter component would be a feasible way to find the eigenvectors in practice if we knew what the eigenvalues were. Unfortunately, finding the zeros of $p(\\lambda)$ this is not a particularly practical approach, beyond the 2- or 3-dimensional case. Instead, we require other algorithms to find the eigenvalues. We saw one method on the homework for doing this called the _power method_. Here we briefly introduce another popular algorithm which uses the QR decomposition called the QR algorithm, which we outline below.\n",
    "\n",
    "$$\n",
    "\\begin{align}\n",
    "&\\underline{\\textbf{QR algorithm}: \\text{find the eigenvalues of an $n\\times n$ matrix $\\boldsymbol{A}$}} \\\\\n",
    "&\\textbf{input}:\\text{$n\\times n$ matrix }\\boldsymbol{A}\\in \\mathbb{R}^{n\\times n} \\\\\n",
    "&\\hspace{0mm} \\text{while $\\boldsymbol{A}$ is not approximately upper triangular:}\\\\\n",
    "&\\hspace{10mm} \\boldsymbol{Q}, \\boldsymbol{R} = \\texttt{qr_decomposition}(\\boldsymbol{A})\\\\\n",
    "&\\hspace{10mm} \\text{update }\\boldsymbol{A} = \\boldsymbol{R}\\boldsymbol{Q}\\\\\n",
    "&\\hspace{0mm} \\text{return } \\text{diag}(\\boldsymbol{A})\\\\\n",
    "\\end{align}\n",
    "$$\n",
    "\n",
    "This algorithm works due to the following two properties. First, note that for a single interation we have\n",
    "\n",
    "$$\n",
    "\\boldsymbol{A}' = \\boldsymbol{RQ} = \\boldsymbol{Q^\\top Q R Q} = \\boldsymbol{Q}^\\top \\boldsymbol{AQ}\n",
    "$$\n",
    "\n",
    "where $\\boldsymbol{Q}$ is an orthogonal matrix. Because the matrices $\\boldsymbol{A}$ and $\\boldsymbol{A}'$ differ only by an orthogonal transformation on either side, they are what we call _similar_ matrices. It turns out that similar matrices always have the same eigenvalues. To see this, let $(\\lambda, \\boldsymbol{v})$ be an eigenvalue/eigenvector pair for $\\boldsymbol{A}'$, and let $\\boldsymbol{A} = \\boldsymbol{Q\\boldsymbol{A}'\\boldsymbol{Q}}$ be defined as above. Then\n",
    "\n",
    "$$\n",
    "\\lambda\\boldsymbol{v} = \\boldsymbol{A}'\\boldsymbol{v} = \\boldsymbol{QA Q^\\top v} \\iff \\lambda \\boldsymbol{Q^\\top v} = \\boldsymbol{A Q^\\top v}.\n",
    "$$\n",
    "\n",
    "This means that $(\\lambda, \\boldsymbol{Q^\\top v})$ is an eigenvalue/eigenvector pair for the matrix $\\boldsymbol{A}$, and so $\\boldsymbol{A}$ and $\\boldsymbol{A}'$ have the same eigenvalues, and eigenvectors which differ by a factor of $\\boldsymbol{Q}^\\top$. Thus at each iteration in the QR algorithm, the matrices $\\boldsymbol{A}$ have the same eigenvalues.\n",
    "\n",
    "The next step we do not prove, but will show numerically. It turns out that for \"nice\" matrices (in particular, matrices that have distinct eigenvalues), the QR algorithm converges to an upper triangular matrix. Therefore, as we saw in the previous section, we can read off the eigenvalues of this matrix by checking its diagonal entries. Let's see a simple example that illustrates this."
   ]
  },
  {
   "cell_type": "code",
   "execution_count": 1,
   "id": "eab32444",
   "metadata": {},
   "outputs": [
    {
     "name": "stdout",
     "output_type": "stream",
     "text": [
      "A at iteration i = 0 is\n",
      "[[ 7.63442441 -0.92694129  0.7304525 ]\n",
      " [-0.92694129  0.88590248 -0.29370486]\n",
      " [ 0.7304525  -0.29370486  0.68681347]]\n",
      "A at iteration i = 1 is\n",
      "[[ 7.8381613  -0.12796439 -0.051322  ]\n",
      " [-0.12796439  0.8453167   0.13320343]\n",
      " [-0.051322    0.13320343  0.52366236]]\n",
      "A at iteration i = 2 is\n",
      "[[ 7.84086186e+00 -1.53177041e-02  3.25020496e-03]\n",
      " [-1.53177041e-02  8.75823397e-01 -7.69453274e-02]\n",
      " [ 3.25020496e-03 -7.69453274e-02  4.90455103e-01]]\n",
      "A at iteration i = 3 is\n",
      "[[ 7.84089669e+00 -1.76707214e-03 -1.99732103e-04]\n",
      " [-1.76707214e-03  8.86253517e-01  4.21671094e-02]\n",
      " [-1.99732103e-04  4.21671094e-02  4.79990160e-01]]\n",
      "A at iteration i = 4 is\n",
      "[[ 7.84089714e+00 -2.01611322e-04  1.21619825e-05]\n",
      " [-2.01611322e-04  8.89338940e-01 -2.26906416e-02]\n",
      " [ 1.21619825e-05 -2.26906416e-02  4.76904287e-01]]\n",
      "A at iteration i = 5 is\n",
      "[[ 7.84089714e+00 -2.29288759e-05 -7.38585895e-07]\n",
      " [-2.29288759e-05  8.90227735e-01  1.21450846e-02]\n",
      " [-7.38585896e-07  1.21450846e-02  4.76015487e-01]]\n",
      "A at iteration i = 6 is\n",
      "[[ 7.84089714e+00 -2.60526133e-06  4.48192637e-08]\n",
      " [-2.60526133e-06  8.90481976e-01 -6.49065443e-03]\n",
      " [ 4.48192648e-08 -6.49065443e-03  4.75761246e-01]]\n",
      "A at iteration i = 7 is\n",
      "[[ 7.84089714e+00 -2.95941416e-07 -2.71914986e-09]\n",
      " [-2.95941416e-07  8.90554559e-01  3.46725797e-03]\n",
      " [-2.71915090e-09  3.46725797e-03  4.75688663e-01]]\n",
      "A at iteration i = 8 is\n",
      "[[ 7.84089714e+00 -3.36145767e-08  1.64957481e-10]\n",
      " [-3.36145767e-08  8.90575269e-01 -1.85195111e-03]\n",
      " [ 1.64958514e-10 -1.85195111e-03  4.75667953e-01]]\n",
      "A at iteration i = 9 is\n",
      "[[ 7.84089714e+00 -3.81803810e-09 -1.00060702e-11]\n",
      " [-3.81803810e-09  8.90581177e-01  9.89139136e-04]\n",
      " [-1.00071041e-11  9.89139136e-04  4.75662045e-01]]\n"
     ]
    }
   ],
   "source": [
    "import numpy as np\n",
    "\n",
    "A = np.random.normal(size= (3,3))\n",
    "A = np.dot(A.T, A)\n",
    "\n",
    "for i in range(10):\n",
    "    Q,R = np.linalg.qr(A)\n",
    "    A = np.dot(R,Q)\n",
    "    print('A at iteration i = %s is' % i)\n",
    "    print(A)"
   ]
  },
  {
   "cell_type": "markdown",
   "id": "c86688ce",
   "metadata": {},
   "source": [
    "As we can see, the lower triangular portion of $\\boldsymbol{A}$ is becoming closer and closer to zero after more iterations. Hence, since the eigenvalues are unchanged at each iteration, we can read of the eigenvalues of $\\boldsymbol{A}$ from the eigenvalues of the (approximately) triangular matrix that we get after several iterations. Let's now implement our own `eigenvalue_decomposition_qr` function which uses the QR algorthm to find the eigenvalues, and then finds the eigenvectors."
   ]
  },
  {
   "cell_type": "code",
   "execution_count": 2,
   "id": "2c2a7e9d",
   "metadata": {},
   "outputs": [],
   "source": [
    "from scipy.linalg import solve_triangular\n",
    "\n",
    "def eigenvalue_decomposition_qr(A):\n",
    "    '''\n",
    "    find the eigenvalues and eigenvectors of a matrix using the QR decomposition\n",
    "    '''\n",
    "    A0 = A\n",
    "\n",
    "    # first implement the QR algorithm\n",
    "    while not np.allclose(A0, np.triu(A0)):\n",
    "        Q,R = np.linalg.qr(A0)\n",
    "        A0 = np.dot(R, Q)\n",
    "\n",
    "    values = np.diag(A0)\n",
    "\n",
    "    # next, find the eigenvectors\n",
    "    vectors = []\n",
    "\n",
    "    # use the QR decomposition to solve (A-\\lambda I)v = 0\n",
    "    for i in range(A.shape[0]):\n",
    "        M = A - values[i]*np.eye(A.shape[0])\n",
    "        Q, R = np.linalg.qr(M)\n",
    "        vi = solve_triangular(R, np.zeros(A.shape[0]))\n",
    "        vectors.append(vi)\n",
    "\n",
    "    # shape the vectors into a matrix\n",
    "    vectors = np.array(vectors).T\n",
    "    return values, vectors"
   ]
  },
  {
   "cell_type": "markdown",
   "id": "331834c9",
   "metadata": {},
   "source": [
    "Now let's test our implementation against the usual numpy `eig` function."
   ]
  },
  {
   "cell_type": "code",
   "execution_count": 3,
   "id": "ceefd218",
   "metadata": {},
   "outputs": [
    {
     "name": "stdout",
     "output_type": "stream",
     "text": [
      "[19.01157395 11.94476713  3.11049544  1.23164995  0.70103717]\n",
      "[19.01157395 11.94476713  3.11049544  0.70103717  1.23164995]\n"
     ]
    }
   ],
   "source": [
    "A = np.random.normal(size=(5,5))\n",
    "A = np.dot(A.T, A)\n",
    "\n",
    "values_qr, vectors_qr = eigenvalue_decomposition_qr(A)\n",
    "print(values_qr)\n",
    "\n",
    "values, vectors = np.linalg.eig(A)\n",
    "print(values)"
   ]
  },
  {
   "cell_type": "markdown",
   "id": "e0445544",
   "metadata": {},
   "source": [
    "Indeed, the two algorithms give the same output (though potentially not ordered in the same way)."
   ]
  }
 ],
 "metadata": {
  "jupytext": {
   "text_representation": {
    "extension": ".md",
    "format_name": "myst",
    "format_version": 0.12,
    "jupytext_version": "1.9.1"
   }
  },
  "kernelspec": {
   "display_name": "Python 3",
   "language": "python",
   "name": "python3"
  },
  "language_info": {
   "codemirror_mode": {
    "name": "ipython",
    "version": 3
   },
   "file_extension": ".py",
   "mimetype": "text/x-python",
   "name": "python",
   "nbconvert_exporter": "python",
   "pygments_lexer": "ipython3",
   "version": "3.9.5"
  },
  "source_map": [
   12,
   51,
   62,
   66,
   95,
   99,
   108
  ]
 },
 "nbformat": 4,
 "nbformat_minor": 5
}