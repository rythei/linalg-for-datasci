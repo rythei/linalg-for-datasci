{
 "cells": [
  {
   "cell_type": "markdown",
   "id": "6c2d293c",
   "metadata": {},
   "source": [
    "# Deconstructing Matrix Multiplication\n",
    "\n",
    "In this section, we will \"deconstruct\" matrix multiplication, by viewing it in terms of operations on the rows and columns of the matrices being multiplied. This will give us the opportunity to further our intuition for what matrix multiplication is really doing, and how this understanding can be useful from the perspective of computational efficiency.\n",
    "\n",
    "## Computing columns of a matrix product\n",
    "\n",
    "Suppose we had two large matrices $\\boldsymbol{A}\\in \\mathbb{R}^{n\\times m}$ and $\\boldsymbol{B}\\in\\mathbb{R}^{m\\times p}$ that contain a bunch of information, but we're only interested in computing the $i^{th}$ column of the product $\\boldsymbol{AB}$.\n",
    "\n",
    "A naive way to find this column is to first compute the product $\\boldsymbol{AB}$ and then select the $i^{th}$ column using slicing in Python.\n",
    "Let's try this approach.\n",
    "\n",
    "Since we are interested in the properties of matrix multiplication, we can work with any matrices.\n",
    "So, let's keep things simple and use random matrices.\n",
    "We first define two random matrices $\\boldsymbol{A}$ and $\\boldsymbol{B}$."
   ]
  },
  {
   "cell_type": "code",
   "execution_count": 1,
   "id": "76743d0e",
   "metadata": {},
   "outputs": [],
   "source": [
    "import numpy as np\n",
    "\n",
    "n, m, p = 1000, 100, 1000\n",
    "\n",
    "A = np.random.rand(n, m)\n",
    "B = np.random.randn(m, p)"
   ]
  },
  {
   "cell_type": "markdown",
   "id": "97ecf5f0",
   "metadata": {},
   "source": [
    "Let's time how long it takes to compute $\\boldsymbol{AB}$ and then select the $i^{th}$ column of the product."
   ]
  },
  {
   "cell_type": "code",
   "execution_count": 2,
   "id": "1cb11e72",
   "metadata": {},
   "outputs": [
    {
     "name": "stdout",
     "output_type": "stream",
     "text": [
      "time taken to compute AB and select the ith column:  0.005128145217895508\n"
     ]
    }
   ],
   "source": [
    "import time\n",
    "\n",
    "i = 20\n",
    "\n",
    "tic = time.time()\n",
    "AB = np.dot(A,B)\n",
    "ith_column = AB[:,i]\n",
    "print('time taken to compute AB and select the ith column: ', time.time()- tic)"
   ]
  },
  {
   "cell_type": "markdown",
   "id": "951d24a2",
   "metadata": {},
   "source": [
    "This works, but as we'll see it is not the most effecient way to find the desired column.\n",
    "\n",
    "Let's write $\\boldsymbol{B}$ in block form, representing it in terms of its columns.\n",
    "\n",
    "\n",
    "$$\n",
    "\\boldsymbol{B} = \\begin{bmatrix}|& | && |\\\\ \\boldsymbol{b}_{:1}&  \\boldsymbol{b}_{:2}& \\cdots & \\boldsymbol{b}{:p}\\\\ |&|&&|\\end{bmatrix}\n",
    "$$\n",
    "\n",
    "\n",
    "Then the product $\\boldsymbol{AB}$ can be written as\n",
    "\n",
    "\n",
    "$$\n",
    "\\boldsymbol{AB} = \\boldsymbol{A}\\begin{bmatrix}|& | && |\\\\ \\boldsymbol{b}_{:1}&  \\boldsymbol{b}_{:2}& \\cdots & \\boldsymbol{b}{:p}\\\\ |&|&&|\\end{bmatrix}\n",
    "$$\n",
    "\n",
    "\n",
    "From this representation, we see that the $i^{th}$ column of $\\boldsymbol{AB}$ is really just $\\boldsymbol{A}\\boldsymbol{b}_{:i}$ -- or the matrix-vector product of $\\boldsymbol{A}$ with the $i^{th}$ column of $\\boldsymbol{B}$.\n",
    "Therefore, we see that we can compute the $i^{th}$ column of $\\boldsymbol{AB}$ without having to compute the whole matrix $\\boldsymbol{AB}$ first: we can simply select the $i^{th}$ column $\\boldsymbol{b}_{:i}$ of $\\boldsymbol{B}$, and then apply $\\boldsymbol{A}$ to it.\n",
    "Let's try this method, and compare the time with the above method."
   ]
  },
  {
   "cell_type": "code",
   "execution_count": 3,
   "id": "cbf9851f",
   "metadata": {},
   "outputs": [
    {
     "name": "stdout",
     "output_type": "stream",
     "text": [
      "time taken to compute A*B[:,i]:  0.00030112266540527344\n"
     ]
    }
   ],
   "source": [
    "tic = time.time()\n",
    "ith_column_fast = np.dot(A,B[:,i])\n",
    "print('time taken to compute A*B[:,i]: ', time.time()- tic)"
   ]
  },
  {
   "cell_type": "markdown",
   "id": "5c1fc577",
   "metadata": {},
   "source": [
    "As we can see, this method is much faster.\n",
    "These matrices were not too large; but as the matrices get larger, this speedup will only become greater.\n",
    "Let's also verify that the two approaches give the same result."
   ]
  },
  {
   "cell_type": "code",
   "execution_count": 4,
   "id": "23190f39",
   "metadata": {},
   "outputs": [
    {
     "data": {
      "text/plain": [
       "True"
      ]
     },
     "execution_count": 4,
     "metadata": {},
     "output_type": "execute_result"
    }
   ],
   "source": [
    "np.allclose(ith_column, ith_column_fast)"
   ]
  },
  {
   "cell_type": "markdown",
   "id": "a575eb72",
   "metadata": {},
   "source": [
    "This method is easily generalized to selecting a subset of the columns of $\\boldsymbol{AB}$.\n",
    "For example, suppose we wanted to select the $1^{st}$, $5^{th}$ and $11^{th}$ columns of $\\boldsymbol{AB}$.\n",
    "Then we could multiply $\\boldsymbol{A}$ by only the columns $1,5$ and $11$ of $\\boldsymbol{B}$.\n",
    "In Python, we can do this with the following code."
   ]
  },
  {
   "cell_type": "code",
   "execution_count": 5,
   "id": "63811f85",
   "metadata": {},
   "outputs": [
    {
     "name": "stdout",
     "output_type": "stream",
     "text": [
      "time taken to compute AB and select subset of columns:  0.005263805389404297\n",
      "time taken to compute A*B[:,cols]:  0.00040602684020996094\n"
     ]
    }
   ],
   "source": [
    "cols = [0,4,10]\n",
    "\n",
    "tic = time.time()\n",
    "AB = np.dot(A,B)\n",
    "subset_of_columns_slow = AB[:,cols]\n",
    "print('time taken to compute AB and select subset of columns: ', time.time()- tic)\n",
    "\n",
    "tic = time.time()\n",
    "subset_of_columns_fast = np.dot(A,B[:,cols])\n",
    "print('time taken to compute A*B[:,cols]: ', time.time()- tic)"
   ]
  },
  {
   "cell_type": "markdown",
   "id": "a7f9c496",
   "metadata": {},
   "source": [
    "Again, we can verify that the two approaches give the same result."
   ]
  },
  {
   "cell_type": "code",
   "execution_count": 6,
   "id": "9d6871ed",
   "metadata": {},
   "outputs": [
    {
     "data": {
      "text/plain": [
       "True"
      ]
     },
     "execution_count": 6,
     "metadata": {},
     "output_type": "execute_result"
    }
   ],
   "source": [
    "np.allclose(subset_of_columns_slow, subset_of_columns_fast)"
   ]
  },
  {
   "cell_type": "markdown",
   "id": "38a4c3fd",
   "metadata": {},
   "source": [
    "## Computing rows of a matrix product\n",
    "\n",
    "Like in the above section with columns, we can also take advantage of the structure of matrix multiplication in computing a single row of a matrix product $\\boldsymbol{AB}$.\n",
    "To see this, let's write\n",
    "\n",
    "$$\n",
    "\\boldsymbol{A} = \\begin{bmatrix}- & \\boldsymbol{a}_{1:}^\\top & -\\\\ - & \\boldsymbol{a}_{2:}^\\top & -\\\\ & \\vdots& \\\\ - &\\boldsymbol{a}_{n,:}^\\top& -\\end{bmatrix}  ,\n",
    "$$\n",
    "\n",
    "where $\\boldsymbol{a}_{i:}^\\top$ is the $i^{th}$ row of $\\boldsymbol{A}$.\n",
    "Then if we write out the matrix product $\\boldsymbol{AB}$ as\n",
    "\n",
    "$$\n",
    "\\boldsymbol{AB} = \\begin{bmatrix}- & \\boldsymbol{a}_{1:}^\\top & -\\\\ - & \\boldsymbol{a}_{2:}^\\top & -\\\\ & \\vdots& \\\\ - &\\boldsymbol{a}_{n,:}^\\top& -\\end{bmatrix} \\boldsymbol{B}\n",
    "$$\n",
    "\n",
    "we observe that the $i^{th}$ row of $\\boldsymbol{AB}$ is given by $\\boldsymbol{a}_{i:}^\\top \\boldsymbol{B}$.\n",
    "Let's compare this method to the naive approach of computing the full product $\\boldsymbol{AB}$ and then selecting the $i^{th}$ row."
   ]
  },
  {
   "cell_type": "code",
   "execution_count": 7,
   "id": "0f9f4d28",
   "metadata": {},
   "outputs": [
    {
     "name": "stdout",
     "output_type": "stream",
     "text": [
      "time taken to compute AB and select the ith row:  0.005156040191650391\n",
      "time taken to compute A[i,:]*B:  0.00025010108947753906\n"
     ]
    }
   ],
   "source": [
    "i = 20\n",
    "\n",
    "tic = time.time()\n",
    "AB = np.dot(A,B)\n",
    "ith_row = AB[i,:]\n",
    "print('time taken to compute AB and select the ith row: ', time.time()- tic)\n",
    "\n",
    "tic = time.time()\n",
    "ith_row_fast = np.dot(A[i,:],B)\n",
    "print('time taken to compute A[i,:]*B: ', time.time()- tic)"
   ]
  },
  {
   "cell_type": "markdown",
   "id": "65828a05",
   "metadata": {},
   "source": [
    "As expected, the method of computing $\\boldsymbol{a}_{i:}^\\top \\boldsymbol{B}$ is substantially faster than computing $\\boldsymbol{AB}$ and then extracting the $i^{th}$ row.\n",
    "Let's verify that they do indeed give the same results."
   ]
  },
  {
   "cell_type": "code",
   "execution_count": 8,
   "id": "400895c1",
   "metadata": {},
   "outputs": [
    {
     "data": {
      "text/plain": [
       "True"
      ]
     },
     "execution_count": 8,
     "metadata": {},
     "output_type": "execute_result"
    }
   ],
   "source": [
    "np.allclose(ith_row, ith_row_fast)"
   ]
  },
  {
   "cell_type": "markdown",
   "id": "6e3b7ca1",
   "metadata": {},
   "source": [
    "Likewise, we can follow the same approach as above to select a subset of rows of the product $\\boldsymbol{AB}$.\n",
    "For example, if we wanted the $4^{th}$, $12^{th}$ and $20^{th}$ rows of $\\boldsymbol{AB}$, we can do so with the following."
   ]
  },
  {
   "cell_type": "code",
   "execution_count": 9,
   "id": "01afbb40",
   "metadata": {},
   "outputs": [
    {
     "name": "stdout",
     "output_type": "stream",
     "text": [
      "time taken to compute AB and select subset of rows:  0.0033102035522460938\n",
      "time taken to compute A[rows,:]*B:  0.0003159046173095703\n"
     ]
    }
   ],
   "source": [
    "rows = [3, 11, 19]\n",
    "\n",
    "tic = time.time()\n",
    "AB = np.dot(A,B)\n",
    "subset_of_rows_slow = AB[rows,:]\n",
    "print('time taken to compute AB and select subset of rows: ', time.time()- tic)\n",
    "\n",
    "tic = time.time()\n",
    "subset_of_rows_fast = np.dot(A[rows,:],B)\n",
    "print('time taken to compute A[rows,:]*B: ', time.time()- tic)"
   ]
  },
  {
   "cell_type": "markdown",
   "id": "05895303",
   "metadata": {},
   "source": [
    "Again, we can verify that the two methods give the same result."
   ]
  },
  {
   "cell_type": "code",
   "execution_count": 10,
   "id": "036064cb",
   "metadata": {},
   "outputs": [
    {
     "data": {
      "text/plain": [
       "True"
      ]
     },
     "execution_count": 10,
     "metadata": {},
     "output_type": "execute_result"
    }
   ],
   "source": [
    "np.allclose(subset_of_rows_slow, subset_of_rows_fast)"
   ]
  },
  {
   "cell_type": "markdown",
   "id": "7f187d9b",
   "metadata": {},
   "source": [
    "For both of these examples (finding columns and finding rows of $\\boldsymbol{AB}$), the speedup becomes even more dramatic and we make the matrices larger.\n",
    "This is because we are computing more unnecessary products to find $\\boldsymbol{AB}$ as the dimensions get large.\n",
    "You can see this yourself by changing the values of $n,m$ and $p$ in the cells above and re-running the same code given here.\n",
    "In data science, we often encounter very large matrices when working with big datasets, and keeping the structure of operations like matrix multiplication in mind when working with these datasets can save you a great deal of computation time in practice."
   ]
  }
 ],
 "metadata": {
  "jupytext": {
   "text_representation": {
    "extension": ".md",
    "format_name": "myst",
    "format_version": 0.12,
    "jupytext_version": "1.9.1"
   }
  },
  "kernelspec": {
   "display_name": "Python 3",
   "language": "python",
   "name": "python3"
  },
  "language_info": {
   "codemirror_mode": {
    "name": "ipython",
    "version": 3
   },
   "file_extension": ".py",
   "mimetype": "text/x-python",
   "name": "python",
   "nbconvert_exporter": "python",
   "pygments_lexer": "ipython3",
   "version": "3.9.5"
  },
  "source_map": [
   12,
   29,
   36,
   40,
   49,
   73,
   77,
   83,
   85,
   92,
   103,
   107,
   109,
   130,
   141,
   146,
   148,
   153,
   164,
   168,
   170
  ]
 },
 "nbformat": 4,
 "nbformat_minor": 5
}