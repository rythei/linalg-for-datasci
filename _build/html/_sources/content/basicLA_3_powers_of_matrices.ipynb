{
 "cells": [
  {
   "cell_type": "markdown",
   "id": "152fdc8a",
   "metadata": {},
   "source": [
    "# Taking Powers of Matrices\n",
    "\n",
    "Taking powers of matrices refers to multiplying a matrix by itself multiple times.\n",
    "\n",
    "Given an $n \\times n$ matrix $A$, we can multiply it by itself to get $ AA $, and this can be denoted $A^2$. \n",
    "Then, since $A^2$ is an $n \\times n$ matrix, we can multiply it to get $A^3$, and so on \n",
    "\n",
    "$$\n",
    "A^k = A \\cdots A  ,\n",
    "$$\n",
    "\n",
    "where there are $k$ copies of $A$ in this product.\n",
    "Taking powers of matrices is very common.\n",
    "Here, we will explore some of the properties of this operation.\n",
    "\n",
    "There are two (related) ways to view this.\n",
    "- First, we can simply multiply $A$ by itself multiple times and see what happens.\n",
    "- Second, we can think of $A$ as multiplying a vector $x$, as in $Ax$, and see what happens if we do this multiple times, i.e., what is $A(A(\\cdots(A(x))))$.\n",
    "\n",
    "We are interested in both of these views.\n",
    "\n",
    "\n",
    "## Powers of a diagonal matrix \n",
    "\n",
    "Let's start by considering powers of a diagonal matrix.\n",
    "\n",
    "Consider a diagonal matrix $A$ of the form\n",
    "\n",
    "$$\n",
    "A = \\begin{pmatrix}a_1 & 0 &\\cdots &0\\\\\n",
    "\t\t\t\t\t\t\t\t\t 0   & a_2 & \\cdots &0\\\\\n",
    "                   \\vdots & \\vdots & \\ddots & \\vdots\\\\\n",
    "                   0 &\\cdots &0&a_n\n",
    "\t\t\\end{pmatrix}\n",
    "$$\n",
    "\n",
    "If we take the second power of this matrix, i.e. $A^2 = AA$, the resulting matrix is\n",
    "\n",
    "$$\n",
    "A^2 = AA = \\begin{pmatrix}a_1 & 0 &\\cdots &0\\\\\n",
    "\t\t\t\t\t\t\t\t\t 0   & a_2 & \\cdots &0\\\\\n",
    "                   \\vdots & \\vdots & \\ddots & \\vdots\\\\\n",
    "                   0 &\\cdots &0&a_n\n",
    "\t\t\\end{pmatrix}\\begin{pmatrix}a_1 & 0 &\\cdots &0\\\\\n",
    "\t\t\t\t\t\t\t\t\t 0   & a_2 & \\cdots &0\\\\\n",
    "                   \\vdots & \\vdots & \\ddots & \\vdots\\\\\n",
    "                   0 &\\cdots &0&a_n\n",
    "\t\t\\end{pmatrix} = \\begin{pmatrix}a_1^2 & 0 &\\cdots &0\\\\\n",
    "\t\t\t\t\t\t\t\t\t 0   & a_2^2 & \\cdots &0\\\\\n",
    "                   \\vdots & \\vdots & \\ddots & \\vdots\\\\\n",
    "                   0 &\\cdots &0&a_n^2\n",
    "\t\t\\end{pmatrix}\n",
    "$$\n",
    "\n",
    "Hence we see that the second power of a diagonal matrix is obtained by simply squaring each entry. \n",
    "More generally, the $k^{th}$ power of a diagonal matrix can be seen to be\n",
    "\n",
    "\n",
    "$$\n",
    "A^k = \\begin{pmatrix}a_1^k & 0 &\\cdots &0\\\\\n",
    "\t\t\t\t\t\t\t\t\t 0   & a_2^k & \\cdots &0\\\\\n",
    "                   \\vdots & \\vdots & \\ddots & \\vdots\\\\\n",
    "                   0 &\\cdots &0&a_n^k\n",
    "\t\t\\end{pmatrix}\n",
    "$$\n",
    "\n",
    "\n",
    "Let's verify this in Python. \n",
    "First, we define a diagonal matrix $A$ using the `np.diag` function."
   ]
  },
  {
   "cell_type": "code",
   "execution_count": 1,
   "id": "3a3410bc",
   "metadata": {},
   "outputs": [
    {
     "data": {
      "text/plain": [
       "array([[ 1,  0,  0,  0,  0,  0,  0,  0,  0,  0],\n",
       "       [ 0,  2,  0,  0,  0,  0,  0,  0,  0,  0],\n",
       "       [ 0,  0,  3,  0,  0,  0,  0,  0,  0,  0],\n",
       "       [ 0,  0,  0,  4,  0,  0,  0,  0,  0,  0],\n",
       "       [ 0,  0,  0,  0,  5,  0,  0,  0,  0,  0],\n",
       "       [ 0,  0,  0,  0,  0,  6,  0,  0,  0,  0],\n",
       "       [ 0,  0,  0,  0,  0,  0,  7,  0,  0,  0],\n",
       "       [ 0,  0,  0,  0,  0,  0,  0,  8,  0,  0],\n",
       "       [ 0,  0,  0,  0,  0,  0,  0,  0,  9,  0],\n",
       "       [ 0,  0,  0,  0,  0,  0,  0,  0,  0, 10]])"
      ]
     },
     "execution_count": 1,
     "metadata": {},
     "output_type": "execute_result"
    }
   ],
   "source": [
    "import numpy as np\n",
    "\n",
    "A = np.diag([1,2,3,4,5,6,7,8,9,10])\n",
    "A"
   ]
  },
  {
   "cell_type": "markdown",
   "id": "43ac6073",
   "metadata": {},
   "source": [
    "Before practicing taking powers of this matrix, let's take a moment to review how we can take powers in Python more generally. \n",
    "We can find the $k^{th}$ power of a scalar $x$ in Python by using the `**` operation. For example,"
   ]
  },
  {
   "cell_type": "code",
   "execution_count": 2,
   "id": "3828bbbd",
   "metadata": {},
   "outputs": [
    {
     "name": "stdout",
     "output_type": "stream",
     "text": [
      "x^2 =  4\n",
      "x^3 =  8\n",
      "x^4 =  16\n"
     ]
    }
   ],
   "source": [
    "x = 2\n",
    "print('x^2 = ', x**2)\n",
    "print('x^3 = ', x**3)\n",
    "print('x^4 = ', x**4)"
   ]
  },
  {
   "cell_type": "markdown",
   "id": "866b296e",
   "metadata": {},
   "source": [
    "The same operation can be used to take the _element-wise_ power of a numpy array. \n",
    "For example,"
   ]
  },
  {
   "cell_type": "code",
   "execution_count": 3,
   "id": "2013a171",
   "metadata": {},
   "outputs": [
    {
     "data": {
      "text/plain": [
       "array([ 1,  4,  9, 16, 25])"
      ]
     },
     "execution_count": 3,
     "metadata": {},
     "output_type": "execute_result"
    }
   ],
   "source": [
    "x = np.array([1,2,3,4,5])\n",
    "x**2"
   ]
  },
  {
   "cell_type": "markdown",
   "id": "c0ceafd2",
   "metadata": {},
   "source": [
    "This returns the array `[1,4,9,16,25]`, which are the squares of each of the entries of `[1,2,3,4,5]`. \n",
    "The same applies to 2-d arrays, i.e., matrices.\n",
    "In this case, we get the _element-wise_ power of the matrix."
   ]
  },
  {
   "cell_type": "code",
   "execution_count": 4,
   "id": "5c6582da",
   "metadata": {},
   "outputs": [
    {
     "data": {
      "text/plain": [
       "array([[  1,   0,   0,   0,   0,   0,   0,   0,   0,   0],\n",
       "       [  0,   4,   0,   0,   0,   0,   0,   0,   0,   0],\n",
       "       [  0,   0,   9,   0,   0,   0,   0,   0,   0,   0],\n",
       "       [  0,   0,   0,  16,   0,   0,   0,   0,   0,   0],\n",
       "       [  0,   0,   0,   0,  25,   0,   0,   0,   0,   0],\n",
       "       [  0,   0,   0,   0,   0,  36,   0,   0,   0,   0],\n",
       "       [  0,   0,   0,   0,   0,   0,  49,   0,   0,   0],\n",
       "       [  0,   0,   0,   0,   0,   0,   0,  64,   0,   0],\n",
       "       [  0,   0,   0,   0,   0,   0,   0,   0,  81,   0],\n",
       "       [  0,   0,   0,   0,   0,   0,   0,   0,   0, 100]])"
      ]
     },
     "execution_count": 4,
     "metadata": {},
     "output_type": "execute_result"
    }
   ],
   "source": [
    "A**2"
   ]
  },
  {
   "cell_type": "markdown",
   "id": "b3ef1865",
   "metadata": {},
   "source": [
    "As we saw above, for diagonal matrices, this is the same as the second power of the matrix. \n",
    "Let's verify this."
   ]
  },
  {
   "cell_type": "code",
   "execution_count": 5,
   "id": "4750bb5e",
   "metadata": {},
   "outputs": [
    {
     "data": {
      "text/plain": [
       "True"
      ]
     },
     "execution_count": 5,
     "metadata": {},
     "output_type": "execute_result"
    }
   ],
   "source": [
    "AA = np.dot(A,A)\n",
    "np.allclose(AA, A**2)"
   ]
  },
  {
   "cell_type": "markdown",
   "id": "e5ded3dd",
   "metadata": {},
   "source": [
    "This is a very special property of diagonal matrices.\n",
    "In general, the $k^{th}$ power of a matrix $A$ will not be the same as taking the $k^{th}$ power of each entry of $A$, as we will see later on.\n",
    "\n",
    "\n",
    "### Powers of a diagonal matrix as $k\\to \\infty$\n",
    "\n",
    "A natural question to ask when taking power of a matrix is what happens to the matrix $A^k$ when we let $k$ get large. \n",
    "Does the matrix $A^k$ converge to a finite matrix $A_\\infty$? \n",
    "Or do the entries diverge? \n",
    "\n",
    "In the case of a diagonal matrix $A$, this question is easy to answer, since we know that $A^k$ corresponds to taking the $k^{th}$ power of each of the diagonal entries of $A$. \n",
    "Thus, our question can be answered by asking what happens to the scalar $x^k$ as $k\\to\\infty$. \n",
    "Indeed, we know the following are true:\n",
    "\n",
    "\n",
    "$$\n",
    "\\lim_{k\\to\\infty}x^k = \\begin{cases} \\infty & \\text{if } x>1\\\\ 1 & \\text{if } x=1\\\\ 0 & \\text{if } -1 < x < 1\\\\ \\text{does not exist} & \\text{if } x\\leq -1\\end{cases}\n",
    "$$\n",
    "\n",
    "\n",
    "Hence, we can expect to have a finite limit $A^k$ as $k\\to \\infty$ if the diagonal entries of $a_1,\\dots,a_n$ of $A$ satisfy $|a_i|<1$ or $a_i = 1$ for all $i=1,\\dots,n$. \n",
    "Otherwise, the matrix $A^k$ will either oscillate or diverge as $k\\to\\infty$. \n",
    "Let's see an example with our matrix $A$ from above. \n",
    "\n",
    "To get an idea of what $A^k$ is as $k\\to\\infty$, let's try computing $A^{10}$."
   ]
  },
  {
   "cell_type": "code",
   "execution_count": 6,
   "id": "45295cf9",
   "metadata": {},
   "outputs": [
    {
     "data": {
      "text/plain": [
       "array([[          1,           0,           0,           0,           0,\n",
       "                  0,           0,           0,           0,           0],\n",
       "       [          0,        1024,           0,           0,           0,\n",
       "                  0,           0,           0,           0,           0],\n",
       "       [          0,           0,       59049,           0,           0,\n",
       "                  0,           0,           0,           0,           0],\n",
       "       [          0,           0,           0,     1048576,           0,\n",
       "                  0,           0,           0,           0,           0],\n",
       "       [          0,           0,           0,           0,     9765625,\n",
       "                  0,           0,           0,           0,           0],\n",
       "       [          0,           0,           0,           0,           0,\n",
       "           60466176,           0,           0,           0,           0],\n",
       "       [          0,           0,           0,           0,           0,\n",
       "                  0,   282475249,           0,           0,           0],\n",
       "       [          0,           0,           0,           0,           0,\n",
       "                  0,           0,  1073741824,           0,           0],\n",
       "       [          0,           0,           0,           0,           0,\n",
       "                  0,           0,           0,  3486784401,           0],\n",
       "       [          0,           0,           0,           0,           0,\n",
       "                  0,           0,           0,           0, 10000000000]])"
      ]
     },
     "execution_count": 6,
     "metadata": {},
     "output_type": "execute_result"
    }
   ],
   "source": [
    "k = 10\n",
    "\n",
    "Ak = np.linalg.matrix_power(A, k)\n",
    "Ak"
   ]
  },
  {
   "cell_type": "markdown",
   "id": "b17cd4f1",
   "metadata": {},
   "source": [
    "As would expect based on our discussion above, the entries are growing very quickly. \n",
    "On the other hand, let's see what happens when we _rescale_ the matrix $A$ between each successive multiplication. \n",
    "In this case, a natural quantity to rescale a matrix $A$ by is the reciprocal of its largest diagonal entry, which in this case is $\\frac{1}{10}$."
   ]
  },
  {
   "cell_type": "code",
   "execution_count": 7,
   "id": "78034b93",
   "metadata": {},
   "outputs": [
    {
     "data": {
      "text/plain": [
       "array([[0.000e+00, 0.000e+00, 0.000e+00, 0.000e+00, 0.000e+00, 0.000e+00,\n",
       "        0.000e+00, 0.000e+00, 0.000e+00, 0.000e+00],\n",
       "       [0.000e+00, 0.000e+00, 0.000e+00, 0.000e+00, 0.000e+00, 0.000e+00,\n",
       "        0.000e+00, 0.000e+00, 0.000e+00, 0.000e+00],\n",
       "       [0.000e+00, 0.000e+00, 0.000e+00, 0.000e+00, 0.000e+00, 0.000e+00,\n",
       "        0.000e+00, 0.000e+00, 0.000e+00, 0.000e+00],\n",
       "       [0.000e+00, 0.000e+00, 0.000e+00, 1.000e-04, 0.000e+00, 0.000e+00,\n",
       "        0.000e+00, 0.000e+00, 0.000e+00, 0.000e+00],\n",
       "       [0.000e+00, 0.000e+00, 0.000e+00, 0.000e+00, 1.000e-03, 0.000e+00,\n",
       "        0.000e+00, 0.000e+00, 0.000e+00, 0.000e+00],\n",
       "       [0.000e+00, 0.000e+00, 0.000e+00, 0.000e+00, 0.000e+00, 6.000e-03,\n",
       "        0.000e+00, 0.000e+00, 0.000e+00, 0.000e+00],\n",
       "       [0.000e+00, 0.000e+00, 0.000e+00, 0.000e+00, 0.000e+00, 0.000e+00,\n",
       "        2.820e-02, 0.000e+00, 0.000e+00, 0.000e+00],\n",
       "       [0.000e+00, 0.000e+00, 0.000e+00, 0.000e+00, 0.000e+00, 0.000e+00,\n",
       "        0.000e+00, 1.074e-01, 0.000e+00, 0.000e+00],\n",
       "       [0.000e+00, 0.000e+00, 0.000e+00, 0.000e+00, 0.000e+00, 0.000e+00,\n",
       "        0.000e+00, 0.000e+00, 3.487e-01, 0.000e+00],\n",
       "       [0.000e+00, 0.000e+00, 0.000e+00, 0.000e+00, 0.000e+00, 0.000e+00,\n",
       "        0.000e+00, 0.000e+00, 0.000e+00, 1.000e+00]])"
      ]
     },
     "execution_count": 7,
     "metadata": {},
     "output_type": "execute_result"
    }
   ],
   "source": [
    "A_rescaled = (1./10)*A\n",
    "A_rescaled_k = np.linalg.matrix_power(A_rescaled, k)\n",
    "np.round(A_rescaled_k,4)"
   ]
  },
  {
   "cell_type": "markdown",
   "id": "63f03b0a",
   "metadata": {},
   "source": [
    "Here, we rounded the matrix to $4$ decimals to make it more readable. \n",
    "We see that the entries aren't growing, and are actually getting smaller, with the exception of $10$th diagonal which stays constant at $1$. \n",
    "Let's try what happens with $k=100$ now to get a better idea for what the limiting matrix is."
   ]
  },
  {
   "cell_type": "code",
   "execution_count": 8,
   "id": "66496962",
   "metadata": {},
   "outputs": [
    {
     "data": {
      "text/plain": [
       "array([[0., 0., 0., 0., 0., 0., 0., 0., 0., 0.],\n",
       "       [0., 0., 0., 0., 0., 0., 0., 0., 0., 0.],\n",
       "       [0., 0., 0., 0., 0., 0., 0., 0., 0., 0.],\n",
       "       [0., 0., 0., 0., 0., 0., 0., 0., 0., 0.],\n",
       "       [0., 0., 0., 0., 0., 0., 0., 0., 0., 0.],\n",
       "       [0., 0., 0., 0., 0., 0., 0., 0., 0., 0.],\n",
       "       [0., 0., 0., 0., 0., 0., 0., 0., 0., 0.],\n",
       "       [0., 0., 0., 0., 0., 0., 0., 0., 0., 0.],\n",
       "       [0., 0., 0., 0., 0., 0., 0., 0., 0., 0.],\n",
       "       [0., 0., 0., 0., 0., 0., 0., 0., 0., 1.]])"
      ]
     },
     "execution_count": 8,
     "metadata": {},
     "output_type": "execute_result"
    }
   ],
   "source": [
    "k = 100\n",
    "\n",
    "A_rescaled_k = np.linalg.matrix_power(A_rescaled, k)\n",
    "np.round(A_rescaled_k,4)"
   ]
  },
  {
   "cell_type": "markdown",
   "id": "98f2aeac",
   "metadata": {},
   "source": [
    "Here it is easy to see that the matrix $A^k$ converges to the matrix of all zeros except the last diagonal entry, which is still $1$. \n",
    "\n",
    "This probably seems like a special situation, but it is very common---if you view the matrix the right way.\n",
    "\n",
    "\n",
    "## Powers of a genenal (symmetric) matrix\n",
    "\n",
    "Let's now consider how taking powers of matrices is similar/different when considering powers of a general (symmetric) matrix.\n",
    "\n",
    "Let's define a symmetric matrix $A$ to use in this section. \n",
    "Here we use a trick to do this: for any matrix $B$, the matrix $B+B^\\top$ is always symmetric.\n",
    "(If we wanted, we could take advantage of the fact that for any matrix $B$, the matrix $BB^\\top$ is always symmetric; or we could use any symmetric matrix.)"
   ]
  },
  {
   "cell_type": "code",
   "execution_count": 9,
   "id": "8f36b4f7",
   "metadata": {},
   "outputs": [
    {
     "data": {
      "text/plain": [
       "array([[ 1.,  4.,  7., 10., 13.],\n",
       "       [ 4.,  7., 10., 13., 16.],\n",
       "       [ 7., 10., 13., 16., 19.],\n",
       "       [10., 13., 16., 19., 22.],\n",
       "       [13., 16., 19., 22., 25.]])"
      ]
     },
     "execution_count": 9,
     "metadata": {},
     "output_type": "execute_result"
    }
   ],
   "source": [
    "B = np.arange(1, 26).reshape(5,5)\n",
    "A = .5*(B + B.T)\n",
    "A"
   ]
  },
  {
   "cell_type": "markdown",
   "id": "a4d22b8a",
   "metadata": {},
   "source": [
    "The first fact about general symmetric matrices which we verify here is that for non-symmetric $A$, it is emphatically _not_ the case that $A^k$ is the same as taking the $k^{th}$ power of each of the entries of $A$. \n",
    "Let's check this for our case.\n",
    "\n",
    "The entry-wise $k^{th}$ power of $A$ is"
   ]
  },
  {
   "cell_type": "code",
   "execution_count": 10,
   "id": "5b726705",
   "metadata": {},
   "outputs": [
    {
     "data": {
      "text/plain": [
       "array([[  1.,  16.,  49., 100., 169.],\n",
       "       [ 16.,  49., 100., 169., 256.],\n",
       "       [ 49., 100., 169., 256., 361.],\n",
       "       [100., 169., 256., 361., 484.],\n",
       "       [169., 256., 361., 484., 625.]])"
      ]
     },
     "execution_count": 10,
     "metadata": {},
     "output_type": "execute_result"
    }
   ],
   "source": [
    "k = 2\n",
    "\n",
    "A**k"
   ]
  },
  {
   "cell_type": "markdown",
   "id": "07e3a0ac",
   "metadata": {},
   "source": [
    "While the $A^k$ is given by"
   ]
  },
  {
   "cell_type": "code",
   "execution_count": 11,
   "id": "738dca12",
   "metadata": {},
   "outputs": [
    {
     "data": {
      "text/plain": [
       "array([[ 335.,  440.,  545.,  650.,  755.],\n",
       "       [ 440.,  590.,  740.,  890., 1040.],\n",
       "       [ 545.,  740.,  935., 1130., 1325.],\n",
       "       [ 650.,  890., 1130., 1370., 1610.],\n",
       "       [ 755., 1040., 1325., 1610., 1895.]])"
      ]
     },
     "execution_count": 11,
     "metadata": {},
     "output_type": "execute_result"
    }
   ],
   "source": [
    "np.linalg.matrix_power(A, k)"
   ]
  },
  {
   "cell_type": "markdown",
   "id": "0568a141",
   "metadata": {},
   "source": [
    "Indeed, these two matrices are very much not the same. \n",
    "If we think about what matrix multiplication does, this of course makes sense: the $(i,j)$th entry of the product $AA$ depends on the entire $i^{th}$ row and $j^{th}$ column of $A$, whereas the $(i,j)^{th}$ entry of the entry-wise square of $A$ only requires calculating $a_{ij}^2$. \n",
    "\n",
    "\n",
    "### Powers of a genenal (symmetric) matrix as $k\\to \\infty$\n",
    "\n",
    "For diagonal matrices, we saw that the power $A^k$ converges to a finite matrix only if we rescale things correctly. \n",
    "Here, we will see that this is also true for general symmetric matrices, but that we need to be a bit careful about how we rescale them.\n",
    "\n",
    "First, let's verify that without rescaling, the matrix $A^k$ will diverge as $k\\to\\infty$."
   ]
  },
  {
   "cell_type": "code",
   "execution_count": 12,
   "id": "2e91eeab",
   "metadata": {},
   "outputs": [
    {
     "data": {
      "text/plain": [
       "array([[2.09676090e+17, 2.85810394e+17, 3.61944698e+17, 4.38079002e+17,\n",
       "        5.14213306e+17],\n",
       "       [2.85810394e+17, 3.89589396e+17, 4.93368399e+17, 5.97147401e+17,\n",
       "        7.00926404e+17],\n",
       "       [3.61944698e+17, 4.93368399e+17, 6.24792100e+17, 7.56215800e+17,\n",
       "        8.87639501e+17],\n",
       "       [4.38079002e+17, 5.97147401e+17, 7.56215800e+17, 9.15284199e+17,\n",
       "        1.07435260e+18],\n",
       "       [5.14213306e+17, 7.00926404e+17, 8.87639501e+17, 1.07435260e+18,\n",
       "        1.26106570e+18]])"
      ]
     },
     "execution_count": 12,
     "metadata": {},
     "output_type": "execute_result"
    }
   ],
   "source": [
    "k = 10\n",
    "\n",
    "Ak = np.linalg.matrix_power(A, k)\n",
    "Ak"
   ]
  },
  {
   "cell_type": "markdown",
   "id": "0c5851a5",
   "metadata": {},
   "source": [
    "Here, $A^k$ diverges due to the specific matrix $A$.  For other matrices, $A^k$ would converge to the all-zeros matrix.\n",
    "\n",
    "Indeed, even for $k=10$, the matrix entries blow up. \n",
    "So how should we rescale $A$ so that this doesn't happen? \n",
    "We might be inspired by the diagonal case and rescale the matrix by the reciprocal of the largest entry of $A$, which in this case would be $\\frac{1}{25}$. \n",
    "Let's see if this works by looking at $(\\frac{1}{25}A)^k$ for $k=20$."
   ]
  },
  {
   "cell_type": "code",
   "execution_count": 13,
   "id": "d9c3dd96",
   "metadata": {},
   "outputs": [
    {
     "data": {
      "text/plain": [
       "array([[7.83934358e+07, 1.06858435e+08, 1.35323434e+08, 1.63788433e+08,\n",
       "        1.92253431e+08],\n",
       "       [1.06858435e+08, 1.45659199e+08, 1.84459963e+08, 2.23260728e+08,\n",
       "        2.62061492e+08],\n",
       "       [1.35323434e+08, 1.84459963e+08, 2.33596493e+08, 2.82733023e+08,\n",
       "        3.31869553e+08],\n",
       "       [1.63788433e+08, 2.23260728e+08, 2.82733023e+08, 3.42205318e+08,\n",
       "        4.01677613e+08],\n",
       "       [1.92253431e+08, 2.62061492e+08, 3.31869553e+08, 4.01677613e+08,\n",
       "        4.71485674e+08]])"
      ]
     },
     "execution_count": 13,
     "metadata": {},
     "output_type": "execute_result"
    }
   ],
   "source": [
    "k = 20\n",
    "\n",
    "A_rescaled1 = (1./25)*A\n",
    "A_rescaled1_k = np.linalg.matrix_power(A_rescaled1, k)\n",
    "A_rescaled1_k"
   ]
  },
  {
   "cell_type": "markdown",
   "id": "f2abac81",
   "metadata": {},
   "source": [
    "Unfortunately, this idea doesn't work---the entries still seem to blow up. \n",
    "However, let's try rescaling by the constant $\\frac{1}{\\lambda}$ where $\\lambda = 71.3104367$. \n",
    "(We'll see later why this particular rescaling makes sense.)"
   ]
  },
  {
   "cell_type": "code",
   "execution_count": 14,
   "id": "360ff8c5",
   "metadata": {},
   "outputs": [
    {
     "data": {
      "text/plain": [
       "array([[0.06166205, 0.08405181, 0.10644157, 0.12883133, 0.15122109],\n",
       "       [0.08405181, 0.11457139, 0.14509097, 0.17561054, 0.20613012],\n",
       "       [0.10644157, 0.14509097, 0.18374036, 0.22238976, 0.26103916],\n",
       "       [0.12883133, 0.17561054, 0.22238976, 0.26916898, 0.3159482 ],\n",
       "       [0.15122109, 0.20613012, 0.26103916, 0.3159482 , 0.37085723]])"
      ]
     },
     "execution_count": 14,
     "metadata": {},
     "output_type": "execute_result"
    }
   ],
   "source": [
    "k = 20\n",
    "lam = 71.3104367\n",
    "\n",
    "A_rescaled2 = (1./lam)*A\n",
    "A_rescaled2_k = np.linalg.matrix_power(A_rescaled2, k)\n",
    "A_rescaled2_k"
   ]
  },
  {
   "cell_type": "markdown",
   "id": "46d30829",
   "metadata": {},
   "source": [
    "Things don't seem to be blowing up this time, so let's see what happens with $k=100$."
   ]
  },
  {
   "cell_type": "code",
   "execution_count": 15,
   "id": "5225f807",
   "metadata": {},
   "outputs": [
    {
     "data": {
      "text/plain": [
       "array([[0.06166205, 0.08405181, 0.10644157, 0.12883133, 0.15122109],\n",
       "       [0.08405181, 0.11457139, 0.14509097, 0.17561055, 0.20613013],\n",
       "       [0.10644157, 0.14509097, 0.18374037, 0.22238977, 0.26103917],\n",
       "       [0.12883133, 0.17561055, 0.22238977, 0.26916899, 0.31594821],\n",
       "       [0.15122109, 0.20613013, 0.26103917, 0.31594821, 0.37085725]])"
      ]
     },
     "execution_count": 15,
     "metadata": {},
     "output_type": "execute_result"
    }
   ],
   "source": [
    "k = 100\n",
    "A_rescaled2_k = np.linalg.matrix_power(A_rescaled2, k)\n",
    "A_rescaled2_k"
   ]
  },
  {
   "cell_type": "markdown",
   "id": "b3f0c04c",
   "metadata": {},
   "source": [
    "Indeed, taking higher powers doesn't seem to be changing the matrix anymore, so this rescaling works to guarantee convergence of the matrix powers. \n",
    "So, how did we come up with the mysterious constant $\\lambda = 71.3104367$? \n",
    "This turns out to be a special number which is the largest _eigenvalue_ of $A$. \n",
    "We won't be discussing the topic of eigenvalues until a bit later in the semester, but consider this some interesting motivation for the topics that we'll study later on. \n",
    "When we get to this topic later on, it will be more clear where this constant came from, and why rescaling by its reciprocal works."
   ]
  }
 ],
 "metadata": {
  "jupytext": {
   "text_representation": {
    "extension": ".md",
    "format_name": "myst",
    "format_version": 0.12,
    "jupytext_version": "1.9.1"
   }
  },
  "kernelspec": {
   "display_name": "Python 3",
   "language": "python",
   "name": "python3"
  },
  "language_info": {
   "codemirror_mode": {
    "name": "ipython",
    "version": 3
   },
   "file_extension": ".py",
   "mimetype": "text/x-python",
   "name": "python",
   "nbconvert_exporter": "python",
   "pygments_lexer": "ipython3",
   "version": "3.9.5"
  },
  "source_map": [
   12,
   84,
   89,
   94,
   99,
   104,
   107,
   113,
   115,
   120,
   123,
   151,
   156,
   162,
   166,
   172,
   177,
   192,
   196,
   203,
   207,
   211,
   213,
   226,
   231,
   240,
   246,
   252,
   259,
   263,
   267
  ]
 },
 "nbformat": 4,
 "nbformat_minor": 5
}