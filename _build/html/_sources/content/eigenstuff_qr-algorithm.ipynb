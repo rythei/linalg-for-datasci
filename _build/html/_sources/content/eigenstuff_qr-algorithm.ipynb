{
 "cells": [
  {
   "cell_type": "markdown",
   "id": "f097aedb",
   "metadata": {},
   "source": [
    "# The QR algorithm for finding eigenvalues and eigenvectors\n",
    "\n",
    "In the previous sections, we discussed finding the eigenvalues and eigenvectors of a matrix $\\boldsymbol{A}$ largely abstractly, without much interest in how we would actually do this in practice. As we saw, we can find the eigenvalues (in theory) by finding the zeros of the degree-$n$ polynomial $p(\\lambda) = \\det(\\boldsymbol{A} - \\lambda \\boldsymbol{I})$. If we had these eigenvalues, say $\\lambda_1,\\dots, \\lambda_n$, then we could find the eigenvectors fairly easily by solving the linear system of equations\n",
    "\n",
    "$$\n",
    "(\\boldsymbol{A} - \\lambda_i \\boldsymbol{I})\\boldsymbol{v} = 0,\n",
    "$$\n",
    "\n",
    "e.g. by using the QR decomposition and backsubstitution. The latter component would be a feasible way to find the eigenvectors in practice if we knew what the eigenvalues were. Unfortunately, finding the zeros of $p(\\lambda)$ this is not a particularly practical approach, beyond the 2- or 3-dimensional case. Instead, we require other algorithms to find the eigenvalues. We saw one method on the homework for doing this called the _power method_. Here we briefly introduce another popular algorithm which uses the QR decomposition called the QR algorithm, which we outline below.\n",
    "\n",
    "$$\n",
    "\\begin{align}\n",
    "&\\underline{\\textbf{QR algorithm}: \\text{find the eigenvalues of an $n\\times n$ matrix $\\boldsymbol{A}$}} \\\\\n",
    "&\\textbf{input}:\\text{$n\\times n$ matrix }\\boldsymbol{A}\\in \\mathbb{R}^{n\\times n} \\\\\n",
    "&\\hspace{0mm} \\text{while $\\boldsymbol{A}$ is not approximately upper triangular:}\\\\\n",
    "&\\hspace{10mm} \\boldsymbol{Q}, \\boldsymbol{R} = \\texttt{qr_decomposition}(\\boldsymbol{A})\\\\\n",
    "&\\hspace{10mm} \\text{update }\\boldsymbol{A} = \\boldsymbol{R}\\boldsymbol{Q}\\\\\n",
    "&\\hspace{0mm} \\text{return } \\text{diag}(\\boldsymbol{A})\\\\\n",
    "\\end{align}\n",
    "$$\n",
    "\n",
    "This algorithm works due to the following two properties. First, note that for a single interation we have\n",
    "\n",
    "$$\n",
    "\\boldsymbol{A}' = \\boldsymbol{RQ} = \\boldsymbol{Q^\\top Q R Q} = \\boldsymbol{Q}^\\top \\boldsymbol{AQ}\n",
    "$$\n",
    "\n",
    "where $\\boldsymbol{Q}$ is an orthogonal matrix. Because the matrices $\\boldsymbol{A}$ and $\\boldsymbol{A}'$ differ only by an orthogonal transformation on either side, they are what we call _similar_ matrices. It turns out that similar matrices always have the same eigenvalues. To see this, let $(\\lambda, \\boldsymbol{v})$ be an eigenvalue/eigenvector pair for $\\boldsymbol{A}'$, and let $\\boldsymbol{A} = \\boldsymbol{Q^\\top\\boldsymbol{A}'\\boldsymbol{Q}}$ be defined as above. Then\n",
    "\n",
    "$$\n",
    "\\lambda\\boldsymbol{v} = \\boldsymbol{A}'\\boldsymbol{v} = \\boldsymbol{QA Q^\\top v} \\iff \\lambda \\boldsymbol{Q^\\top v} = \\boldsymbol{A Q^\\top v}.\n",
    "$$\n",
    "\n",
    "This means that $(\\lambda, \\boldsymbol{Q^\\top v})$ is an eigenvalue/eigenvector pair for the matrix $\\boldsymbol{A}$, and so $\\boldsymbol{A}$ and $\\boldsymbol{A}'$ have the same eigenvalues, and eigenvectors which differ by a factor of $\\boldsymbol{Q}^\\top$. Thus at each iteration in the QR algorithm, the matrices $\\boldsymbol{A}$ have the same eigenvalues.\n",
    "\n",
    "The next step we do not prove, but will show numerically. It turns out that for \"nice\" matrices (in particular, matrices that have distinct eigenvalues), the QR algorithm converges to an upper triangular matrix. Therefore, as we saw in the previous section, we can read off the eigenvalues of this matrix by checking its diagonal entries. Let's see a simple example that illustrates this."
   ]
  },
  {
   "cell_type": "code",
   "execution_count": 1,
   "id": "6b21e197",
   "metadata": {},
   "outputs": [
    {
     "name": "stdout",
     "output_type": "stream",
     "text": [
      "A at iteration i = 0 is\n",
      "[[11.10202236 -0.19822354  0.08290293]\n",
      " [-0.19822354  5.85629379  0.01511667]\n",
      " [ 0.08290293  0.01511667  0.06995689]]\n",
      "A at iteration i = 1 is\n",
      "[[ 1.11080452e+01 -1.04338131e-01 -5.17306275e-04]\n",
      " [-1.04338131e-01  5.85094156e+00 -2.05739620e-04]\n",
      " [-5.17306275e-04 -2.05739620e-04  6.92862839e-02]]\n",
      "A at iteration i = 2 is\n",
      "[[ 1.11095414e+01 -5.49439692e-02  3.22654717e-06]\n",
      " [-5.49439692e-02  5.84944542e+00  2.52472304e-06]\n",
      " [ 3.22654717e-06  2.52472304e-06  6.92862520e-02]]\n",
      "A at iteration i = 3 is\n",
      "[[ 1.11099562e+01 -2.89272930e-02 -2.01225783e-08]\n",
      " [-2.89272930e-02  5.84903063e+00 -3.01954585e-08]\n",
      " [-2.01225792e-08 -3.01954588e-08  6.92862520e-02]]\n",
      "A at iteration i = 4 is\n",
      "[[ 1.11100711e+01 -1.52289797e-02  1.25491295e-10]\n",
      " [-1.52289797e-02  5.84891565e+00  3.58641318e-10]\n",
      " [ 1.25492248e-10  3.58641579e-10  6.92862520e-02]]\n",
      "A at iteration i = 5 is\n",
      "[[ 1.11101030e+01 -8.01727833e-03 -7.81660711e-13]\n",
      " [-8.01727833e-03  5.84888379e+00 -4.25133527e-12]\n",
      " [-7.82612389e-13 -4.25159760e-12  6.92862520e-02]]\n",
      "A at iteration i = 6 is\n",
      "[[ 1.11101118e+01 -4.22066820e-03  3.92913871e-15]\n",
      " [-4.22066820e-03  5.84887496e+00  5.01119571e-14]\n",
      " [ 4.88062667e-15  5.03749724e-14  6.92862520e-02]]\n",
      "A at iteration i = 7 is\n",
      "[[ 1.11101143e+01 -2.22195335e-03  9.20950816e-16]\n",
      " [-2.22195335e-03  5.84887251e+00 -3.33403068e-16]\n",
      " [-3.04371648e-17 -5.96779784e-16  6.92862520e-02]]\n",
      "A at iteration i = 8 is\n",
      "[[ 1.11101150e+01 -1.16973778e-03 -9.51145472e-16]\n",
      " [-1.16973778e-03  5.84887183e+00 -2.56497366e-16]\n",
      " [ 1.89815962e-19  7.06961592e-18  6.92862520e-02]]\n",
      "A at iteration i = 9 is\n",
      "[[ 1.11101151e+01 -6.15803359e-04  9.51306349e-16]\n",
      " [-6.15803359e-04  5.84887164e+00  2.63583395e-16]\n",
      " [-1.18375341e-21 -8.37476578e-20  6.92862520e-02]]\n"
     ]
    }
   ],
   "source": [
    "import numpy as np\n",
    "\n",
    "A = np.random.normal(size= (3,3))\n",
    "A = np.dot(A.T, A)\n",
    "\n",
    "for i in range(10):\n",
    "    Q,R = np.linalg.qr(A)\n",
    "    A = np.dot(R,Q)\n",
    "    print('A at iteration i = %s is' % i)\n",
    "    print(A)"
   ]
  },
  {
   "cell_type": "markdown",
   "id": "a1f6e566",
   "metadata": {},
   "source": [
    "As we can see, the lower triangular portion of $\\boldsymbol{A}$ is becoming closer and closer to zero after more iterations. Hence, since the eigenvalues are unchanged at each iteration, we can read of the eigenvalues of $\\boldsymbol{A}$ from the eigenvalues of the (approximately) triangular matrix that we get after several iterations. Let's now implement our own `eigenvalue_decomposition_qr` function which uses the QR algorthm to find the eigenvalues of a matrix $\\boldsymbol{A}$."
   ]
  },
  {
   "cell_type": "code",
   "execution_count": 2,
   "id": "422f3e0a",
   "metadata": {},
   "outputs": [],
   "source": [
    "def eigenvalue_decomposition_qr(A):\n",
    "    '''\n",
    "    find the eigenvalues of a matrix using the QR decomposition\n",
    "    '''\n",
    "    A0 = A\n",
    "\n",
    "    # first implement the QR algorithm\n",
    "    while not np.allclose(A0, np.triu(A0)):\n",
    "        Q,R = np.linalg.qr(A0)\n",
    "        A0 = np.dot(R, Q)\n",
    "\n",
    "    values = np.diag(A0)\n",
    "    return values"
   ]
  },
  {
   "cell_type": "markdown",
   "id": "9697bb73",
   "metadata": {},
   "source": [
    "Now let's test our implementation against the usual numpy `eig` function."
   ]
  },
  {
   "cell_type": "code",
   "execution_count": 3,
   "id": "90aff837",
   "metadata": {},
   "outputs": [
    {
     "name": "stdout",
     "output_type": "stream",
     "text": [
      "[7.70983421e+00 5.56262307e+00 2.14875044e+00 8.69582478e-01\n",
      " 1.42604943e-03]\n",
      "[7.70983421e+00 5.56262307e+00 2.14875044e+00 8.69582478e-01\n",
      " 1.42604943e-03]\n"
     ]
    }
   ],
   "source": [
    "A = np.random.normal(size=(5,5))\n",
    "A = np.dot(A.T, A)\n",
    "\n",
    "values_qr = eigenvalue_decomposition_qr(A)\n",
    "print(values_qr)\n",
    "\n",
    "values, vectors = np.linalg.eig(A)\n",
    "print(values)"
   ]
  },
  {
   "cell_type": "markdown",
   "id": "3e235e00",
   "metadata": {},
   "source": [
    "Indeed, the two algorithms give the same output (though potentially not ordered in the same way)."
   ]
  }
 ],
 "metadata": {
  "jupytext": {
   "text_representation": {
    "extension": ".md",
    "format_name": "myst",
    "format_version": 0.12,
    "jupytext_version": "1.9.1"
   }
  },
  "kernelspec": {
   "display_name": "Python 3",
   "language": "python",
   "name": "python3"
  },
  "language_info": {
   "codemirror_mode": {
    "name": "ipython",
    "version": 3
   },
   "file_extension": ".py",
   "mimetype": "text/x-python",
   "name": "python",
   "nbconvert_exporter": "python",
   "pygments_lexer": "ipython3",
   "version": "3.9.5"
  },
  "source_map": [
   12,
   51,
   62,
   66,
   80,
   84,
   93
  ]
 },
 "nbformat": 4,
 "nbformat_minor": 5
}