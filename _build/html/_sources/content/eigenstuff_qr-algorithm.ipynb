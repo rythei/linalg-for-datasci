{
 "cells": [
  {
   "cell_type": "markdown",
   "id": "e03c6f9d",
   "metadata": {},
   "source": [
    "# The QR algorithm for finding eigenvalues and eigenvectors\n",
    "\n",
    "In the previous sections, we discussed finding the eigenvalues and eigenvectors of a matrix $\\boldsymbol{A}$ largely abstractly, without much interest in how we would actually do this in practice. As we saw, we can find the eigenvalues (in theory) by finding the zeros of the degree-$n$ polynomial $p(\\lambda) = \\det(\\boldsymbol{A} - \\lambda \\boldsymbol{I})$. If we had these eigenvalues, say $\\lambda_1,\\dots, \\lambda_n$, then we could find the eigenvectors fairly easily by solving the linear system of equations\n",
    "\n",
    "$$\n",
    "(\\boldsymbol{A} - \\lambda_i \\boldsymbol{I})\\boldsymbol{v} = 0,\n",
    "$$\n",
    "\n",
    "e.g. by using the QR decomposition and backsubstitution. The latter component would be a feasible way to find the eigenvectors in practice if we knew what the eigenvalues were. Unfortunately, finding the zeros of $p(\\lambda)$ this is not a particularly practical approach, beyond the 2- or 3-dimensional case. Instead, we require other algorithms to find the eigenvalues. We saw one method on the homework for doing this called the _power method_. Here we briefly introduce another popular algorithm which uses the QR decomposition called the QR algorithm, which we outline below.\n",
    "\n",
    "$$\n",
    "\\begin{align}\n",
    "&\\underline{\\textbf{QR algorithm}: \\text{find the eigenvalues of an $n\\times n$ matrix $\\boldsymbol{A}$}} \\\\\n",
    "&\\textbf{input}:\\text{$n\\times n$ matrix }\\boldsymbol{A}\\in \\mathbb{R}^{n\\times n} \\\\\n",
    "&\\hspace{0mm} \\text{while $\\boldsymbol{A}$ is not approximately upper triangular:}\\\\\n",
    "&\\hspace{10mm} \\boldsymbol{Q}, \\boldsymbol{R} = \\texttt{qr_decomposition}(\\boldsymbol{A})\\\\\n",
    "&\\hspace{10mm} \\text{update }\\boldsymbol{A} = \\boldsymbol{R}\\boldsymbol{Q}\\\\\n",
    "&\\hspace{0mm} \\text{return } \\text{diag}(\\boldsymbol{A})\\\\\n",
    "\\end{align}\n",
    "$$\n",
    "\n",
    "This algorithm works due to the following two properties. First, note that for a single interation we have\n",
    "\n",
    "$$\n",
    "\\boldsymbol{A}' = \\boldsymbol{RQ} = \\boldsymbol{Q^\\top Q R Q} = \\boldsymbol{Q}^\\top \\boldsymbol{AQ}\n",
    "$$\n",
    "\n",
    "where $\\boldsymbol{Q}$ is an orthogonal matrix. Because the matrices $\\boldsymbol{A}$ and $\\boldsymbol{A}'$ differ only by an orthogonal transformation on either side, they are what we call _similar_ matrices. It turns out that similar matrices always have the same eigenvalues. To see this, let $(\\lambda, \\boldsymbol{v})$ be an eigenvalue/eigenvector pair for $\\boldsymbol{A}'$, and let $\\boldsymbol{A} = \\boldsymbol{Q^\\top\\boldsymbol{A}'\\boldsymbol{Q}}$ be defined as above. Then\n",
    "\n",
    "$$\n",
    "\\lambda\\boldsymbol{v} = \\boldsymbol{A}'\\boldsymbol{v} = \\boldsymbol{QA Q^\\top v} \\iff \\lambda \\boldsymbol{Q^\\top v} = \\boldsymbol{A Q^\\top v}.\n",
    "$$\n",
    "\n",
    "This means that $(\\lambda, \\boldsymbol{Q^\\top v})$ is an eigenvalue/eigenvector pair for the matrix $\\boldsymbol{A}$, and so $\\boldsymbol{A}$ and $\\boldsymbol{A}'$ have the same eigenvalues, and eigenvectors which differ by a factor of $\\boldsymbol{Q}^\\top$. Thus at each iteration in the QR algorithm, the matrices $\\boldsymbol{A}$ have the same eigenvalues.\n",
    "\n",
    "The next step we do not prove, but will show numerically. It turns out that for \"nice\" matrices (in particular, matrices that have distinct eigenvalues), the QR algorithm converges to an upper triangular matrix. Therefore, as we saw in the previous section, we can read off the eigenvalues of this matrix by checking its diagonal entries. Let's see a simple example that illustrates this."
   ]
  },
  {
   "cell_type": "code",
   "execution_count": 1,
   "id": "fc705a1c",
   "metadata": {},
   "outputs": [
    {
     "name": "stdout",
     "output_type": "stream",
     "text": [
      "A at iteration i = 0 is\n",
      "[[ 2.43754087 -1.81632655 -0.11424334]\n",
      " [-1.81632655  3.05593862  0.11310453]\n",
      " [-0.11424334  0.11310453  0.0476078 ]]\n",
      "A at iteration i = 1 is\n",
      "[[ 4.40460227e+00 -8.15982323e-01  1.56843017e-03]\n",
      " [-8.15982323e-01  1.09475264e+00  3.13241168e-04]\n",
      " [ 1.56843017e-03  3.13241168e-04  4.17323913e-02]]\n",
      "A at iteration i = 2 is\n",
      "[[ 4.58707839e+00 -1.69005291e-01 -1.46114827e-05]\n",
      " [-1.69005291e-01  9.12277484e-01 -2.98652968e-05]\n",
      " [-1.46114827e-05 -2.98652968e-05  4.17314199e-02]]\n",
      "A at iteration i = 3 is\n",
      "[[ 4.59453345e+00 -3.33370751e-02  1.32839339e-07]\n",
      " [-3.33370751e-02  9.04822428e-01  1.40619324e-06]\n",
      " [ 1.32839339e-07  1.40619324e-06  4.17314188e-02]]\n",
      "A at iteration i = 4 is\n",
      "[[ 4.59482296e+00 -6.56312163e-03 -1.20652702e-09]\n",
      " [-6.56312163e-03  9.04532920e-01 -6.49274710e-08]\n",
      " [-1.20652690e-09 -6.49274709e-08  4.17314188e-02]]\n",
      "A at iteration i = 5 is\n",
      "[[ 4.59483418e+00 -1.29199449e-03  1.09581150e-11]\n",
      " [-1.29199449e-03  9.04521700e-01  2.99561513e-09]\n",
      " [ 1.09579908e-11  2.99561502e-09  4.17314188e-02]]\n",
      "A at iteration i = 6 is\n",
      "[[ 4.59483461e+00 -2.54337032e-04 -9.96473501e-14]\n",
      " [-2.54337032e-04  9.04521265e-01 -1.38207372e-10]\n",
      " [-9.95231752e-14 -1.38207269e-10  4.17314188e-02]]\n",
      "A at iteration i = 7 is\n",
      "[[ 4.59483463e+00 -5.00677977e-05  1.02806318e-15]\n",
      " [-5.00677977e-05  9.04521248e-01  6.37649867e-12]\n",
      " [ 9.03893970e-16  6.37639604e-12  4.17314188e-02]]\n",
      "A at iteration i = 8 is\n",
      "[[ 4.59483463e+00 -9.85615163e-06 -1.32377478e-16]\n",
      " [-9.85615163e-06  9.04521248e-01 -2.94287047e-13]\n",
      " [-8.20938747e-18 -2.94184415e-13  4.17314188e-02]]\n",
      "A at iteration i = 9 is\n",
      "[[ 4.59483463e+00 -1.94024362e-06  1.24242430e-16]\n",
      " [-1.94024362e-06  9.04521247e-01  1.36752625e-14]\n",
      " [ 7.45596771e-20  1.35726309e-14  4.17314188e-02]]\n"
     ]
    }
   ],
   "source": [
    "import numpy as np\n",
    "\n",
    "A = np.random.normal(size= (3,3))\n",
    "A = np.dot(A.T, A)\n",
    "\n",
    "for i in range(10):\n",
    "    Q,R = np.linalg.qr(A)\n",
    "    A = np.dot(R,Q)\n",
    "    print('A at iteration i = %s is' % i)\n",
    "    print(A)"
   ]
  },
  {
   "cell_type": "markdown",
   "id": "6427afc5",
   "metadata": {},
   "source": [
    "As we can see, the lower triangular portion of $\\boldsymbol{A}$ is becoming closer and closer to zero after more iterations. Hence, since the eigenvalues are unchanged at each iteration, we can read of the eigenvalues of $\\boldsymbol{A}$ from the eigenvalues of the (approximately) triangular matrix that we get after several iterations. Let's now implement our own `eigenvalue_decomposition_qr` function which uses the QR algorthm to find the eigenvalues of a matrix $\\boldsymbol{A}$."
   ]
  },
  {
   "cell_type": "code",
   "execution_count": 2,
   "id": "a47649e4",
   "metadata": {},
   "outputs": [],
   "source": [
    "def eigenvalue_decomposition_qr(A):\n",
    "    '''\n",
    "    find the eigenvalues of a matrix using the QR decomposition\n",
    "    '''\n",
    "    A0 = A\n",
    "\n",
    "    # first implement the QR algorithm\n",
    "    while not np.allclose(A0, np.triu(A0)):\n",
    "        Q,R = np.linalg.qr(A0)\n",
    "        A0 = np.dot(R, Q)\n",
    "\n",
    "    values = np.diag(A0)\n",
    "    return values"
   ]
  },
  {
   "cell_type": "markdown",
   "id": "09e07fbd",
   "metadata": {},
   "source": [
    "Now let's test our implementation against the usual numpy `eig` function."
   ]
  },
  {
   "cell_type": "code",
   "execution_count": 3,
   "id": "6fd37eed",
   "metadata": {},
   "outputs": [
    {
     "name": "stdout",
     "output_type": "stream",
     "text": [
      "[17.28107503 11.28193425  2.64702347  1.31002579  0.9045169 ]\n",
      "[17.28107503 11.28193425  2.64702347  1.31002579  0.9045169 ]\n"
     ]
    }
   ],
   "source": [
    "A = np.random.normal(size=(5,5))\n",
    "A = np.dot(A.T, A)\n",
    "\n",
    "values_qr = eigenvalue_decomposition_qr(A)\n",
    "print(values_qr)\n",
    "\n",
    "values, vectors = np.linalg.eig(A)\n",
    "print(values)"
   ]
  },
  {
   "cell_type": "markdown",
   "id": "99c7d202",
   "metadata": {},
   "source": [
    "Indeed, the two algorithms give the same output (though potentially not ordered in the same way)."
   ]
  }
 ],
 "metadata": {
  "jupytext": {
   "text_representation": {
    "extension": ".md",
    "format_name": "myst",
    "format_version": 0.12,
    "jupytext_version": "1.9.1"
   }
  },
  "kernelspec": {
   "display_name": "Python 3",
   "language": "python",
   "name": "python3"
  },
  "language_info": {
   "codemirror_mode": {
    "name": "ipython",
    "version": 3
   },
   "file_extension": ".py",
   "mimetype": "text/x-python",
   "name": "python",
   "nbconvert_exporter": "python",
   "pygments_lexer": "ipython3",
   "version": "3.9.5"
  },
  "source_map": [
   12,
   51,
   62,
   66,
   80,
   84,
   93
  ]
 },
 "nbformat": 4,
 "nbformat_minor": 5
}