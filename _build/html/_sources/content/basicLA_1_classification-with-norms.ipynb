{
 "cells": [
  {
   "cell_type": "markdown",
   "id": "serious-astronomy",
   "metadata": {},
   "source": [
    "# An application: classifying data points using norms\n",
    "\n",
    "In this section, we demonstrate a simple application of norms as a classification method. We begin by defining the setup: we have $n$ data points $\\{(\\boldsymbol{x}_1,y_1),\\dots,(\\boldsymbol{x}_n, y_n)\\}$ where $\\boldsymbol{x}_i\\in \\mathbb{R}^d$ is a feature and $y_i \\in \\{0,1\\}$ is a label. The goal is to find a classifier which, given an input (i.e. a vector in $\\mathbb{R}^d$) can correctly predict the label 0 or 1.\n",
    "\n",
    "For the purpose of this example, we consider the following dataset, which can be generated using the `sklearn` package in Python:"
   ]
  },
  {
   "cell_type": "code",
   "execution_count": 1,
   "id": "historical-glossary",
   "metadata": {},
   "outputs": [
    {
     "ename": "SyntaxError",
     "evalue": "invalid syntax (<ipython-input-1-1577c9bf30bc>, line 1)",
     "output_type": "error",
     "traceback": [
      "\u001b[0;36m  File \u001b[0;32m\"<ipython-input-1-1577c9bf30bc>\"\u001b[0;36m, line \u001b[0;32m1\u001b[0m\n\u001b[0;31m    import sklearn.datasets import make_circles\u001b[0m\n\u001b[0m                                 ^\u001b[0m\n\u001b[0;31mSyntaxError\u001b[0m\u001b[0;31m:\u001b[0m invalid syntax\n"
     ]
    }
   ],
   "source": [
    "import sklearn.datasets import make_circles\n",
    "import matplotlib.pyplot as plt\n",
    "%matplotlib inline\n",
    "\n",
    "X, y = make_circles(n_samples=500, noise=0.04)\n",
    "\n",
    "for label in [0,1]:\n",
    "    plt.scatter(X[y==label,0], X[y==label, 1], label=f'class {label}')\n",
    "\n",
    "plt.axis('equal')\n",
    "plt.legend()\n",
    "plt.show()"
   ]
  },
  {
   "cell_type": "markdown",
   "id": "ethical-pathology",
   "metadata": {},
   "source": [
    "Here we will attempt to develop a classifier which predicts a label for a datapoint $\\boldsymbol{x}$ based on its $2$-norm. Specifically, we will consider classifiers of the form\n",
    "\n",
    "$$\n",
    "C_t(\\boldsymbol{x}) = \\begin{cases}1 & \\text{if }\\|\\boldsymbol{x}\\|_2 \\leq t\\\\ 0 & \\text{if } \\|\\boldsymbol{x}\\|_2 > t\\end{cases}\n",
    "$$\n",
    "\n",
    "where the threshold $t$ is to be determined. To see why this is a natural form of classifier to use, remember that the $2$-ball at radius $t$ is exactly a circle in $\\mathbb{R}^2$, and since the data shown above are in the form of concentric circles, it makes sense that thresholding on the $2$-norm may give good classification performance.\n",
    "\n",
    "It remains to determine the best value of threshold $t$ to use. To do this, we will try many values of $t$, and pick the one that makes the fewest mistakes on the dataset.\n",
    "\n",
    "First, we define a function `predict(X, y, t)` which takes in data `X,y` and a given threshold `t`, and returns the misclassification rate for the $2$-norm classifier with threshold $t$. The misclassification rate is just the fraction of datapoints that are misclassified by $C_t$:\n",
    "\n",
    "$$\n",
    "\\text{Misclassification Rate} = \\frac{1}{n}\\sum_{i=1}^n \\mathbb{1}(C_t(\\boldsymbol{x}_i)\\neq y_i).\n",
    "$$\n",
    "\n",
    "The function is defined as follows."
   ]
  },
  {
   "cell_type": "code",
   "execution_count": 2,
   "id": "consecutive-cricket",
   "metadata": {},
   "outputs": [],
   "source": [
    "import numpy as np\n",
    "\n",
    "def predict(X, y, t):\n",
    "    # get the norm of each data point\n",
    "    norms = np.linalg.norm(X, axis=1)\n",
    "\n",
    "    # get predictions by evaluating if the point\n",
    "    # is above or below the threshold t\n",
    "    predictions = (norms <= t).astype(int)\n",
    "\n",
    "    # get the misclassification percentage\n",
    "    error = np.mean(predictions != y)\n",
    "    return error"
   ]
  },
  {
   "cell_type": "markdown",
   "id": "reserved-snowboard",
   "metadata": {},
   "source": [
    "Next, we will evaluate the model at a variety of values of threshold $t$, and find which one has the lowest misclassification rate."
   ]
  },
  {
   "cell_type": "code",
   "execution_count": 3,
   "id": "japanese-foundation",
   "metadata": {},
   "outputs": [
    {
     "ename": "NameError",
     "evalue": "name 'X' is not defined",
     "output_type": "error",
     "traceback": [
      "\u001b[0;31m---------------------------------------------------------------------------\u001b[0m",
      "\u001b[0;31mNameError\u001b[0m                                 Traceback (most recent call last)",
      "\u001b[0;32m<ipython-input-3-9e8fba66ca3d>\u001b[0m in \u001b[0;36m<module>\u001b[0;34m\u001b[0m\n\u001b[1;32m      3\u001b[0m \u001b[0merrors\u001b[0m \u001b[0;34m=\u001b[0m \u001b[0;34m[\u001b[0m\u001b[0;34m]\u001b[0m\u001b[0;34m\u001b[0m\u001b[0;34m\u001b[0m\u001b[0m\n\u001b[1;32m      4\u001b[0m \u001b[0;32mfor\u001b[0m \u001b[0mt\u001b[0m \u001b[0;32min\u001b[0m \u001b[0mt_range\u001b[0m\u001b[0;34m:\u001b[0m\u001b[0;34m\u001b[0m\u001b[0;34m\u001b[0m\u001b[0m\n\u001b[0;32m----> 5\u001b[0;31m     \u001b[0merr\u001b[0m \u001b[0;34m=\u001b[0m \u001b[0mpredict\u001b[0m\u001b[0;34m(\u001b[0m\u001b[0mX\u001b[0m\u001b[0;34m,\u001b[0m \u001b[0my\u001b[0m\u001b[0;34m,\u001b[0m \u001b[0mt\u001b[0m\u001b[0;34m)\u001b[0m\u001b[0;34m\u001b[0m\u001b[0;34m\u001b[0m\u001b[0m\n\u001b[0m\u001b[1;32m      6\u001b[0m     \u001b[0merrors\u001b[0m\u001b[0;34m.\u001b[0m\u001b[0mappend\u001b[0m\u001b[0;34m(\u001b[0m\u001b[0merr\u001b[0m\u001b[0;34m)\u001b[0m\u001b[0;34m\u001b[0m\u001b[0;34m\u001b[0m\u001b[0m\n\u001b[1;32m      7\u001b[0m \u001b[0;34m\u001b[0m\u001b[0m\n",
      "\u001b[0;31mNameError\u001b[0m: name 'X' is not defined"
     ]
    }
   ],
   "source": [
    "t_range = np.arange(0.2,1.21,.01)\n",
    "\n",
    "errors = []\n",
    "for t in t_range:\n",
    "    err = predict(X, y, t)\n",
    "    errors.append(err)\n",
    "\n",
    "plt.plot(t_range, errors)\n",
    "plt.xlabel('threshold, t')\n",
    "plt.ylabel('misclassification rate')\n",
    "plt.show()"
   ]
  },
  {
   "cell_type": "markdown",
   "id": "written-brooklyn",
   "metadata": {},
   "source": [
    "From the plot, we find that the best threshold is $t\\approx 0.89$, and that at this value, the misclassification rate is $0.01$, or $1\\%$."
   ]
  }
 ],
 "metadata": {
  "jupytext": {
   "text_representation": {
    "extension": ".md",
    "format_name": "myst",
    "format_version": 0.12,
    "jupytext_version": "1.9.1"
   }
  },
  "kernelspec": {
   "display_name": "Python 3",
   "language": "python",
   "name": "python3"
  },
  "language_info": {
   "codemirror_mode": {
    "name": "ipython",
    "version": 3
   },
   "file_extension": ".py",
   "mimetype": "text/x-python",
   "name": "python",
   "nbconvert_exporter": "python",
   "pygments_lexer": "ipython3",
   "version": "3.7.7"
  },
  "source_map": [
   13,
   21,
   34,
   53,
   67,
   71,
   83
  ]
 },
 "nbformat": 4,
 "nbformat_minor": 5
}