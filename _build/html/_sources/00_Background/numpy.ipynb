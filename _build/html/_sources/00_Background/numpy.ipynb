{
 "cells": [
  {
   "cell_type": "markdown",
   "id": "appropriate-houston",
   "metadata": {},
   "source": [
    "# Introduction to NumPy\n",
    "\n",
    "Why do we need NumPy for data science?\n",
    "First, data typically arise in form of tables (and in many cases those tables consist of numbers on which we want to perform numerical operations).\n",
    "Second, vectorized operations are fast and powerful and speed and resources are very important in data science.\n",
    "NumPy (short for Numerical Python) is a Python library that is specialized on working with numerical arrays.\n",
    "Since, as a practical matter, linear algebra often amounts to working with numerical arrays (on which we can the perform operations of scalar multiplication and vector addition), NumPy is often the best way to do it in python.\n",
    "\n",
    "Operations on NumPy arrays can be up to 50 times faster than traditional Python lists.\n",
    "Also, NumPy provides a large number of functions for matrix computations, and NumPy is the foundation of the Python machine learning stack.\n",
    "All in all, it is well worth becoming very familiar with it.\n",
    "In the following, we will give a brief introduction to NumPy and introduce some important function that we will use in this course.\n",
    "\n",
    "\n",
    "As with any library in Python, we first need to import NumPy.\n",
    "If you use Anaconda, then NumPy is included, otherwise you need to install NumPy by hand.\n",
    "Fortunately, that is as easy as issuing the following command."
   ]
  },
  {
   "cell_type": "code",
   "execution_count": 1,
   "id": "common-ceremony",
   "metadata": {},
   "outputs": [],
   "source": [
    "import numpy as np"
   ]
  },
  {
   "cell_type": "markdown",
   "id": "dirty-observer",
   "metadata": {},
   "source": [
    "Before we get started, we want to illustrate that vectorized operations are indeed much faster than lists.\n",
    "Here is a simple example: Add all integers from 1 to 10,000,000.\n",
    "There are several ways how we can do this.\n",
    "\n",
    "For instance, we can construct a list that contains all the integers from $1$ to $10,000,000$ and then sum them up."
   ]
  },
  {
   "cell_type": "code",
   "execution_count": 2,
   "id": "dress-accountability",
   "metadata": {},
   "outputs": [
    {
     "name": "stdout",
     "output_type": "stream",
     "text": [
      "CPU times: user 624 ms, sys: 165 ms, total: 788 ms\n",
      "Wall time: 763 ms\n"
     ]
    },
    {
     "data": {
      "text/plain": [
       "49999995000000"
      ]
     },
     "execution_count": 2,
     "metadata": {},
     "output_type": "execute_result"
    }
   ],
   "source": [
    "%time sum([i for i in range(1,10000000)])"
   ]
  },
  {
   "cell_type": "markdown",
   "id": "conceptual-bench",
   "metadata": {},
   "source": [
    "This is really very slow.\n",
    "Instead, we can use NumPy to do the same operation much faster."
   ]
  },
  {
   "cell_type": "code",
   "execution_count": 3,
   "id": "dietary-logistics",
   "metadata": {},
   "outputs": [
    {
     "name": "stdout",
     "output_type": "stream",
     "text": [
      "CPU times: user 18.6 ms, sys: 7.19 ms, total: 25.8 ms\n",
      "Wall time: 25.4 ms\n"
     ]
    },
    {
     "data": {
      "text/plain": [
       "49999995000000"
      ]
     },
     "execution_count": 3,
     "metadata": {},
     "output_type": "execute_result"
    }
   ],
   "source": [
    "%time np.sum(np.arange(1,10000000))"
   ]
  },
  {
   "cell_type": "markdown",
   "id": "typical-table",
   "metadata": {},
   "source": [
    "Depending on the computational platform, we reduce the computational time by a factor about $15$.\n",
    "So what is going on here?\n",
    "The function `np.arange` is creating an array object that is called `ndarray`.\n",
    "NumPy arrays are highly optimized to work with latest CPU architectures, and more importantly NumPy arrays are stored at one continuous place in memory, unlike lists.\n",
    "Hence, the `np.sum` function can access and manipulate the elements of the Numpy array very efficiently.\n",
    "This is one of the main reason why NumPy is faster than traditional NumPy lists.\n",
    "Other advantages of NumPy are:\n",
    "\n",
    "* vectorized code is more concise and easier to read\n",
    "\n",
    "* vectorized code more closely resembles standard mathematical notation\n",
    "\n",
    "By the way, NumPy has a fantastic documentation: [https://numpy.org/doc/stable/user/whatisnumpy.html](https://numpy.org/doc/stable/user/whatisnumpy.html).\n",
    "So, for instance, if you want to learn more details about the `np.arange` function, then you can have a look here: [https://numpy.org/doc/stable/reference/generated/numpy.arange.html](https://numpy.org/doc/stable/reference/generated/numpy.arange.html).\n",
    "\n",
    "\n",
    "## Numpy Arrays\n",
    "\n",
    "The most important object in NumPy is the `ndarray`. Typically, we use the `np.array` function to define a new `ndarray`. For example, we can construct the following $2\\times 2$ matrix\n",
    "\n",
    "\n",
    "$$\n",
    "\\mathbf{A} = \\begin{bmatrix}\n",
    "1 & 2  \\\\\n",
    "3 & 4 \\\\\n",
    "\\end{bmatrix}\n",
    "\\quad\n",
    "$$\n",
    "\n",
    "\n",
    "as follows."
   ]
  },
  {
   "cell_type": "code",
   "execution_count": 4,
   "id": "representative-seattle",
   "metadata": {},
   "outputs": [
    {
     "name": "stdout",
     "output_type": "stream",
     "text": [
      "[[1 2]\n",
      " [3 4]]\n"
     ]
    }
   ],
   "source": [
    "A = np.array(([1,2], [3,4]))\n",
    "print(A)"
   ]
  },
  {
   "cell_type": "markdown",
   "id": "personalized-appendix",
   "metadata": {},
   "source": [
    "We can check the type of variable `A` and verify that it is indeed a NumPy `ndarray`."
   ]
  },
  {
   "cell_type": "code",
   "execution_count": 5,
   "id": "possible-filter",
   "metadata": {},
   "outputs": [
    {
     "data": {
      "text/plain": [
       "numpy.ndarray"
      ]
     },
     "execution_count": 5,
     "metadata": {},
     "output_type": "execute_result"
    }
   ],
   "source": [
    "type(A)"
   ]
  },
  {
   "cell_type": "markdown",
   "id": "indoor-registrar",
   "metadata": {},
   "source": [
    "When working with numpy arrays it is always a good idea to check and verify the shape of the array."
   ]
  },
  {
   "cell_type": "code",
   "execution_count": 6,
   "id": "introductory-petite",
   "metadata": {},
   "outputs": [
    {
     "name": "stdout",
     "output_type": "stream",
     "text": [
      "The shape of A is (2, 2)\n"
     ]
    }
   ],
   "source": [
    "print('The shape of A is', A.shape)"
   ]
  },
  {
   "cell_type": "markdown",
   "id": "wired-family",
   "metadata": {},
   "source": [
    "### A few special matrices\n",
    "\n",
    "\n",
    "There are many special matrices that you can construct using NumPy. Here are just a few examples.\n",
    "\n",
    "\n",
    "An array filled with ones."
   ]
  },
  {
   "cell_type": "code",
   "execution_count": 7,
   "id": "blond-institution",
   "metadata": {},
   "outputs": [
    {
     "name": "stdout",
     "output_type": "stream",
     "text": [
      "[[1. 1.]\n",
      " [1. 1.]]\n"
     ]
    }
   ],
   "source": [
    "B = np.ones((2,2))\n",
    "print(B)"
   ]
  },
  {
   "cell_type": "markdown",
   "id": "concrete-dinner",
   "metadata": {},
   "source": [
    "An array filled with zeros."
   ]
  },
  {
   "cell_type": "code",
   "execution_count": 8,
   "id": "arranged-demonstration",
   "metadata": {},
   "outputs": [
    {
     "name": "stdout",
     "output_type": "stream",
     "text": [
      "[[0. 0.]\n",
      " [0. 0.]]\n"
     ]
    }
   ],
   "source": [
    "C = np.zeros((2,2))\n",
    "print(C)"
   ]
  },
  {
   "cell_type": "markdown",
   "id": "consecutive-handy",
   "metadata": {},
   "source": [
    "An array with ones on the diagonal and zeros otherwise.\n",
    "This special array is also known as the identity matrix."
   ]
  },
  {
   "cell_type": "code",
   "execution_count": 9,
   "id": "sensitive-employment",
   "metadata": {},
   "outputs": [
    {
     "name": "stdout",
     "output_type": "stream",
     "text": [
      "[[1. 0.]\n",
      " [0. 1.]]\n"
     ]
    }
   ],
   "source": [
    "I = np.eye(2)\n",
    "print(I)"
   ]
  },
  {
   "cell_type": "markdown",
   "id": "occupied-bleeding",
   "metadata": {},
   "source": [
    "### Creating Numerical Ranges\n",
    "\n",
    "In many situations we need to create arrays that contain evenly spaced numbers over a specified interval. In Python you can use the built-in range function to construct a list with evenly spaced numbers, but it is often faster to use NumPy's `arange` function to construct an array that contains evenly spaced numbers.\n",
    "This function has the following interface: `numpy.arange(start, stop, step=1)`. Here, `start` and `stop` specify a certain interval `[start, stop)`, and `step` specifies the spacing between values. (Note, the interval includes the `start` value but excludes the `stop` value.) Here is an example that constructs an array that contains the integers in `[1, 10)`."
   ]
  },
  {
   "cell_type": "code",
   "execution_count": 10,
   "id": "average-machine",
   "metadata": {},
   "outputs": [
    {
     "data": {
      "text/plain": [
       "array([1, 2, 3, 4, 5, 6, 7, 8, 9])"
      ]
     },
     "execution_count": 10,
     "metadata": {},
     "output_type": "execute_result"
    }
   ],
   "source": [
    "np.arange(1,10)"
   ]
  },
  {
   "cell_type": "markdown",
   "id": "finished-projector",
   "metadata": {},
   "source": [
    "You can also change the step size. For instance, we can construct an array that contains all numbers in `[1, 10)` that are evenly spacaed by $0.5$."
   ]
  },
  {
   "cell_type": "code",
   "execution_count": 11,
   "id": "complete-registrar",
   "metadata": {},
   "outputs": [
    {
     "data": {
      "text/plain": [
       "array([1. , 1.5, 2. , 2.5, 3. , 3.5, 4. , 4.5, 5. , 5.5, 6. , 6.5, 7. ,\n",
       "       7.5, 8. , 8.5, 9. , 9.5])"
      ]
     },
     "execution_count": 11,
     "metadata": {},
     "output_type": "execute_result"
    }
   ],
   "source": [
    "np.arange(1,10, step=0.5)"
   ]
  },
  {
   "cell_type": "markdown",
   "id": "advisory-rough",
   "metadata": {},
   "source": [
    "In other situations, we prefer to specify the number of samples that are evenly spaced over a specified interval instead of the step size. This can be done using NumPy's `linspace` function. This function has the following interface: `numpy.linspace(start, stop, num=50, endpoint=True)`. Here, `start` and `stop` specify a certain interval `[start, stop]`, and `num` specifies the number of samples to generate. For example, we can construct an array that contains 19 evenly spaced samples in `[1, 10]`, including the endpoint."
   ]
  },
  {
   "cell_type": "code",
   "execution_count": 12,
   "id": "signal-course",
   "metadata": {},
   "outputs": [
    {
     "data": {
      "text/plain": [
       "array([ 1. ,  1.5,  2. ,  2.5,  3. ,  3.5,  4. ,  4.5,  5. ,  5.5,  6. ,\n",
       "        6.5,  7. ,  7.5,  8. ,  8.5,  9. ,  9.5, 10. ])"
      ]
     },
     "execution_count": 12,
     "metadata": {},
     "output_type": "execute_result"
    }
   ],
   "source": [
    "np.linspace(1.0, 10, num=19, endpoint=True)"
   ]
  },
  {
   "cell_type": "markdown",
   "id": "restricted-single",
   "metadata": {},
   "source": [
    "We can also exclude the endpoint and resamble the array that we constructed with `arange` function."
   ]
  },
  {
   "cell_type": "code",
   "execution_count": 13,
   "id": "second-ghost",
   "metadata": {},
   "outputs": [
    {
     "data": {
      "text/plain": [
       "array([1. , 1.5, 2. , 2.5, 3. , 3.5, 4. , 4.5, 5. , 5.5, 6. , 6.5, 7. ,\n",
       "       7.5, 8. , 8.5, 9. , 9.5])"
      ]
     },
     "execution_count": 13,
     "metadata": {},
     "output_type": "execute_result"
    }
   ],
   "source": [
    "np.linspace(1.0, 10, num=18, endpoint=False)"
   ]
  },
  {
   "cell_type": "markdown",
   "id": "floppy-mauritius",
   "metadata": {},
   "source": [
    "In practice, when dealing with non-integer steps (e.g. 0.5), it is always better to use the `linspace` function as compared to the `arange` function. That is, because the `linespace` function is more consistent.\n",
    "\n",
    "For instance, we might want to produce an array that has 21 evenly spaced samples in the interval $[1,19]$. This is easy using `linspace`, but it requires a \"hack\" using `arange`."
   ]
  },
  {
   "cell_type": "code",
   "execution_count": 14,
   "id": "competitive-update",
   "metadata": {},
   "outputs": [
    {
     "data": {
      "text/plain": [
       "<Figure size 640x480 with 1 Axes>"
      ]
     },
     "metadata": {},
     "output_type": "display_data"
    }
   ],
   "source": [
    "import matplotlib.pyplot as plt\n",
    "N = 21\n",
    "y = np.zeros(N)\n",
    "x0 = np.arange(0, 19, 19/N)\n",
    "x1 = np.arange(0, 19.01, 19/(N-1))\n",
    "x2 = np.linspace(0, 19, N, endpoint=True)\n",
    "\n",
    "plt.plot(x0, y-0.2, 'o', c='green', label='arange done wrong')\n",
    "plt.plot(x1, y, 'o', c='blue', label='arange done right (using a hack)')\n",
    "plt.plot(x2, y+ 0.2, 'o', c='red', label='linespace')\n",
    "plt.ylim([-0.5, 1])\n",
    "plt.legend()\n",
    "plt.show()"
   ]
  },
  {
   "cell_type": "markdown",
   "id": "blank-dream",
   "metadata": {},
   "source": [
    "### Matrices with Random Elements\n",
    "\n",
    "NumPy provides us also with functions that create an array of an given shape and populate it with random samples from a specified distribution.\n",
    "\n",
    "For instance, we can construct a $5\\times 5$ matrix with elements drawn from the uniform distribution on $[0,1)$ as follows."
   ]
  },
  {
   "cell_type": "code",
   "execution_count": 15,
   "id": "ranking-fundamentals",
   "metadata": {},
   "outputs": [
    {
     "name": "stdout",
     "output_type": "stream",
     "text": [
      "[[4.17022005e-01 7.20324493e-01 1.14374817e-04 3.02332573e-01\n",
      "  1.46755891e-01]\n",
      " [9.23385948e-02 1.86260211e-01 3.45560727e-01 3.96767474e-01\n",
      "  5.38816734e-01]\n",
      " [4.19194514e-01 6.85219500e-01 2.04452250e-01 8.78117436e-01\n",
      "  2.73875932e-02]\n",
      " [6.70467510e-01 4.17304802e-01 5.58689828e-01 1.40386939e-01\n",
      "  1.98101489e-01]\n",
      " [8.00744569e-01 9.68261576e-01 3.13424178e-01 6.92322616e-01\n",
      "  8.76389152e-01]]\n",
      "The shape of R is (5, 5)\n"
     ]
    }
   ],
   "source": [
    "np.random.seed(1)\n",
    "R = np.random.uniform(low=0, high=1, size=(5,5))\n",
    "print(R)\n",
    "print('The shape of R is', R.shape)"
   ]
  },
  {
   "cell_type": "markdown",
   "id": "painted-looking",
   "metadata": {},
   "source": [
    "Alternatively, we can construct a $5\\times 5$ matrix with elements drawn from the standard normal distribution as follows."
   ]
  },
  {
   "cell_type": "code",
   "execution_count": 16,
   "id": "accurate-integrity",
   "metadata": {},
   "outputs": [
    {
     "name": "stdout",
     "output_type": "stream",
     "text": [
      "[[ 1.62434536 -0.61175641 -0.52817175 -1.07296862  0.86540763]\n",
      " [-2.3015387   1.74481176 -0.7612069   0.3190391  -0.24937038]\n",
      " [ 1.46210794 -2.06014071 -0.3224172  -0.38405435  1.13376944]\n",
      " [-1.09989127 -0.17242821 -0.87785842  0.04221375  0.58281521]\n",
      " [-1.10061918  1.14472371  0.90159072  0.50249434  0.90085595]]\n",
      "The shape of R is (5, 5)\n"
     ]
    }
   ],
   "source": [
    "np.random.seed(1)\n",
    "R = np.random.standard_normal(size=(5,5))\n",
    "print(R)\n",
    "print('The shape of R is', R.shape)"
   ]
  },
  {
   "cell_type": "markdown",
   "id": "acting-response",
   "metadata": {},
   "source": [
    "Here is another example, where the elements of the $5\\times 10$ matrix are integers that are uniformly drawn from the range 1 to 200."
   ]
  },
  {
   "cell_type": "code",
   "execution_count": 17,
   "id": "sustainable-vintage",
   "metadata": {},
   "outputs": [
    {
     "name": "stdout",
     "output_type": "stream",
     "text": [
      "[[ 38 141  73 138 134  80 193 145 130  72]\n",
      " [135  26 179  21 102 147 140 157 158 143]\n",
      " [ 51  69  97  87 142 138   8  64  62  23]\n",
      " [ 58   2 129  61   9 142 116 176 122  31]\n",
      " [ 72 132 199 150  50  58   4 197  25  44]]\n",
      "The shape of R is (5, 10)\n"
     ]
    }
   ],
   "source": [
    "np.random.seed(1)\n",
    "D = np.random.randint(low=1,high=200,size=(5,10))\n",
    "print(D)\n",
    "print('The shape of R is', D.shape)"
   ]
  },
  {
   "cell_type": "markdown",
   "id": "lesbian-december",
   "metadata": {},
   "source": [
    "Note that we use the function `np.random.seed()` to set a seed value for initializing the random number generator.\n",
    "It is always a good idea to set a seed for debugging your code or reproducing results.\n",
    "\n",
    "\n",
    "## Basic Array Operations\n",
    "\n",
    "\n",
    "Performing basic operation on `ndarray` objects is easy.\n",
    "In many cases, these operations correspond to linear algebra operations.\n",
    "In other cases, they can be used to do other useful things.\n",
    "\n",
    "\n",
    "### Array addition\n",
    "\n",
    "The sum of $\\mathbf{A}$ and $\\mathbf{A}$, denoted $\\mathbf{A}$ + $\\mathbf{A}$, is computed by adding corresponding elements of A and B:\n",
    "\n",
    "\n",
    "$$\n",
    " \\mathbf{A} + \\mathbf{B} = \\begin{bmatrix}\n",
    "a_{11} & a_{12}  \\\\\n",
    "a_{21} & a_{22} \\\\\n",
    "\\end{bmatrix}\n",
    "+\n",
    "\\begin{bmatrix}\n",
    "b_{11} & b_{12}  \\\\\n",
    "b_{21} & b_{22} \\\\\n",
    "\\end{bmatrix}\n",
    "=\n",
    "\\begin{bmatrix}\n",
    "a_{11}+b_{11} & a_{11}+b_{12}  \\\\\n",
    "a_{21}+b_{21} & a_{11}+b_{22} \\\\\n",
    "\\end{bmatrix}\n",
    "$$\n",
    "\n",
    "\n",
    "The sum of two matrices A and B will be a matrix which has the same number of rows and columns as A and B. Note, that the two arrays must have an equal number of rows and columns. Let A and B be:"
   ]
  },
  {
   "cell_type": "code",
   "execution_count": 18,
   "id": "certain-scanning",
   "metadata": {},
   "outputs": [],
   "source": [
    "A = np.array(([1,2], [3,4]))\n",
    "B = np.ones((2,2))"
   ]
  },
  {
   "cell_type": "markdown",
   "id": "saved-anthony",
   "metadata": {},
   "source": [
    "Using NumPy objects, the sum of A and B can be computed as follows."
   ]
  },
  {
   "cell_type": "code",
   "execution_count": 19,
   "id": "premium-cattle",
   "metadata": {},
   "outputs": [
    {
     "data": {
      "text/plain": [
       "array([[2., 3.],\n",
       "       [4., 5.]])"
      ]
     },
     "execution_count": 19,
     "metadata": {},
     "output_type": "execute_result"
    }
   ],
   "source": [
    "A + B"
   ]
  },
  {
   "cell_type": "markdown",
   "id": "changed-morgan",
   "metadata": {},
   "source": [
    "Note that matrix addition is commutative, i.e., $\\mathbf{A} + \\mathbf{B} = \\mathbf{B} + \\mathbf{A}$."
   ]
  },
  {
   "cell_type": "code",
   "execution_count": 20,
   "id": "divided-plaza",
   "metadata": {},
   "outputs": [
    {
     "data": {
      "text/plain": [
       "array([[2., 3.],\n",
       "       [4., 5.]])"
      ]
     },
     "execution_count": 20,
     "metadata": {},
     "output_type": "execute_result"
    }
   ],
   "source": [
    "B + A"
   ]
  },
  {
   "cell_type": "markdown",
   "id": "french-commodity",
   "metadata": {},
   "source": [
    "### Matrix multiplication\n",
    "\n",
    "The matrix product of $\\mathbf{A}$ and $\\mathbf{B}$, denoted $\\mathbf{A}\\mathbf{B}$, can be computed by the dot product of the ith row of $\\mathbf{A}$ and the jth column of $\\mathbf{B}$.\n",
    "\n",
    "\n",
    "$$\n",
    "\\mathbf{A} \\mathbf{B} = \\begin{bmatrix}\n",
    "a_{11} & a_{12}  \\\\\n",
    "a_{21} & a_{22} \\\\\n",
    "\\end{bmatrix}\n",
    "\\begin{bmatrix}\n",
    "b_{11} & b_{12}  \\\\\n",
    "b_{21} & b_{22} \\\\\n",
    "\\end{bmatrix}\n",
    "=\n",
    "\\begin{bmatrix}\n",
    "a_{11}b_{11}+a_{12}b_{21} & a_{11}b_{12}+a_{12}b_{22}  \\\\\n",
    "a_{21}b_{11}+a_{22}b_{21} & a_{21}b_{12}+a_{22}b_{22} \\\\\n",
    "\\end{bmatrix}\n",
    "$$\n",
    "\n",
    "\n",
    "Thus the product AB is defined if and only if the number of columns in A equals the number of rows in B.\n",
    "\n",
    "\n",
    "Given two NumPy `ndarray` objects, the matrix product can be computed by using the `np.dot` function."
   ]
  },
  {
   "cell_type": "code",
   "execution_count": 21,
   "id": "congressional-fisher",
   "metadata": {},
   "outputs": [
    {
     "data": {
      "text/plain": [
       "array([[3., 3.],\n",
       "       [7., 7.]])"
      ]
     },
     "execution_count": 21,
     "metadata": {},
     "output_type": "execute_result"
    }
   ],
   "source": [
    "np.dot(A, B)"
   ]
  },
  {
   "cell_type": "markdown",
   "id": "boolean-shopping",
   "metadata": {},
   "source": [
    "We can also exploit the fact that A is an object and compute the matrix product as follows."
   ]
  },
  {
   "cell_type": "code",
   "execution_count": 22,
   "id": "delayed-grace",
   "metadata": {},
   "outputs": [
    {
     "data": {
      "text/plain": [
       "array([[3., 3.],\n",
       "       [7., 7.]])"
      ]
     },
     "execution_count": 22,
     "metadata": {},
     "output_type": "execute_result"
    }
   ],
   "source": [
    "A.dot(B)"
   ]
  },
  {
   "cell_type": "markdown",
   "id": "black-hudson",
   "metadata": {},
   "source": [
    "Note that the matrix product is not commutative, i.e., $\\mathbf{A} \\mathbf{B} \\neq \\mathbf{B} \\mathbf{A}$."
   ]
  },
  {
   "cell_type": "code",
   "execution_count": 23,
   "id": "efficient-postage",
   "metadata": {},
   "outputs": [
    {
     "data": {
      "text/plain": [
       "array([[4., 6.],\n",
       "       [4., 6.]])"
      ]
     },
     "execution_count": 23,
     "metadata": {},
     "output_type": "execute_result"
    }
   ],
   "source": [
    "B.dot(A)"
   ]
  },
  {
   "cell_type": "markdown",
   "id": "demographic-syndrome",
   "metadata": {},
   "source": [
    "Further, note that the matrix product of $\\mathbf{A} \\mathbf{I} = \\mathbf{A}$."
   ]
  },
  {
   "cell_type": "code",
   "execution_count": 24,
   "id": "wrong-laptop",
   "metadata": {},
   "outputs": [
    {
     "data": {
      "text/plain": [
       "array([[1., 2.],\n",
       "       [3., 4.]])"
      ]
     },
     "execution_count": 24,
     "metadata": {},
     "output_type": "execute_result"
    }
   ],
   "source": [
    "I = np.eye(2)\n",
    "A.dot(I)"
   ]
  },
  {
   "cell_type": "markdown",
   "id": "vulnerable-gilbert",
   "metadata": {},
   "source": [
    "### Computing statistics on arrays of numbers\n",
    "\n",
    "NumPy allows us to do operations on arrays quickly.\n",
    "For example, we can try computing some statistics on an array of random numbers."
   ]
  },
  {
   "cell_type": "code",
   "execution_count": 25,
   "id": "growing-pharmaceutical",
   "metadata": {},
   "outputs": [
    {
     "name": "stdout",
     "output_type": "stream",
     "text": [
      "[[0.68650093 0.83462567 0.01828828]\n",
      " [0.75014431 0.98886109 0.74816565]]\n",
      "\n",
      "Max: 0.9888610889064947\n",
      "Max of each row: [0.75014431 0.98886109 0.74816565]\n",
      "Max of each col: [0.83462567 0.98886109]\n",
      "Min: 0.018288277344191806\n",
      "Mean: 0.671097655859075\n",
      "Median: 0.7491549846624035\n",
      "Standard deviation: 0.3072187623339347\n",
      "Sum: 4.02658593515445\n"
     ]
    }
   ],
   "source": [
    "dataset_rn = np.random.random((2, 3))\n",
    "print(dataset_rn)\n",
    "print()\n",
    "print(\"Max:\", np.max(dataset_rn))\n",
    "print(\"Max of each row:\", np.max(dataset_rn, axis=0))\n",
    "print(\"Max of each col:\", np.max(dataset_rn, axis=1))\n",
    "print(\"Min:\", np.min(dataset_rn))\n",
    "print(\"Mean:\", np.mean(dataset_rn))\n",
    "print(\"Median:\", np.median(dataset_rn))\n",
    "print(\"Standard deviation:\", np.std(dataset_rn))\n",
    "print(\"Sum:\", np.sum(dataset_rn))"
   ]
  },
  {
   "cell_type": "markdown",
   "id": "eleven-vegetable",
   "metadata": {},
   "source": [
    "### Slicing and dicing\n",
    "\n",
    "In many situations we need to extract elements or subsets from an array.\n",
    "To do so, we can use slicing and dicing operations."
   ]
  },
  {
   "cell_type": "code",
   "execution_count": 26,
   "id": "great-spouse",
   "metadata": {},
   "outputs": [
    {
     "name": "stdout",
     "output_type": "stream",
     "text": [
      "[[1 2]\n",
      " [3 4]]\n"
     ]
    }
   ],
   "source": [
    "print(A)"
   ]
  },
  {
   "cell_type": "markdown",
   "id": "floral-spencer",
   "metadata": {},
   "source": [
    "Get the first element in the first row of A."
   ]
  },
  {
   "cell_type": "code",
   "execution_count": 27,
   "id": "accessory-doctrine",
   "metadata": {},
   "outputs": [
    {
     "data": {
      "text/plain": [
       "1"
      ]
     },
     "execution_count": 27,
     "metadata": {},
     "output_type": "execute_result"
    }
   ],
   "source": [
    "A[0,0]"
   ]
  },
  {
   "cell_type": "markdown",
   "id": "latter-entrance",
   "metadata": {},
   "source": [
    "Get the second element in the first row of A."
   ]
  },
  {
   "cell_type": "code",
   "execution_count": 28,
   "id": "cosmetic-gambling",
   "metadata": {},
   "outputs": [
    {
     "data": {
      "text/plain": [
       "2"
      ]
     },
     "execution_count": 28,
     "metadata": {},
     "output_type": "execute_result"
    }
   ],
   "source": [
    "A[0,1]"
   ]
  },
  {
   "cell_type": "markdown",
   "id": "chronic-motel",
   "metadata": {},
   "source": [
    "Get the second row."
   ]
  },
  {
   "cell_type": "code",
   "execution_count": 29,
   "id": "subsequent-scholarship",
   "metadata": {},
   "outputs": [
    {
     "data": {
      "text/plain": [
       "array([3, 4])"
      ]
     },
     "execution_count": 29,
     "metadata": {},
     "output_type": "execute_result"
    }
   ],
   "source": [
    "A[1]"
   ]
  },
  {
   "cell_type": "markdown",
   "id": "biblical-hometown",
   "metadata": {},
   "source": [
    "Get the first column of A."
   ]
  },
  {
   "cell_type": "code",
   "execution_count": 30,
   "id": "thermal-standard",
   "metadata": {},
   "outputs": [
    {
     "data": {
      "text/plain": [
       "array([1, 3])"
      ]
     },
     "execution_count": 30,
     "metadata": {},
     "output_type": "execute_result"
    }
   ],
   "source": [
    "A[:,0]"
   ]
  },
  {
   "cell_type": "markdown",
   "id": "backed-peripheral",
   "metadata": {},
   "source": [
    "Recall the random matrix D."
   ]
  },
  {
   "cell_type": "code",
   "execution_count": 31,
   "id": "lightweight-arbor",
   "metadata": {},
   "outputs": [
    {
     "name": "stdout",
     "output_type": "stream",
     "text": [
      "[[ 38 141  73 138 134  80 193 145 130  72]\n",
      " [135  26 179  21 102 147 140 157 158 143]\n",
      " [ 51  69  97  87 142 138   8  64  62  23]\n",
      " [ 58   2 129  61   9 142 116 176 122  31]\n",
      " [ 72 132 199 150  50  58   4 197  25  44]]\n"
     ]
    }
   ],
   "source": [
    "print(D)"
   ]
  },
  {
   "cell_type": "markdown",
   "id": "mounted-potential",
   "metadata": {},
   "source": [
    "Get the first 3 rows and columns of D"
   ]
  },
  {
   "cell_type": "code",
   "execution_count": 32,
   "id": "heated-voluntary",
   "metadata": {},
   "outputs": [
    {
     "data": {
      "text/plain": [
       "array([[ 38, 141,  73],\n",
       "       [135,  26, 179],\n",
       "       [ 51,  69,  97]])"
      ]
     },
     "execution_count": 32,
     "metadata": {},
     "output_type": "execute_result"
    }
   ],
   "source": [
    "D[0:3,0:3]"
   ]
  },
  {
   "cell_type": "markdown",
   "id": "private-alias",
   "metadata": {},
   "source": [
    "### Array broadcasting\n",
    "\n",
    "\n",
    "Again get the first 3 rows and columns of D and assign it to a new variable."
   ]
  },
  {
   "cell_type": "code",
   "execution_count": 33,
   "id": "studied-improvement",
   "metadata": {},
   "outputs": [
    {
     "name": "stdout",
     "output_type": "stream",
     "text": [
      "[[ 38 141  73]\n",
      " [135  26 179]\n",
      " [ 51  69  97]]\n"
     ]
    }
   ],
   "source": [
    "subset_of_D = D[0:3,0:3]\n",
    "print(subset_of_D)"
   ]
  },
  {
   "cell_type": "markdown",
   "id": "relative-decade",
   "metadata": {},
   "source": [
    "Change the first element of subset_of_D."
   ]
  },
  {
   "cell_type": "code",
   "execution_count": 34,
   "id": "bored-imaging",
   "metadata": {},
   "outputs": [
    {
     "name": "stdout",
     "output_type": "stream",
     "text": [
      "[[ 99 141  73]\n",
      " [135  26 179]\n",
      " [ 51  69  97]]\n"
     ]
    }
   ],
   "source": [
    "subset_of_D[0,0] = 99\n",
    "print(subset_of_D)"
   ]
  },
  {
   "cell_type": "markdown",
   "id": "described-mumbai",
   "metadata": {},
   "source": [
    "Note that NumPy Arrays are always shallow copied. Hence any modification made in derivative affects the source, e.g., changing an element of subset_of_D also affects D."
   ]
  },
  {
   "cell_type": "code",
   "execution_count": 35,
   "id": "cloudy-place",
   "metadata": {},
   "outputs": [
    {
     "name": "stdout",
     "output_type": "stream",
     "text": [
      "[[ 99 141  73 138 134  80 193 145 130  72]\n",
      " [135  26 179  21 102 147 140 157 158 143]\n",
      " [ 51  69  97  87 142 138   8  64  62  23]\n",
      " [ 58   2 129  61   9 142 116 176 122  31]\n",
      " [ 72 132 199 150  50  58   4 197  25  44]]\n"
     ]
    }
   ],
   "source": [
    "print(D)"
   ]
  },
  {
   "cell_type": "markdown",
   "id": "oriental-basin",
   "metadata": {},
   "source": [
    "### Array searching\n",
    "\n",
    "\n",
    "Search for all elements in subset_of_D that are greater than 100."
   ]
  },
  {
   "cell_type": "code",
   "execution_count": 36,
   "id": "precise-diversity",
   "metadata": {},
   "outputs": [
    {
     "data": {
      "text/plain": [
       "array([[False,  True, False],\n",
       "       [ True, False,  True],\n",
       "       [False, False, False]])"
      ]
     },
     "execution_count": 36,
     "metadata": {},
     "output_type": "execute_result"
    }
   ],
   "source": [
    "subset_of_D > 100"
   ]
  },
  {
   "cell_type": "markdown",
   "id": "interpreted-flooring",
   "metadata": {},
   "source": [
    "This condition condition returns a Boolean matrix of same dimension as the array that is being queried. We can also use this Truth vector as an index to search, e.g., get all numbers greater than 100."
   ]
  },
  {
   "cell_type": "code",
   "execution_count": 37,
   "id": "prospective-melbourne",
   "metadata": {},
   "outputs": [
    {
     "data": {
      "text/plain": [
       "array([141, 135, 179])"
      ]
     },
     "execution_count": 37,
     "metadata": {},
     "output_type": "execute_result"
    }
   ],
   "source": [
    "subset_of_D[subset_of_D>100]"
   ]
  },
  {
   "cell_type": "markdown",
   "id": "waiting-harmony",
   "metadata": {},
   "source": [
    "We can also find elements within a range for instance:"
   ]
  },
  {
   "cell_type": "code",
   "execution_count": 38,
   "id": "empirical-convert",
   "metadata": {},
   "outputs": [
    {
     "data": {
      "text/plain": [
       "array([141, 135])"
      ]
     },
     "execution_count": 38,
     "metadata": {},
     "output_type": "execute_result"
    }
   ],
   "source": [
    "subset_of_D[(subset_of_D>100) & (subset_of_D<150)]"
   ]
  },
  {
   "cell_type": "markdown",
   "id": "international-magic",
   "metadata": {},
   "source": [
    "### Reshaping NumPy arrays\n",
    "\n",
    "In some situations it is required to reshape an array of numbers. You can do so using the `reshape` function."
   ]
  },
  {
   "cell_type": "code",
   "execution_count": 39,
   "id": "colonial-breast",
   "metadata": {},
   "outputs": [
    {
     "name": "stdout",
     "output_type": "stream",
     "text": [
      "[[ 99 141  73 138]\n",
      " [135  26 179  21]\n",
      " [ 51  69  97  87]]\n"
     ]
    }
   ],
   "source": [
    "subset_of_D = D[0:3,0:4]\n",
    "print(subset_of_D)"
   ]
  },
  {
   "cell_type": "markdown",
   "id": "western-accountability",
   "metadata": {},
   "source": [
    "Here are a few examples."
   ]
  },
  {
   "cell_type": "code",
   "execution_count": 40,
   "id": "absent-absolute",
   "metadata": {},
   "outputs": [
    {
     "data": {
      "text/plain": [
       "array([[ 99, 141,  73],\n",
       "       [138, 135,  26],\n",
       "       [179,  21,  51],\n",
       "       [ 69,  97,  87]])"
      ]
     },
     "execution_count": 40,
     "metadata": {},
     "output_type": "execute_result"
    }
   ],
   "source": [
    "subset_of_D.reshape(4, 3)"
   ]
  },
  {
   "cell_type": "code",
   "execution_count": 41,
   "id": "central-clear",
   "metadata": {},
   "outputs": [
    {
     "data": {
      "text/plain": [
       "array([[ 99, 141,  73, 138, 135,  26, 179,  21,  51,  69,  97,  87]])"
      ]
     },
     "execution_count": 41,
     "metadata": {},
     "output_type": "execute_result"
    }
   ],
   "source": [
    "subset_of_D.reshape(1, 12)"
   ]
  },
  {
   "cell_type": "code",
   "execution_count": 42,
   "id": "humanitarian-emphasis",
   "metadata": {},
   "outputs": [
    {
     "data": {
      "text/plain": [
       "array([[ 99],\n",
       "       [141],\n",
       "       [ 73],\n",
       "       [138],\n",
       "       [135],\n",
       "       [ 26],\n",
       "       [179],\n",
       "       [ 21],\n",
       "       [ 51],\n",
       "       [ 69],\n",
       "       [ 97],\n",
       "       [ 87]])"
      ]
     },
     "execution_count": 42,
     "metadata": {},
     "output_type": "execute_result"
    }
   ],
   "source": [
    "subset_of_D.reshape(12, 1)"
   ]
  },
  {
   "cell_type": "code",
   "execution_count": 43,
   "id": "amazing-conclusion",
   "metadata": {},
   "outputs": [
    {
     "data": {
      "text/plain": [
       "array([ 99, 141,  73, 138, 135,  26, 179,  21,  51,  69,  97,  87])"
      ]
     },
     "execution_count": 43,
     "metadata": {},
     "output_type": "execute_result"
    }
   ],
   "source": [
    "subset_of_D.reshape(12)"
   ]
  },
  {
   "cell_type": "markdown",
   "id": "coupled-bikini",
   "metadata": {},
   "source": [
    "Note that `subset_of_D.reshape(12)` is not the same as `subset_of_D.reshape(1,12)`."
   ]
  },
  {
   "cell_type": "code",
   "execution_count": 44,
   "id": "comprehensive-gasoline",
   "metadata": {},
   "outputs": [
    {
     "data": {
      "text/plain": [
       "False"
      ]
     },
     "execution_count": 44,
     "metadata": {},
     "output_type": "execute_result"
    }
   ],
   "source": [
    "subset_of_D.reshape(12).shape == subset_of_D.reshape(1,12).shape"
   ]
  },
  {
   "cell_type": "markdown",
   "id": "corrected-favorite",
   "metadata": {},
   "source": [
    "The operation `subset_of_D.reshape(12)` is collapsing the array into one dimension, i.e., it turns the array into a row vector.  The operation `subset_of_D.reshape(1,12)` is turning the array into an explicit row vector, but I suggest to avoid doing this (see below).\n",
    "\n",
    "\n",
    "## Vectors\n",
    "\n",
    "Vectors are central to linear algebra, and they are also central to NumPy.\n",
    "In NumPy, there are a few subtleties when working with arrays to do vector operations.\n",
    "If you are careful about the subtleties, then you will avoid a lot of problems.\n",
    "\n",
    "A row vector is an $1\\times n$ matrix.\n",
    "Here is an example:"
   ]
  },
  {
   "cell_type": "code",
   "execution_count": 45,
   "id": "connected-plaza",
   "metadata": {},
   "outputs": [
    {
     "data": {
      "text/plain": [
       "array([1, 2, 3])"
      ]
     },
     "execution_count": 45,
     "metadata": {},
     "output_type": "execute_result"
    }
   ],
   "source": [
    "x = np.array([1,2,3])\n",
    "x"
   ]
  },
  {
   "cell_type": "markdown",
   "id": "lyric-japan",
   "metadata": {},
   "source": [
    "The shape of a row vector looks as follows."
   ]
  },
  {
   "cell_type": "code",
   "execution_count": 46,
   "id": "inappropriate-number",
   "metadata": {},
   "outputs": [
    {
     "data": {
      "text/plain": [
       "(3,)"
      ]
     },
     "execution_count": 46,
     "metadata": {},
     "output_type": "execute_result"
    }
   ],
   "source": [
    "x.shape"
   ]
  },
  {
   "cell_type": "markdown",
   "id": "intermediate-reading",
   "metadata": {},
   "source": [
    "In NumPy, a row vector is a one dimensional array.\n",
    "You can also push a row vector into an explicit row vector."
   ]
  },
  {
   "cell_type": "code",
   "execution_count": 47,
   "id": "worst-poker",
   "metadata": {},
   "outputs": [
    {
     "data": {
      "text/plain": [
       "array([[1, 2, 3]])"
      ]
     },
     "execution_count": 47,
     "metadata": {},
     "output_type": "execute_result"
    }
   ],
   "source": [
    "x.reshape(1,3)"
   ]
  },
  {
   "cell_type": "markdown",
   "id": "optional-credit",
   "metadata": {},
   "source": [
    "Do you see that this operation introduces another pair of brackets, i.e., [[]].\n",
    "This, can lead to all kind of troubles and hence I suggest that you avoid using explicit row vectors.\n",
    "\n",
    "\n",
    "A column vector is an $m\\times 1$ matrix. Here is an example:"
   ]
  },
  {
   "cell_type": "code",
   "execution_count": 48,
   "id": "social-pepper",
   "metadata": {},
   "outputs": [
    {
     "name": "stdout",
     "output_type": "stream",
     "text": [
      "[[6]\n",
      " [7]\n",
      " [8]]\n"
     ]
    },
    {
     "data": {
      "text/plain": [
       "(3, 1)"
      ]
     },
     "execution_count": 48,
     "metadata": {},
     "output_type": "execute_result"
    }
   ],
   "source": [
    "v = np.array(([6],[7],[8]))\n",
    "print(v)\n",
    "v.shape"
   ]
  },
  {
   "cell_type": "markdown",
   "id": "choice-mixer",
   "metadata": {},
   "source": [
    "You can turn a column vector into a row vector by flattening the vector."
   ]
  },
  {
   "cell_type": "code",
   "execution_count": 49,
   "id": "copyrighted-taxation",
   "metadata": {},
   "outputs": [
    {
     "data": {
      "text/plain": [
       "array([6, 7, 8])"
      ]
     },
     "execution_count": 49,
     "metadata": {},
     "output_type": "execute_result"
    }
   ],
   "source": [
    "v.reshape(v.shape[0])"
   ]
  },
  {
   "cell_type": "markdown",
   "id": "yellow-disease",
   "metadata": {},
   "source": [
    "### Inner product\n",
    "\n",
    "Recall, given $v,w \\in \\mathbb{R}^n$, the inner product is defined as:\n",
    "\n",
    "\n",
    "$$\n",
    "\\langle v,w\\rangle = v_{1}w_{1}+v_{2}w_{2}+\\dots+v_{n}w_{n}  .\n",
    "$$\n",
    "\n",
    "\n",
    "The inner product is also equal to the matrix product of the two vectors:\n",
    "\n",
    "$$\n",
    "v^T w = v_{1}w_{1}+v_{2}w_{2}+\\dots+v_{n}w_{n}\n",
    "$$\n",
    "\n",
    "\n",
    "\n",
    "You can use a for loop to compute the inner product of v and w."
   ]
  },
  {
   "cell_type": "code",
   "execution_count": 50,
   "id": "living-korea",
   "metadata": {},
   "outputs": [],
   "source": [
    "def dotproduct(x1,x2):\n",
    "    xv = 0\n",
    "    for i in range(x1.shape[0]):\n",
    "        xv += x1[i]*x2[i]\n",
    "    return xv"
   ]
  },
  {
   "cell_type": "code",
   "execution_count": 51,
   "id": "vital-bowling",
   "metadata": {},
   "outputs": [
    {
     "name": "stdout",
     "output_type": "stream",
     "text": [
      "CPU times: user 45 µs, sys: 0 ns, total: 45 µs\n",
      "Wall time: 48.2 µs\n"
     ]
    },
    {
     "data": {
      "text/plain": [
       "array([44])"
      ]
     },
     "execution_count": 51,
     "metadata": {},
     "output_type": "execute_result"
    }
   ],
   "source": [
    "%time dotproduct(x,v)"
   ]
  },
  {
   "cell_type": "markdown",
   "id": "electoral-feedback",
   "metadata": {},
   "source": [
    "However, as you can see, using a loop is slow.\n",
    "Instead, we can use numpy's build in function to compute the inner product."
   ]
  },
  {
   "cell_type": "code",
   "execution_count": 52,
   "id": "retired-weather",
   "metadata": {},
   "outputs": [
    {
     "name": "stdout",
     "output_type": "stream",
     "text": [
      "CPU times: user 10 µs, sys: 3 µs, total: 13 µs\n",
      "Wall time: 16 µs\n"
     ]
    },
    {
     "data": {
      "text/plain": [
       "array([[44]])"
      ]
     },
     "execution_count": 52,
     "metadata": {},
     "output_type": "execute_result"
    }
   ],
   "source": [
    "%time x.reshape(1,3).dot(v)"
   ]
  },
  {
   "cell_type": "markdown",
   "id": "considerable-round",
   "metadata": {},
   "source": [
    "## 5. Applying operations to vectors\n",
    "\n",
    "We can use built-in NumPy functions like `np.sin` and `np.exp` on one-modal arrays to perform operations on each element of the array.\n",
    "\n",
    "For example:"
   ]
  },
  {
   "cell_type": "code",
   "execution_count": 53,
   "id": "lonely-calculator",
   "metadata": {},
   "outputs": [
    {
     "data": {
      "text/plain": [
       "array([ 1,  0, -1])"
      ]
     },
     "execution_count": 53,
     "metadata": {},
     "output_type": "execute_result"
    }
   ],
   "source": [
    "vector = np.array([1,0,-1])\n",
    "vector"
   ]
  },
  {
   "cell_type": "code",
   "execution_count": 54,
   "id": "direct-advocacy",
   "metadata": {},
   "outputs": [
    {
     "data": {
      "text/plain": [
       "array([2.71828183, 1.        , 0.36787944])"
      ]
     },
     "execution_count": 54,
     "metadata": {},
     "output_type": "execute_result"
    }
   ],
   "source": [
    "new_vector = np.exp(vector)\n",
    "new_vector"
   ]
  },
  {
   "cell_type": "markdown",
   "id": "breeding-journal",
   "metadata": {},
   "source": [
    "The entries in the `new_vector` above are $e$ ($e^1$), $1$ ($e^0$), and $\\frac{1}{e}$ ($e^{-1}$).\n",
    "\n",
    "Similarly, applying `np.sin` (or `np.cos`) to a vector returns a new vector, whose elements are the value of the function `np.sin` evaluated on each of the elements of the original vector (the function is \"applied element wise\", to use jargon)."
   ]
  },
  {
   "cell_type": "code",
   "execution_count": 55,
   "id": "computational-height",
   "metadata": {},
   "outputs": [
    {
     "data": {
      "text/plain": [
       "array([-1.57079633,  0.        ,  1.57079633])"
      ]
     },
     "execution_count": 55,
     "metadata": {},
     "output_type": "execute_result"
    }
   ],
   "source": [
    "from math import pi\n",
    "vector = np.array([-pi/2, 0, pi/2])\n",
    "vector"
   ]
  },
  {
   "cell_type": "code",
   "execution_count": 56,
   "id": "controlling-latvia",
   "metadata": {},
   "outputs": [
    {
     "data": {
      "text/plain": [
       "array([-1.,  0.,  1.])"
      ]
     },
     "execution_count": 56,
     "metadata": {},
     "output_type": "execute_result"
    }
   ],
   "source": [
    "new_vector = np.sin(vector)\n",
    "new_vector"
   ]
  },
  {
   "cell_type": "markdown",
   "id": "prospective-artist",
   "metadata": {},
   "source": [
    "The same thing happens with two-modal arrays. For example, with `np.exp`:"
   ]
  },
  {
   "cell_type": "code",
   "execution_count": 57,
   "id": "forty-kenya",
   "metadata": {},
   "outputs": [
    {
     "data": {
      "text/plain": [
       "array([[ 1,  0, -1],\n",
       "       [-1,  0,  1]])"
      ]
     },
     "execution_count": 57,
     "metadata": {},
     "output_type": "execute_result"
    }
   ],
   "source": [
    "matrix = np.array([[1, 0, -1], [-1, 0, 1]])\n",
    "matrix"
   ]
  },
  {
   "cell_type": "code",
   "execution_count": 58,
   "id": "adopted-drink",
   "metadata": {},
   "outputs": [
    {
     "data": {
      "text/plain": [
       "array([[2.71828183, 1.        , 0.36787944],\n",
       "       [0.36787944, 1.        , 2.71828183]])"
      ]
     },
     "execution_count": 58,
     "metadata": {},
     "output_type": "execute_result"
    }
   ],
   "source": [
    "new_matrix = np.exp(matrix)\n",
    "new_matrix"
   ]
  },
  {
   "cell_type": "markdown",
   "id": "liberal-italian",
   "metadata": {},
   "source": [
    "Similarly, with `np.cos` (or any other built-in NumPy function):"
   ]
  },
  {
   "cell_type": "code",
   "execution_count": 59,
   "id": "persistent-electric",
   "metadata": {},
   "outputs": [
    {
     "data": {
      "text/plain": [
       "array([[-1.57079633,  0.        ,  1.57079633],\n",
       "       [ 0.        ,  3.14159265,  6.28318531]])"
      ]
     },
     "execution_count": 59,
     "metadata": {},
     "output_type": "execute_result"
    }
   ],
   "source": [
    "matrix = np.array([[-pi/2, 0, pi/2], [0, pi, 2*pi]])\n",
    "matrix"
   ]
  },
  {
   "cell_type": "code",
   "execution_count": 60,
   "id": "verified-tunisia",
   "metadata": {},
   "outputs": [
    {
     "data": {
      "text/plain": [
       "array([[ 6.123234e-17,  1.000000e+00,  6.123234e-17],\n",
       "       [ 1.000000e+00, -1.000000e+00,  1.000000e+00]])"
      ]
     },
     "execution_count": 60,
     "metadata": {},
     "output_type": "execute_result"
    }
   ],
   "source": [
    "new_matrix = np.cos(matrix)\n",
    "new_matrix"
   ]
  },
  {
   "cell_type": "code",
   "execution_count": 61,
   "id": "allied-quebec",
   "metadata": {},
   "outputs": [
    {
     "data": {
      "text/plain": [
       "array([[ 0.,  1.,  0.],\n",
       "       [ 1., -1.,  1.]])"
      ]
     },
     "execution_count": 61,
     "metadata": {},
     "output_type": "execute_result"
    }
   ],
   "source": [
    "rounded_new_matrix = np.round(new_matrix)\n",
    "rounded_new_matrix"
   ]
  },
  {
   "cell_type": "markdown",
   "id": "continuous-terry",
   "metadata": {},
   "source": [
    "## Making Stacks (Merge 2D `ndarrays` horizontally or vertically)\n",
    "\n",
    "Sometimes, we use a matrix as a collection of vectors. For example, each row or column is a feature vector corresponding to a different measurement. Other times, we simply want to concatenate two matrices for computational convenience. In both cases, we can use `np.hstack` and `np.vstack` to merge two dimensional `ndarray`'s horizontally and vertically, respectively.\n",
    "\n",
    "\n",
    "### Basics of `np.hstack` and `np.vstack`\n",
    "\n",
    "\n",
    "Use `np.hstack` to concatenate two matrices (two dimensional NumPy arrays) horizontally.\n",
    "\n",
    "Make sure you pass in a tuple containing `(A, B)`, rather than passing in `A` and `B` as two arguments."
   ]
  },
  {
   "cell_type": "code",
   "execution_count": 62,
   "id": "corrected-musical",
   "metadata": {},
   "outputs": [
    {
     "name": "stdout",
     "output_type": "stream",
     "text": [
      "A:\n",
      "[[1 2]\n",
      " [5 6]]\n",
      "\n",
      "B:\n",
      "[[3 4]\n",
      " [7 8]]\n",
      "\n",
      "C:\n",
      "[[1 2 3 4]\n",
      " [5 6 7 8]]\n"
     ]
    }
   ],
   "source": [
    "A = np.array([[1, 2], [5, 6]])\n",
    "\n",
    "B = np.array([[3, 4], [7, 8]])\n",
    "\n",
    "C = np.hstack((A, B))\n",
    "\n",
    "print(\"A:\\n{}\\n\\nB:\\n{}\\n\\nC:\\n{}\".format(A, B, C))"
   ]
  },
  {
   "cell_type": "markdown",
   "id": "based-deposit",
   "metadata": {},
   "source": [
    "Similarly, use `np.vstack` to concatenate two matrices (two dimensional NumPy arrays) vertically"
   ]
  },
  {
   "cell_type": "code",
   "execution_count": 63,
   "id": "grateful-trance",
   "metadata": {},
   "outputs": [
    {
     "name": "stdout",
     "output_type": "stream",
     "text": [
      "D:\n",
      "[[1 2]\n",
      " [5 6]\n",
      " [3 4]\n",
      " [7 8]]\n"
     ]
    }
   ],
   "source": [
    "D = np.vstack((A, B))\n",
    "\n",
    "print(\"D:\\n{}\".format(D))"
   ]
  }
 ],
 "metadata": {
  "jupytext": {
   "text_representation": {
    "extension": ".md",
    "format_name": "myst",
    "format_version": 0.12,
    "jupytext_version": "1.9.1"
   }
  },
  "kernelspec": {
   "display_name": "Python 3",
   "language": "python",
   "name": "python3"
  },
  "language_info": {
   "codemirror_mode": {
    "name": "ipython",
    "version": 3
   },
   "file_extension": ".py",
   "mimetype": "text/x-python",
   "name": "python",
   "nbconvert_exporter": "python",
   "pygments_lexer": "ipython3",
   "version": "3.7.7"
  },
  "source_map": [
   12,
   32,
   34,
   42,
   44,
   49,
   51,
   85,
   88,
   92,
   94,
   98,
   100,
   110,
   113,
   117,
   120,
   125,
   128,
   135,
   137,
   141,
   143,
   147,
   149,
   153,
   155,
   161,
   175,
   183,
   188,
   192,
   197,
   201,
   206,
   245,
   248,
   252,
   254,
   258,
   260,
   289,
   291,
   295,
   297,
   301,
   303,
   307,
   310,
   317,
   329,
   336,
   338,
   342,
   344,
   348,
   350,
   354,
   356,
   360,
   362,
   366,
   368,
   372,
   374,
   381,
   384,
   388,
   391,
   395,
   397,
   404,
   406,
   410,
   412,
   416,
   418,
   424,
   427,
   431,
   435,
   439,
   443,
   445,
   449,
   451,
   465,
   468,
   472,
   474,
   479,
   481,
   489,
   493,
   497,
   499,
   521,
   529,
   531,
   536,
   538,
   546,
   551,
   554,
   560,
   566,
   569,
   573,
   578,
   581,
   585,
   590,
   595,
   598,
   612,
   620,
   624
  ]
 },
 "nbformat": 4,
 "nbformat_minor": 5
}