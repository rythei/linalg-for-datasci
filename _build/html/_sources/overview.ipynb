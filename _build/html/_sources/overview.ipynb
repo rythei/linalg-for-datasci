{
 "cells": [
  {
   "cell_type": "markdown",
   "id": "civil-volunteer",
   "metadata": {},
   "source": [
    "# Welcome to Stats 89a\n",
    "\n",
    "This is a workbook for Stats 89a 'Linear Algebra for Data' taught by Michael W. Mahoney and N. Benjamin Erichson at the University of California Berkeley in Spring 2021. The goal of this workbook is to help you build intuition for linear algebra and to understand matrix computations useful for data science applications, including data fitting, machine learning and artificial intelligence. \n",
    "\n",
    "Many companies (such as google, Facebook or Microsoft) generate lots of data and linear algebra can be applied to such data to obtain and infer useful information, i.e., manipulating and analyzing large data sets largely relies on linear algebra. We expect that you have little or no prior exposure to linear algebra and in this course you we will learn about vectors, matrices, norms and least squares methods as well as important tools such as the QR decomposition, eigendecompsition and the singular value decomposition. \n",
    "\n",
    "To tackle the computer programming exercises you require some basic knowledge of programming in Python. This course is also concerned with teaching you a little by way of introduction to linear algebra. At the end of this course you should understand how the ideas and methods that you have learned can be used to do practical things like manipulating images, or learning from data.  However, computing is a wide subject, and here we will particularly be concerned with principles and ideas that relate to linear algebra. If your programming skills are a bit rusty you should spent some time to review one of the many great Python tutorials on the web. We also provide you with a brief Python review that you can work through before you start to take this course. \n",
    "\n",
    "## Contributors\n",
    "* Michael W. Mahoney\n",
    "* N. Benjamin Erichson\n",
    "* Ryan Theisen\n",
    "\n",
    "\n",
    "## Table of Contents\n",
    "\n",
    "```{tableofcontents}\n",
    "```\n",
    "\n",
    "\n",
    "\n",
    "\n",
    "\n",
    "\n",
    "\n",
    "\n",
    "```{toctree}\n",
    ":hidden:\n",
    ":titlesonly:\n",
    ":numbered: True\n",
    ":caption: Background\n",
    "\n",
    "00_Background/python_overview\n",
    "```\n",
    "\n",
    "\n",
    "```{toctree}\n",
    ":hidden:\n",
    ":titlesonly:\n",
    ":numbered: True\n",
    ":caption: Introduction and Overview\n",
    "\n",
    "10_Overview/chap1_introduction_header\n",
    "10_Overview/chap2_algebras_header\n",
    "```"
   ]
  }
 ],
 "metadata": {
  "jupytext": {
   "formats": "md:myst",
   "text_representation": {
    "extension": ".md",
    "format_name": "myst"
   }
  },
  "kernelspec": {
   "display_name": "Python 3",
   "language": "python",
   "name": "python3"
  },
  "language_info": {
   "codemirror_mode": {
    "name": "ipython",
    "version": 3
   },
   "file_extension": ".py",
   "mimetype": "text/x-python",
   "name": "python",
   "nbconvert_exporter": "python",
   "pygments_lexer": "ipython3",
   "version": "3.7.7"
  },
  "source_map": [
   11
  ]
 },
 "nbformat": 4,
 "nbformat_minor": 5
}